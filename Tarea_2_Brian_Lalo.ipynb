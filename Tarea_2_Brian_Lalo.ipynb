{
 "cells": [
  {
   "cell_type": "code",
   "execution_count": 3,
   "metadata": {},
   "outputs": [],
   "source": [
    "#Jalar bibliotecas que serán de utilidad para la tarea: \n",
    "import pandas as pd\n",
    "from sklearn.model_selection import train_test_split\n",
    "from sklearn.impute import SimpleImputer\n",
    "from sklearn.preprocessing import OneHotEncoder\n",
    "from sklearn.compose import ColumnTransformer\n",
    "from sklearn.pipeline import Pipeline\n",
    "from sklearn.tree import DecisionTreeClassifier, export_graphviz\n",
    "from sklearn import metrics\n",
    "from pylab import*\n",
    "import seaborn as sns\n",
    "import numpy as np\n",
    "from sklearn.linear_model import LogisticRegression\n",
    "from sklearn.metrics import roc_curve, auc\n",
    "import sqldf\n",
    "import scipy.stats\n",
    "from scipy.special import gamma\n",
    "from scipy.stats import beta\n",
    "from scipy.stats import spearmanr\n",
    "from scipy.stats import ks_2samp\n",
    "import matplotlib.pyplot as plt"
   ]
  },
  {
   "cell_type": "markdown",
   "metadata": {},
   "source": [
    "Jalamos la base de la tarea anterior:"
   ]
  },
  {
   "cell_type": "code",
   "execution_count": 4,
   "metadata": {},
   "outputs": [],
   "source": [
    "base_general=(pd.read_csv(\"./Base_tarea1_chida.csv\")).iloc[:,1:]"
   ]
  },
  {
   "cell_type": "code",
   "execution_count": 3,
   "metadata": {},
   "outputs": [
    {
     "data": {
      "text/html": [
       "<div>\n",
       "<style scoped>\n",
       "    .dataframe tbody tr th:only-of-type {\n",
       "        vertical-align: middle;\n",
       "    }\n",
       "\n",
       "    .dataframe tbody tr th {\n",
       "        vertical-align: top;\n",
       "    }\n",
       "\n",
       "    .dataframe thead th {\n",
       "        text-align: right;\n",
       "    }\n",
       "</style>\n",
       "<table border=\"1\" class=\"dataframe\">\n",
       "  <thead>\n",
       "    <tr style=\"text-align: right;\">\n",
       "      <th></th>\n",
       "      <th>_id_</th>\n",
       "      <th>comp_externo1</th>\n",
       "      <th>comp_externo2</th>\n",
       "      <th>comp_externo3</th>\n",
       "      <th>comp_externo4</th>\n",
       "      <th>fecha_inicio</th>\n",
       "      <th>comp_interno1</th>\n",
       "      <th>comp_interno2</th>\n",
       "      <th>comp_interno3</th>\n",
       "      <th>comp_interno4</th>\n",
       "      <th>...</th>\n",
       "      <th>cantidad_tramites</th>\n",
       "      <th>ultima_fecha</th>\n",
       "      <th>avg(comportamiento_j)</th>\n",
       "      <th>max(comportamiento_j)</th>\n",
       "      <th>cero_meses</th>\n",
       "      <th>uno_o_mas</th>\n",
       "      <th>_id2_</th>\n",
       "      <th>comp_mixto1</th>\n",
       "      <th>inversion</th>\n",
       "      <th>Respuesta</th>\n",
       "    </tr>\n",
       "  </thead>\n",
       "  <tbody>\n",
       "    <tr>\n",
       "      <th>0</th>\n",
       "      <td>1</td>\n",
       "      <td>217.391304</td>\n",
       "      <td>21.545533</td>\n",
       "      <td>102.0</td>\n",
       "      <td>-230.0</td>\n",
       "      <td>2016-03-31</td>\n",
       "      <td>3039.513678</td>\n",
       "      <td>1.0</td>\n",
       "      <td>26.0</td>\n",
       "      <td>67.0</td>\n",
       "      <td>...</td>\n",
       "      <td>1.0</td>\n",
       "      <td>2021-05-01 00:00:00</td>\n",
       "      <td>0.083333</td>\n",
       "      <td>1.0</td>\n",
       "      <td>11.0</td>\n",
       "      <td>1.0</td>\n",
       "      <td>23</td>\n",
       "      <td>0.38000</td>\n",
       "      <td>52.500490</td>\n",
       "      <td>0.0</td>\n",
       "    </tr>\n",
       "    <tr>\n",
       "      <th>1</th>\n",
       "      <td>7</td>\n",
       "      <td>468.115942</td>\n",
       "      <td>21.674806</td>\n",
       "      <td>108.0</td>\n",
       "      <td>-230.0</td>\n",
       "      <td>2016-01-19</td>\n",
       "      <td>1547.112462</td>\n",
       "      <td>1.0</td>\n",
       "      <td>28.0</td>\n",
       "      <td>75.0</td>\n",
       "      <td>...</td>\n",
       "      <td>1.0</td>\n",
       "      <td>2018-05-01 00:00:00</td>\n",
       "      <td>0.166667</td>\n",
       "      <td>1.0</td>\n",
       "      <td>10.0</td>\n",
       "      <td>2.0</td>\n",
       "      <td>161</td>\n",
       "      <td>0.33360</td>\n",
       "      <td>0.047480</td>\n",
       "      <td>1.0</td>\n",
       "    </tr>\n",
       "    <tr>\n",
       "      <th>2</th>\n",
       "      <td>8</td>\n",
       "      <td>371.884058</td>\n",
       "      <td>36.857225</td>\n",
       "      <td>125.0</td>\n",
       "      <td>-230.0</td>\n",
       "      <td>2016-02-10</td>\n",
       "      <td>1215.805471</td>\n",
       "      <td>1.0</td>\n",
       "      <td>14.0</td>\n",
       "      <td>55.0</td>\n",
       "      <td>...</td>\n",
       "      <td>5.0</td>\n",
       "      <td>2021-04-01 00:00:00</td>\n",
       "      <td>0.083333</td>\n",
       "      <td>1.0</td>\n",
       "      <td>11.0</td>\n",
       "      <td>1.0</td>\n",
       "      <td>184</td>\n",
       "      <td>0.27898</td>\n",
       "      <td>227.537211</td>\n",
       "      <td>0.0</td>\n",
       "    </tr>\n",
       "    <tr>\n",
       "      <th>3</th>\n",
       "      <td>9</td>\n",
       "      <td>85.507246</td>\n",
       "      <td>6.274059</td>\n",
       "      <td>105.0</td>\n",
       "      <td>-230.0</td>\n",
       "      <td>2016-02-18</td>\n",
       "      <td>0.000000</td>\n",
       "      <td>1.0</td>\n",
       "      <td>11.0</td>\n",
       "      <td>55.0</td>\n",
       "      <td>...</td>\n",
       "      <td>1.0</td>\n",
       "      <td>2017-04-01 00:00:00</td>\n",
       "      <td>0.000000</td>\n",
       "      <td>0.0</td>\n",
       "      <td>12.0</td>\n",
       "      <td>0.0</td>\n",
       "      <td>207</td>\n",
       "      <td>0.38000</td>\n",
       "      <td>0.921995</td>\n",
       "      <td>0.0</td>\n",
       "    </tr>\n",
       "    <tr>\n",
       "      <th>4</th>\n",
       "      <td>10</td>\n",
       "      <td>72.463768</td>\n",
       "      <td>7.181844</td>\n",
       "      <td>92.0</td>\n",
       "      <td>-230.0</td>\n",
       "      <td>2016-02-18</td>\n",
       "      <td>0.000000</td>\n",
       "      <td>1.0</td>\n",
       "      <td>11.0</td>\n",
       "      <td>56.0</td>\n",
       "      <td>...</td>\n",
       "      <td>1.0</td>\n",
       "      <td>2017-05-01 00:00:00</td>\n",
       "      <td>0.083333</td>\n",
       "      <td>1.0</td>\n",
       "      <td>11.0</td>\n",
       "      <td>1.0</td>\n",
       "      <td>230</td>\n",
       "      <td>0.37050</td>\n",
       "      <td>39.259568</td>\n",
       "      <td>0.0</td>\n",
       "    </tr>\n",
       "  </tbody>\n",
       "</table>\n",
       "<p>5 rows × 23 columns</p>\n",
       "</div>"
      ],
      "text/plain": [
       "   _id_  comp_externo1  comp_externo2  comp_externo3  comp_externo4  \\\n",
       "0     1     217.391304      21.545533          102.0         -230.0   \n",
       "1     7     468.115942      21.674806          108.0         -230.0   \n",
       "2     8     371.884058      36.857225          125.0         -230.0   \n",
       "3     9      85.507246       6.274059          105.0         -230.0   \n",
       "4    10      72.463768       7.181844           92.0         -230.0   \n",
       "\n",
       "  fecha_inicio  comp_interno1  comp_interno2  comp_interno3  comp_interno4  \\\n",
       "0   2016-03-31    3039.513678            1.0           26.0           67.0   \n",
       "1   2016-01-19    1547.112462            1.0           28.0           75.0   \n",
       "2   2016-02-10    1215.805471            1.0           14.0           55.0   \n",
       "3   2016-02-18       0.000000            1.0           11.0           55.0   \n",
       "4   2016-02-18       0.000000            1.0           11.0           56.0   \n",
       "\n",
       "   ...  cantidad_tramites         ultima_fecha  avg(comportamiento_j)  \\\n",
       "0  ...                1.0  2021-05-01 00:00:00               0.083333   \n",
       "1  ...                1.0  2018-05-01 00:00:00               0.166667   \n",
       "2  ...                5.0  2021-04-01 00:00:00               0.083333   \n",
       "3  ...                1.0  2017-04-01 00:00:00               0.000000   \n",
       "4  ...                1.0  2017-05-01 00:00:00               0.083333   \n",
       "\n",
       "   max(comportamiento_j) cero_meses  uno_o_mas  _id2_  comp_mixto1  \\\n",
       "0                    1.0       11.0        1.0     23      0.38000   \n",
       "1                    1.0       10.0        2.0    161      0.33360   \n",
       "2                    1.0       11.0        1.0    184      0.27898   \n",
       "3                    0.0       12.0        0.0    207      0.38000   \n",
       "4                    1.0       11.0        1.0    230      0.37050   \n",
       "\n",
       "    inversion  Respuesta  \n",
       "0   52.500490        0.0  \n",
       "1    0.047480        1.0  \n",
       "2  227.537211        0.0  \n",
       "3    0.921995        0.0  \n",
       "4   39.259568        0.0  \n",
       "\n",
       "[5 rows x 23 columns]"
      ]
     },
     "execution_count": 3,
     "metadata": {},
     "output_type": "execute_result"
    }
   ],
   "source": [
    "base_general.head(5)"
   ]
  },
  {
   "cell_type": "markdown",
   "metadata": {},
   "source": [
    "# MODELO LOGÍSTICO CON WOES\n"
   ]
  },
  {
   "cell_type": "markdown",
   "metadata": {},
   "source": [
    "Jalamos otra librería que será de utilidad:"
   ]
  },
  {
   "cell_type": "code",
   "execution_count": 4,
   "metadata": {},
   "outputs": [
    {
     "name": "stdout",
     "output_type": "stream",
     "text": [
      "Requirement already satisfied: optbinning==0.6 in c:\\users\\leon\\anaconda3\\lib\\site-packages (0.6.0)\n",
      "Requirement already satisfied: pytest in c:\\users\\leon\\anaconda3\\lib\\site-packages (from optbinning==0.6) (5.4.3)\n",
      "Requirement already satisfied: scikit-learn>=0.22.0 in c:\\users\\leon\\anaconda3\\lib\\site-packages (from optbinning==0.6) (0.23.1)\n",
      "Requirement already satisfied: pandas in c:\\users\\leon\\anaconda3\\lib\\site-packages (from optbinning==0.6) (1.0.5)\n",
      "Requirement already satisfied: scipy in c:\\users\\leon\\anaconda3\\lib\\site-packages (from optbinning==0.6) (1.5.0)\n",
      "Requirement already satisfied: matplotlib in c:\\users\\leon\\anaconda3\\lib\\site-packages (from optbinning==0.6) (3.2.2)\n",
      "Requirement already satisfied: coverage in c:\\users\\leon\\anaconda3\\lib\\site-packages (from optbinning==0.6) (6.2)\n",
      "Requirement already satisfied: numpy in c:\\users\\leon\\anaconda3\\lib\\site-packages (from optbinning==0.6) (1.18.5)\n",
      "Requirement already satisfied: ortools>=7.2 in c:\\users\\leon\\anaconda3\\lib\\site-packages (from optbinning==0.6) (9.2.9972)\n",
      "Requirement already satisfied: py>=1.5.0 in c:\\users\\leon\\anaconda3\\lib\\site-packages (from pytest->optbinning==0.6) (1.9.0)\n",
      "Requirement already satisfied: packaging in c:\\users\\leon\\anaconda3\\lib\\site-packages (from pytest->optbinning==0.6) (20.4)\n",
      "Requirement already satisfied: attrs>=17.4.0 in c:\\users\\leon\\anaconda3\\lib\\site-packages (from pytest->optbinning==0.6) (19.3.0)\n",
      "Requirement already satisfied: more-itertools>=4.0.0 in c:\\users\\leon\\anaconda3\\lib\\site-packages (from pytest->optbinning==0.6) (8.4.0)\n",
      "Note: you may need to restart the kernel to use updated packages.Requirement already satisfied: pluggy<1.0,>=0.12 in c:\\users\\leon\\anaconda3\\lib\\site-packages (from pytest->optbinning==0.6) (0.13.1)\n",
      "Requirement already satisfied: wcwidth in c:\\users\\leon\\anaconda3\\lib\\site-packages (from pytest->optbinning==0.6) (0.2.5)\n",
      "Requirement already satisfied: atomicwrites>=1.0 in c:\\users\\leon\\anaconda3\\lib\\site-packages (from pytest->optbinning==0.6) (1.4.0)\n",
      "Requirement already satisfied: colorama in c:\\users\\leon\\anaconda3\\lib\\site-packages (from pytest->optbinning==0.6) (0.4.3)\n",
      "Requirement already satisfied: joblib>=0.11 in c:\\users\\leon\\anaconda3\\lib\\site-packages (from scikit-learn>=0.22.0->optbinning==0.6) (0.16.0)\n",
      "Requirement already satisfied: threadpoolctl>=2.0.0 in c:\\users\\leon\\anaconda3\\lib\\site-packages (from scikit-learn>=0.22.0->optbinning==0.6) (2.1.0)\n",
      "Requirement already satisfied: pytz>=2017.2 in c:\\users\\leon\\anaconda3\\lib\\site-packages (from pandas->optbinning==0.6) (2020.1)\n",
      "Requirement already satisfied: python-dateutil>=2.6.1 in c:\\users\\leon\\anaconda3\\lib\\site-packages (from pandas->optbinning==0.6) (2.8.1)\n",
      "Requirement already satisfied: kiwisolver>=1.0.1 in c:\\users\\leon\\anaconda3\\lib\\site-packages (from matplotlib->optbinning==0.6) (1.2.0)\n",
      "\n",
      "Requirement already satisfied: pyparsing!=2.0.4,!=2.1.2,!=2.1.6,>=2.0.1 in c:\\users\\leon\\anaconda3\\lib\\site-packages (from matplotlib->optbinning==0.6) (2.4.7)\n",
      "Requirement already satisfied: cycler>=0.10 in c:\\users\\leon\\anaconda3\\lib\\site-packages (from matplotlib->optbinning==0.6) (0.10.0)\n",
      "Requirement already satisfied: protobuf>=3.19.1 in c:\\users\\leon\\anaconda3\\lib\\site-packages (from ortools>=7.2->optbinning==0.6) (3.19.1)\n",
      "Requirement already satisfied: absl-py>=0.13 in c:\\users\\leon\\anaconda3\\lib\\site-packages (from ortools>=7.2->optbinning==0.6) (1.0.0)\n",
      "Requirement already satisfied: six in c:\\users\\leon\\anaconda3\\lib\\site-packages (from packaging->pytest->optbinning==0.6) (1.15.0)\n"
     ]
    }
   ],
   "source": [
    "pip install optbinning==0.6"
   ]
  },
  {
   "cell_type": "code",
   "execution_count": 5,
   "metadata": {},
   "outputs": [],
   "source": [
    "from optbinning import OptimalBinning"
   ]
  },
  {
   "cell_type": "markdown",
   "metadata": {},
   "source": [
    "Definimos una lista cuya función será la de construir, junto a otra lista llamada de nuevo, un for que permita aplicar la transformación woe a las covariables elegidas. "
   ]
  },
  {
   "cell_type": "code",
   "execution_count": 6,
   "metadata": {},
   "outputs": [],
   "source": [
    "columnas=list(base_general.columns.values)\n",
    "columnas.remove(\"_id_\")\n",
    "columnas.remove(\"_id2_\")"
   ]
  },
  {
   "cell_type": "code",
   "execution_count": 7,
   "metadata": {},
   "outputs": [
    {
     "data": {
      "text/plain": [
       "['comp_externo1',\n",
       " 'comp_externo2',\n",
       " 'comp_externo3',\n",
       " 'comp_externo4',\n",
       " 'fecha_inicio',\n",
       " 'comp_interno1',\n",
       " 'comp_interno2',\n",
       " 'comp_interno3',\n",
       " 'comp_interno4',\n",
       " 'categoria1',\n",
       " 'categoria2',\n",
       " 'categoria3',\n",
       " 'cantidad_tramites',\n",
       " 'ultima_fecha',\n",
       " 'avg(comportamiento_j)',\n",
       " 'max(comportamiento_j)',\n",
       " 'cero_meses',\n",
       " 'uno_o_mas',\n",
       " 'comp_mixto1',\n",
       " 'inversion',\n",
       " 'Respuesta']"
      ]
     },
     "execution_count": 7,
     "metadata": {},
     "output_type": "execute_result"
    }
   ],
   "source": [
    "columnas"
   ]
  },
  {
   "cell_type": "markdown",
   "metadata": {},
   "source": [
    "Guardamos la respuesta en una variable"
   ]
  },
  {
   "cell_type": "code",
   "execution_count": 8,
   "metadata": {},
   "outputs": [
    {
     "data": {
      "text/plain": [
       "0    0.0\n",
       "1    1.0\n",
       "2    0.0\n",
       "3    0.0\n",
       "4    0.0\n",
       "Name: Respuesta, dtype: float64"
      ]
     },
     "execution_count": 8,
     "metadata": {},
     "output_type": "execute_result"
    }
   ],
   "source": [
    "y=base_general.Respuesta\n",
    "y.head()"
   ]
  },
  {
   "cell_type": "markdown",
   "metadata": {},
   "source": [
    "Establecemos cuáles serán las variables categóricas, ya que de esto depende el tipo de transformación que se aplica para utilizar los woes."
   ]
  },
  {
   "cell_type": "code",
   "execution_count": 9,
   "metadata": {},
   "outputs": [],
   "source": [
    "categoricas=[columnas.remove(\"comp_interno2\"),columnas.remove(\"categoria1\"),columnas.remove(\"categoria2\"),columnas.remove(\"categoria3\")]\n",
    "categoricas=[\"comp_interno2\",\"categoria1\",\"categoria2\",\"categoria3\"]"
   ]
  },
  {
   "cell_type": "markdown",
   "metadata": {},
   "source": [
    "Nos olvidamos de las columnas de respuesta y las covariables que tienen fechas, ya que son datos complicados de trabajar"
   ]
  },
  {
   "cell_type": "code",
   "execution_count": 10,
   "metadata": {},
   "outputs": [],
   "source": [
    "columnas.remove(\"Respuesta\")\n",
    "columnas.remove(\"fecha_inicio\")\n",
    "columnas.remove(\"ultima_fecha\")"
   ]
  },
  {
   "cell_type": "code",
   "execution_count": 11,
   "metadata": {},
   "outputs": [
    {
     "data": {
      "text/plain": [
       "['comp_externo1',\n",
       " 'comp_externo2',\n",
       " 'comp_externo3',\n",
       " 'comp_externo4',\n",
       " 'comp_interno1',\n",
       " 'comp_interno3',\n",
       " 'comp_interno4',\n",
       " 'cantidad_tramites',\n",
       " 'avg(comportamiento_j)',\n",
       " 'max(comportamiento_j)',\n",
       " 'cero_meses',\n",
       " 'uno_o_mas',\n",
       " 'comp_mixto1',\n",
       " 'inversion']"
      ]
     },
     "execution_count": 11,
     "metadata": {},
     "output_type": "execute_result"
    }
   ],
   "source": [
    "columnas"
   ]
  },
  {
   "cell_type": "markdown",
   "metadata": {},
   "source": [
    "Hacemos el tratamiento para hacer intervalos o grupos óptimos"
   ]
  },
  {
   "cell_type": "code",
   "execution_count": 12,
   "metadata": {},
   "outputs": [
    {
     "data": {
      "text/plain": [
       "Index(['_id_', 'comp_externo1', 'comp_externo2', 'comp_externo3',\n",
       "       'comp_externo4', 'fecha_inicio', 'comp_interno1', 'comp_interno2',\n",
       "       'comp_interno3', 'comp_interno4', 'categoria1', 'categoria2',\n",
       "       'categoria3', 'cantidad_tramites', 'ultima_fecha',\n",
       "       'avg(comportamiento_j)', 'max(comportamiento_j)', 'cero_meses',\n",
       "       'uno_o_mas', '_id2_', 'comp_mixto1', 'inversion', 'Respuesta'],\n",
       "      dtype='object')"
      ]
     },
     "execution_count": 12,
     "metadata": {},
     "output_type": "execute_result"
    }
   ],
   "source": [
    "base_general.columns"
   ]
  },
  {
   "cell_type": "code",
   "execution_count": 13,
   "metadata": {},
   "outputs": [],
   "source": [
    "opts=[] \n",
    "denuevo=list(base_general.columns.values)\n",
    "denuevo.remove(\"_id_\")\n",
    "denuevo.remove(\"_id2_\")\n",
    "denuevo.remove(\"Respuesta\")\n",
    "denuevo.remove(\"fecha_inicio\")\n",
    "denuevo.remove(\"ultima_fecha\")\n",
    "for i in denuevo:\n",
    "    if i in columnas:\n",
    "        opts.append(OptimalBinning(name=i, dtype=\"numerical\", solver=\"cp\"))\n",
    "    else:\n",
    "        opts.append(OptimalBinning(name=i, dtype=\"categorical\", solver=\"mip\"))"
   ]
  },
  {
   "cell_type": "code",
   "execution_count": 14,
   "metadata": {},
   "outputs": [
    {
     "data": {
      "text/plain": [
       "[OptimalBinning(name='comp_externo1'),\n",
       " OptimalBinning(name='comp_externo2'),\n",
       " OptimalBinning(name='comp_externo3'),\n",
       " OptimalBinning(name='comp_externo4'),\n",
       " OptimalBinning(name='comp_interno1'),\n",
       " OptimalBinning(dtype='categorical', name='comp_interno2', solver='mip'),\n",
       " OptimalBinning(name='comp_interno3'),\n",
       " OptimalBinning(name='comp_interno4'),\n",
       " OptimalBinning(dtype='categorical', name='categoria1', solver='mip'),\n",
       " OptimalBinning(dtype='categorical', name='categoria2', solver='mip'),\n",
       " OptimalBinning(dtype='categorical', name='categoria3', solver='mip'),\n",
       " OptimalBinning(name='cantidad_tramites'),\n",
       " OptimalBinning(name='avg(comportamiento_j)'),\n",
       " OptimalBinning(name='max(comportamiento_j)'),\n",
       " OptimalBinning(name='cero_meses'),\n",
       " OptimalBinning(name='uno_o_mas'),\n",
       " OptimalBinning(name='comp_mixto1'),\n",
       " OptimalBinning(name='inversion')]"
      ]
     },
     "execution_count": 14,
     "metadata": {},
     "output_type": "execute_result"
    }
   ],
   "source": [
    "opts"
   ]
  },
  {
   "cell_type": "code",
   "execution_count": 61,
   "metadata": {},
   "outputs": [],
   "source": [
    "for i in range(1,len(denuevo)):\n",
    "    opts_B = opts[i].fit(base_general[denuevo[i]],y)"
   ]
  },
  {
   "cell_type": "code",
   "execution_count": 62,
   "metadata": {
    "scrolled": true
   },
   "outputs": [
    {
     "data": {
      "text/plain": [
       "OptimalBinning(name='inversion')"
      ]
     },
     "execution_count": 62,
     "metadata": {},
     "output_type": "execute_result"
    }
   ],
   "source": [
    "opts_B"
   ]
  },
  {
   "cell_type": "markdown",
   "metadata": {},
   "source": [
    "En el siguiente bloque, calculamos los woes asociados a cada uno de los registros de las covariables que podrían ser utilizadas"
   ]
  },
  {
   "cell_type": "code",
   "execution_count": 17,
   "metadata": {},
   "outputs": [],
   "source": [
    "premade=\"woe_\"\n",
    "for i in range(len(denuevo)):\n",
    "    base_general[premade+denuevo[i]]=opts[i].transform(base_general[denuevo[i]], metric=\"woe\")"
   ]
  },
  {
   "cell_type": "code",
   "execution_count": 18,
   "metadata": {},
   "outputs": [
    {
     "data": {
      "text/html": [
       "<div>\n",
       "<style scoped>\n",
       "    .dataframe tbody tr th:only-of-type {\n",
       "        vertical-align: middle;\n",
       "    }\n",
       "\n",
       "    .dataframe tbody tr th {\n",
       "        vertical-align: top;\n",
       "    }\n",
       "\n",
       "    .dataframe thead th {\n",
       "        text-align: right;\n",
       "    }\n",
       "</style>\n",
       "<table border=\"1\" class=\"dataframe\">\n",
       "  <thead>\n",
       "    <tr style=\"text-align: right;\">\n",
       "      <th></th>\n",
       "      <th>_id_</th>\n",
       "      <th>comp_externo1</th>\n",
       "      <th>comp_externo2</th>\n",
       "      <th>comp_externo3</th>\n",
       "      <th>comp_externo4</th>\n",
       "      <th>fecha_inicio</th>\n",
       "      <th>comp_interno1</th>\n",
       "      <th>comp_interno2</th>\n",
       "      <th>comp_interno3</th>\n",
       "      <th>comp_interno4</th>\n",
       "      <th>...</th>\n",
       "      <th>woe_categoria1</th>\n",
       "      <th>woe_categoria2</th>\n",
       "      <th>woe_categoria3</th>\n",
       "      <th>woe_cantidad_tramites</th>\n",
       "      <th>woe_avg(comportamiento_j)</th>\n",
       "      <th>woe_max(comportamiento_j)</th>\n",
       "      <th>woe_cero_meses</th>\n",
       "      <th>woe_uno_o_mas</th>\n",
       "      <th>woe_comp_mixto1</th>\n",
       "      <th>woe_inversion</th>\n",
       "    </tr>\n",
       "  </thead>\n",
       "  <tbody>\n",
       "    <tr>\n",
       "      <th>0</th>\n",
       "      <td>1</td>\n",
       "      <td>217.391304</td>\n",
       "      <td>21.545533</td>\n",
       "      <td>102.0</td>\n",
       "      <td>-230.0</td>\n",
       "      <td>2016-03-31</td>\n",
       "      <td>3039.513678</td>\n",
       "      <td>1.0</td>\n",
       "      <td>26.0</td>\n",
       "      <td>67.0</td>\n",
       "      <td>...</td>\n",
       "      <td>-0.041716</td>\n",
       "      <td>0.046478</td>\n",
       "      <td>0.052546</td>\n",
       "      <td>-0.017563</td>\n",
       "      <td>2.193770</td>\n",
       "      <td>-0.515628</td>\n",
       "      <td>2.188477</td>\n",
       "      <td>1.213295</td>\n",
       "      <td>-0.037843</td>\n",
       "      <td>0.148070</td>\n",
       "    </tr>\n",
       "    <tr>\n",
       "      <th>1</th>\n",
       "      <td>7</td>\n",
       "      <td>468.115942</td>\n",
       "      <td>21.674806</td>\n",
       "      <td>108.0</td>\n",
       "      <td>-230.0</td>\n",
       "      <td>2016-01-19</td>\n",
       "      <td>1547.112462</td>\n",
       "      <td>1.0</td>\n",
       "      <td>28.0</td>\n",
       "      <td>75.0</td>\n",
       "      <td>...</td>\n",
       "      <td>0.010014</td>\n",
       "      <td>-0.028987</td>\n",
       "      <td>-0.057339</td>\n",
       "      <td>-0.017563</td>\n",
       "      <td>-1.450433</td>\n",
       "      <td>-0.515628</td>\n",
       "      <td>-1.010188</td>\n",
       "      <td>-2.502642</td>\n",
       "      <td>0.006583</td>\n",
       "      <td>0.035333</td>\n",
       "    </tr>\n",
       "    <tr>\n",
       "      <th>2</th>\n",
       "      <td>8</td>\n",
       "      <td>371.884058</td>\n",
       "      <td>36.857225</td>\n",
       "      <td>125.0</td>\n",
       "      <td>-230.0</td>\n",
       "      <td>2016-02-10</td>\n",
       "      <td>1215.805471</td>\n",
       "      <td>1.0</td>\n",
       "      <td>14.0</td>\n",
       "      <td>55.0</td>\n",
       "      <td>...</td>\n",
       "      <td>0.015982</td>\n",
       "      <td>0.031439</td>\n",
       "      <td>-0.017651</td>\n",
       "      <td>-0.017563</td>\n",
       "      <td>2.193770</td>\n",
       "      <td>-0.515628</td>\n",
       "      <td>2.188477</td>\n",
       "      <td>1.213295</td>\n",
       "      <td>0.003510</td>\n",
       "      <td>0.028440</td>\n",
       "    </tr>\n",
       "    <tr>\n",
       "      <th>3</th>\n",
       "      <td>9</td>\n",
       "      <td>85.507246</td>\n",
       "      <td>6.274059</td>\n",
       "      <td>105.0</td>\n",
       "      <td>-230.0</td>\n",
       "      <td>2016-02-18</td>\n",
       "      <td>0.000000</td>\n",
       "      <td>1.0</td>\n",
       "      <td>11.0</td>\n",
       "      <td>55.0</td>\n",
       "      <td>...</td>\n",
       "      <td>0.015982</td>\n",
       "      <td>-0.000317</td>\n",
       "      <td>0.098109</td>\n",
       "      <td>-0.017563</td>\n",
       "      <td>1.074232</td>\n",
       "      <td>1.074232</td>\n",
       "      <td>2.118717</td>\n",
       "      <td>1.213295</td>\n",
       "      <td>-0.037843</td>\n",
       "      <td>0.035333</td>\n",
       "    </tr>\n",
       "    <tr>\n",
       "      <th>4</th>\n",
       "      <td>10</td>\n",
       "      <td>72.463768</td>\n",
       "      <td>7.181844</td>\n",
       "      <td>92.0</td>\n",
       "      <td>-230.0</td>\n",
       "      <td>2016-02-18</td>\n",
       "      <td>0.000000</td>\n",
       "      <td>1.0</td>\n",
       "      <td>11.0</td>\n",
       "      <td>56.0</td>\n",
       "      <td>...</td>\n",
       "      <td>0.015982</td>\n",
       "      <td>0.031439</td>\n",
       "      <td>0.098109</td>\n",
       "      <td>-0.017563</td>\n",
       "      <td>2.193770</td>\n",
       "      <td>-0.515628</td>\n",
       "      <td>2.188477</td>\n",
       "      <td>1.213295</td>\n",
       "      <td>-0.011468</td>\n",
       "      <td>0.148070</td>\n",
       "    </tr>\n",
       "  </tbody>\n",
       "</table>\n",
       "<p>5 rows × 41 columns</p>\n",
       "</div>"
      ],
      "text/plain": [
       "   _id_  comp_externo1  comp_externo2  comp_externo3  comp_externo4  \\\n",
       "0     1     217.391304      21.545533          102.0         -230.0   \n",
       "1     7     468.115942      21.674806          108.0         -230.0   \n",
       "2     8     371.884058      36.857225          125.0         -230.0   \n",
       "3     9      85.507246       6.274059          105.0         -230.0   \n",
       "4    10      72.463768       7.181844           92.0         -230.0   \n",
       "\n",
       "  fecha_inicio  comp_interno1  comp_interno2  comp_interno3  comp_interno4  \\\n",
       "0   2016-03-31    3039.513678            1.0           26.0           67.0   \n",
       "1   2016-01-19    1547.112462            1.0           28.0           75.0   \n",
       "2   2016-02-10    1215.805471            1.0           14.0           55.0   \n",
       "3   2016-02-18       0.000000            1.0           11.0           55.0   \n",
       "4   2016-02-18       0.000000            1.0           11.0           56.0   \n",
       "\n",
       "   ...  woe_categoria1  woe_categoria2  woe_categoria3  woe_cantidad_tramites  \\\n",
       "0  ...       -0.041716        0.046478        0.052546              -0.017563   \n",
       "1  ...        0.010014       -0.028987       -0.057339              -0.017563   \n",
       "2  ...        0.015982        0.031439       -0.017651              -0.017563   \n",
       "3  ...        0.015982       -0.000317        0.098109              -0.017563   \n",
       "4  ...        0.015982        0.031439        0.098109              -0.017563   \n",
       "\n",
       "  woe_avg(comportamiento_j)  woe_max(comportamiento_j)  woe_cero_meses  \\\n",
       "0                  2.193770                  -0.515628        2.188477   \n",
       "1                 -1.450433                  -0.515628       -1.010188   \n",
       "2                  2.193770                  -0.515628        2.188477   \n",
       "3                  1.074232                   1.074232        2.118717   \n",
       "4                  2.193770                  -0.515628        2.188477   \n",
       "\n",
       "   woe_uno_o_mas  woe_comp_mixto1  woe_inversion  \n",
       "0       1.213295        -0.037843       0.148070  \n",
       "1      -2.502642         0.006583       0.035333  \n",
       "2       1.213295         0.003510       0.028440  \n",
       "3       1.213295        -0.037843       0.035333  \n",
       "4       1.213295        -0.011468       0.148070  \n",
       "\n",
       "[5 rows x 41 columns]"
      ]
     },
     "execution_count": 18,
     "metadata": {},
     "output_type": "execute_result"
    }
   ],
   "source": [
    "base_general.head()"
   ]
  },
  {
   "cell_type": "code",
   "execution_count": 19,
   "metadata": {},
   "outputs": [
    {
     "data": {
      "text/html": [
       "<div>\n",
       "<style scoped>\n",
       "    .dataframe tbody tr th:only-of-type {\n",
       "        vertical-align: middle;\n",
       "    }\n",
       "\n",
       "    .dataframe tbody tr th {\n",
       "        vertical-align: top;\n",
       "    }\n",
       "\n",
       "    .dataframe thead th {\n",
       "        text-align: right;\n",
       "    }\n",
       "</style>\n",
       "<table border=\"1\" class=\"dataframe\">\n",
       "  <thead>\n",
       "    <tr style=\"text-align: right;\">\n",
       "      <th></th>\n",
       "      <th>Respuesta</th>\n",
       "      <th>woe_comp_externo1</th>\n",
       "      <th>woe_comp_externo2</th>\n",
       "      <th>woe_comp_externo3</th>\n",
       "      <th>woe_comp_externo4</th>\n",
       "      <th>woe_comp_interno1</th>\n",
       "      <th>woe_comp_interno2</th>\n",
       "      <th>woe_comp_interno3</th>\n",
       "      <th>woe_comp_interno4</th>\n",
       "      <th>woe_categoria1</th>\n",
       "      <th>woe_categoria2</th>\n",
       "      <th>woe_categoria3</th>\n",
       "      <th>woe_cantidad_tramites</th>\n",
       "      <th>woe_avg(comportamiento_j)</th>\n",
       "      <th>woe_max(comportamiento_j)</th>\n",
       "      <th>woe_cero_meses</th>\n",
       "      <th>woe_uno_o_mas</th>\n",
       "      <th>woe_comp_mixto1</th>\n",
       "      <th>woe_inversion</th>\n",
       "    </tr>\n",
       "  </thead>\n",
       "  <tbody>\n",
       "    <tr>\n",
       "      <th>0</th>\n",
       "      <td>0.0</td>\n",
       "      <td>0.033506</td>\n",
       "      <td>0.024095</td>\n",
       "      <td>0.002058</td>\n",
       "      <td>-0.002571</td>\n",
       "      <td>-0.064628</td>\n",
       "      <td>-0.014029</td>\n",
       "      <td>-0.005606</td>\n",
       "      <td>-0.009232</td>\n",
       "      <td>-0.041716</td>\n",
       "      <td>0.046478</td>\n",
       "      <td>0.052546</td>\n",
       "      <td>-0.017563</td>\n",
       "      <td>2.193770</td>\n",
       "      <td>-0.515628</td>\n",
       "      <td>2.188477</td>\n",
       "      <td>1.213295</td>\n",
       "      <td>-0.037843</td>\n",
       "      <td>0.148070</td>\n",
       "    </tr>\n",
       "    <tr>\n",
       "      <th>1</th>\n",
       "      <td>1.0</td>\n",
       "      <td>-0.025243</td>\n",
       "      <td>0.024095</td>\n",
       "      <td>0.002058</td>\n",
       "      <td>-0.002571</td>\n",
       "      <td>-0.000031</td>\n",
       "      <td>-0.014029</td>\n",
       "      <td>-0.005606</td>\n",
       "      <td>-0.025755</td>\n",
       "      <td>0.010014</td>\n",
       "      <td>-0.028987</td>\n",
       "      <td>-0.057339</td>\n",
       "      <td>-0.017563</td>\n",
       "      <td>-1.450433</td>\n",
       "      <td>-0.515628</td>\n",
       "      <td>-1.010188</td>\n",
       "      <td>-2.502642</td>\n",
       "      <td>0.006583</td>\n",
       "      <td>0.035333</td>\n",
       "    </tr>\n",
       "    <tr>\n",
       "      <th>2</th>\n",
       "      <td>0.0</td>\n",
       "      <td>0.001982</td>\n",
       "      <td>-0.017438</td>\n",
       "      <td>0.083146</td>\n",
       "      <td>-0.002571</td>\n",
       "      <td>-0.000031</td>\n",
       "      <td>-0.014029</td>\n",
       "      <td>-0.001575</td>\n",
       "      <td>-0.009232</td>\n",
       "      <td>0.015982</td>\n",
       "      <td>0.031439</td>\n",
       "      <td>-0.017651</td>\n",
       "      <td>-0.017563</td>\n",
       "      <td>2.193770</td>\n",
       "      <td>-0.515628</td>\n",
       "      <td>2.188477</td>\n",
       "      <td>1.213295</td>\n",
       "      <td>0.003510</td>\n",
       "      <td>0.028440</td>\n",
       "    </tr>\n",
       "    <tr>\n",
       "      <th>3</th>\n",
       "      <td>0.0</td>\n",
       "      <td>-0.010531</td>\n",
       "      <td>-0.011533</td>\n",
       "      <td>0.002058</td>\n",
       "      <td>-0.002571</td>\n",
       "      <td>0.027520</td>\n",
       "      <td>-0.014029</td>\n",
       "      <td>0.094292</td>\n",
       "      <td>-0.009232</td>\n",
       "      <td>0.015982</td>\n",
       "      <td>-0.000317</td>\n",
       "      <td>0.098109</td>\n",
       "      <td>-0.017563</td>\n",
       "      <td>1.074232</td>\n",
       "      <td>1.074232</td>\n",
       "      <td>2.118717</td>\n",
       "      <td>1.213295</td>\n",
       "      <td>-0.037843</td>\n",
       "      <td>0.035333</td>\n",
       "    </tr>\n",
       "    <tr>\n",
       "      <th>4</th>\n",
       "      <td>0.0</td>\n",
       "      <td>-0.010531</td>\n",
       "      <td>-0.011533</td>\n",
       "      <td>-0.023450</td>\n",
       "      <td>-0.002571</td>\n",
       "      <td>0.027520</td>\n",
       "      <td>-0.014029</td>\n",
       "      <td>0.094292</td>\n",
       "      <td>-0.009232</td>\n",
       "      <td>0.015982</td>\n",
       "      <td>0.031439</td>\n",
       "      <td>0.098109</td>\n",
       "      <td>-0.017563</td>\n",
       "      <td>2.193770</td>\n",
       "      <td>-0.515628</td>\n",
       "      <td>2.188477</td>\n",
       "      <td>1.213295</td>\n",
       "      <td>-0.011468</td>\n",
       "      <td>0.148070</td>\n",
       "    </tr>\n",
       "    <tr>\n",
       "      <th>5</th>\n",
       "      <td>0.0</td>\n",
       "      <td>-0.025243</td>\n",
       "      <td>-0.036159</td>\n",
       "      <td>0.002058</td>\n",
       "      <td>-0.002571</td>\n",
       "      <td>0.027520</td>\n",
       "      <td>-0.014029</td>\n",
       "      <td>-0.001575</td>\n",
       "      <td>-0.009232</td>\n",
       "      <td>0.015982</td>\n",
       "      <td>0.046478</td>\n",
       "      <td>0.022677</td>\n",
       "      <td>-0.017563</td>\n",
       "      <td>2.193770</td>\n",
       "      <td>-0.515628</td>\n",
       "      <td>2.188477</td>\n",
       "      <td>1.213295</td>\n",
       "      <td>0.102773</td>\n",
       "      <td>0.098892</td>\n",
       "    </tr>\n",
       "    <tr>\n",
       "      <th>6</th>\n",
       "      <td>1.0</td>\n",
       "      <td>0.033506</td>\n",
       "      <td>0.082838</td>\n",
       "      <td>0.016225</td>\n",
       "      <td>-0.002571</td>\n",
       "      <td>0.027520</td>\n",
       "      <td>-0.014029</td>\n",
       "      <td>-0.001575</td>\n",
       "      <td>-0.009232</td>\n",
       "      <td>0.015982</td>\n",
       "      <td>-0.066297</td>\n",
       "      <td>-0.017651</td>\n",
       "      <td>-0.017563</td>\n",
       "      <td>-1.450433</td>\n",
       "      <td>-0.515628</td>\n",
       "      <td>-1.010188</td>\n",
       "      <td>-2.621025</td>\n",
       "      <td>-0.011468</td>\n",
       "      <td>0.035333</td>\n",
       "    </tr>\n",
       "    <tr>\n",
       "      <th>7</th>\n",
       "      <td>0.0</td>\n",
       "      <td>0.033506</td>\n",
       "      <td>0.024095</td>\n",
       "      <td>0.083146</td>\n",
       "      <td>-0.002571</td>\n",
       "      <td>0.027520</td>\n",
       "      <td>0.034047</td>\n",
       "      <td>-0.001575</td>\n",
       "      <td>-0.025755</td>\n",
       "      <td>0.015982</td>\n",
       "      <td>-0.000317</td>\n",
       "      <td>-0.017651</td>\n",
       "      <td>-0.017563</td>\n",
       "      <td>1.074232</td>\n",
       "      <td>1.074232</td>\n",
       "      <td>2.118717</td>\n",
       "      <td>1.213295</td>\n",
       "      <td>0.006583</td>\n",
       "      <td>0.035333</td>\n",
       "    </tr>\n",
       "    <tr>\n",
       "      <th>8</th>\n",
       "      <td>0.0</td>\n",
       "      <td>-0.025243</td>\n",
       "      <td>-0.036159</td>\n",
       "      <td>-0.023450</td>\n",
       "      <td>-0.002571</td>\n",
       "      <td>-0.000031</td>\n",
       "      <td>-0.014029</td>\n",
       "      <td>0.094292</td>\n",
       "      <td>-0.009232</td>\n",
       "      <td>0.015982</td>\n",
       "      <td>-0.000317</td>\n",
       "      <td>0.098109</td>\n",
       "      <td>-0.017563</td>\n",
       "      <td>1.074232</td>\n",
       "      <td>1.074232</td>\n",
       "      <td>2.118717</td>\n",
       "      <td>1.213295</td>\n",
       "      <td>-0.011468</td>\n",
       "      <td>0.028440</td>\n",
       "    </tr>\n",
       "    <tr>\n",
       "      <th>9</th>\n",
       "      <td>1.0</td>\n",
       "      <td>-0.010531</td>\n",
       "      <td>-0.011533</td>\n",
       "      <td>0.004096</td>\n",
       "      <td>-0.002571</td>\n",
       "      <td>0.027520</td>\n",
       "      <td>-0.014029</td>\n",
       "      <td>-0.001575</td>\n",
       "      <td>-0.009232</td>\n",
       "      <td>-0.041716</td>\n",
       "      <td>0.046478</td>\n",
       "      <td>0.022677</td>\n",
       "      <td>-0.017563</td>\n",
       "      <td>1.074232</td>\n",
       "      <td>1.074232</td>\n",
       "      <td>-1.010188</td>\n",
       "      <td>1.213295</td>\n",
       "      <td>0.006583</td>\n",
       "      <td>0.028440</td>\n",
       "    </tr>\n",
       "  </tbody>\n",
       "</table>\n",
       "</div>"
      ],
      "text/plain": [
       "   Respuesta  woe_comp_externo1  woe_comp_externo2  woe_comp_externo3  \\\n",
       "0        0.0           0.033506           0.024095           0.002058   \n",
       "1        1.0          -0.025243           0.024095           0.002058   \n",
       "2        0.0           0.001982          -0.017438           0.083146   \n",
       "3        0.0          -0.010531          -0.011533           0.002058   \n",
       "4        0.0          -0.010531          -0.011533          -0.023450   \n",
       "5        0.0          -0.025243          -0.036159           0.002058   \n",
       "6        1.0           0.033506           0.082838           0.016225   \n",
       "7        0.0           0.033506           0.024095           0.083146   \n",
       "8        0.0          -0.025243          -0.036159          -0.023450   \n",
       "9        1.0          -0.010531          -0.011533           0.004096   \n",
       "\n",
       "   woe_comp_externo4  woe_comp_interno1  woe_comp_interno2  woe_comp_interno3  \\\n",
       "0          -0.002571          -0.064628          -0.014029          -0.005606   \n",
       "1          -0.002571          -0.000031          -0.014029          -0.005606   \n",
       "2          -0.002571          -0.000031          -0.014029          -0.001575   \n",
       "3          -0.002571           0.027520          -0.014029           0.094292   \n",
       "4          -0.002571           0.027520          -0.014029           0.094292   \n",
       "5          -0.002571           0.027520          -0.014029          -0.001575   \n",
       "6          -0.002571           0.027520          -0.014029          -0.001575   \n",
       "7          -0.002571           0.027520           0.034047          -0.001575   \n",
       "8          -0.002571          -0.000031          -0.014029           0.094292   \n",
       "9          -0.002571           0.027520          -0.014029          -0.001575   \n",
       "\n",
       "   woe_comp_interno4  woe_categoria1  woe_categoria2  woe_categoria3  \\\n",
       "0          -0.009232       -0.041716        0.046478        0.052546   \n",
       "1          -0.025755        0.010014       -0.028987       -0.057339   \n",
       "2          -0.009232        0.015982        0.031439       -0.017651   \n",
       "3          -0.009232        0.015982       -0.000317        0.098109   \n",
       "4          -0.009232        0.015982        0.031439        0.098109   \n",
       "5          -0.009232        0.015982        0.046478        0.022677   \n",
       "6          -0.009232        0.015982       -0.066297       -0.017651   \n",
       "7          -0.025755        0.015982       -0.000317       -0.017651   \n",
       "8          -0.009232        0.015982       -0.000317        0.098109   \n",
       "9          -0.009232       -0.041716        0.046478        0.022677   \n",
       "\n",
       "   woe_cantidad_tramites  woe_avg(comportamiento_j)  \\\n",
       "0              -0.017563                   2.193770   \n",
       "1              -0.017563                  -1.450433   \n",
       "2              -0.017563                   2.193770   \n",
       "3              -0.017563                   1.074232   \n",
       "4              -0.017563                   2.193770   \n",
       "5              -0.017563                   2.193770   \n",
       "6              -0.017563                  -1.450433   \n",
       "7              -0.017563                   1.074232   \n",
       "8              -0.017563                   1.074232   \n",
       "9              -0.017563                   1.074232   \n",
       "\n",
       "   woe_max(comportamiento_j)  woe_cero_meses  woe_uno_o_mas  woe_comp_mixto1  \\\n",
       "0                  -0.515628        2.188477       1.213295        -0.037843   \n",
       "1                  -0.515628       -1.010188      -2.502642         0.006583   \n",
       "2                  -0.515628        2.188477       1.213295         0.003510   \n",
       "3                   1.074232        2.118717       1.213295        -0.037843   \n",
       "4                  -0.515628        2.188477       1.213295        -0.011468   \n",
       "5                  -0.515628        2.188477       1.213295         0.102773   \n",
       "6                  -0.515628       -1.010188      -2.621025        -0.011468   \n",
       "7                   1.074232        2.118717       1.213295         0.006583   \n",
       "8                   1.074232        2.118717       1.213295        -0.011468   \n",
       "9                   1.074232       -1.010188       1.213295         0.006583   \n",
       "\n",
       "   woe_inversion  \n",
       "0       0.148070  \n",
       "1       0.035333  \n",
       "2       0.028440  \n",
       "3       0.035333  \n",
       "4       0.148070  \n",
       "5       0.098892  \n",
       "6       0.035333  \n",
       "7       0.035333  \n",
       "8       0.028440  \n",
       "9       0.028440  "
      ]
     },
     "execution_count": 19,
     "metadata": {},
     "output_type": "execute_result"
    }
   ],
   "source": [
    "base_woe=base_general.iloc[:,22:]\n",
    "base_woe.head(10)"
   ]
  },
  {
   "cell_type": "markdown",
   "metadata": {},
   "source": [
    "Hacemos la división de los datos en train y test:"
   ]
  },
  {
   "cell_type": "code",
   "execution_count": 20,
   "metadata": {},
   "outputs": [],
   "source": [
    "train,test = train_test_split(base_woe, test_size = 0.30, random_state = 100) "
   ]
  },
  {
   "cell_type": "code",
   "execution_count": 36,
   "metadata": {},
   "outputs": [],
   "source": [
    "X_woe_train=train.iloc[:,1:] \n",
    "y_train=train.Respuesta"
   ]
  },
  {
   "cell_type": "code",
   "execution_count": 37,
   "metadata": {},
   "outputs": [],
   "source": [
    "X_woe_test=test.iloc[:,1:]\n",
    "y_test=test.Respuesta"
   ]
  },
  {
   "cell_type": "markdown",
   "metadata": {},
   "source": [
    "Los siguientes bloques de código nos ayudarán a escoger las covariables con las que vamos a trabajar por medio del _t-test_ de significancia de coeficientes, considerando un nivel $\\alpha=0.05$"
   ]
  },
  {
   "cell_type": "code",
   "execution_count": 23,
   "metadata": {},
   "outputs": [
    {
     "name": "stdout",
     "output_type": "stream",
     "text": [
      "Optimization terminated successfully.\n",
      "         Current function value: 0.305343\n",
      "         Iterations 11\n"
     ]
    }
   ],
   "source": [
    "import statsmodels.api as sm\n",
    "logitmodel=sm.Logit(y_train,sm.add_constant(X_woe_train)).fit()"
   ]
  },
  {
   "cell_type": "code",
   "execution_count": 24,
   "metadata": {},
   "outputs": [
    {
     "name": "stdout",
     "output_type": "stream",
     "text": [
      "                           Logit Regression Results                           \n",
      "==============================================================================\n",
      "Dep. Variable:              Respuesta   No. Observations:                35000\n",
      "Model:                          Logit   Df Residuals:                    34981\n",
      "Method:                           MLE   Df Model:                           18\n",
      "Date:                Thu, 06 Jan 2022   Pseudo R-squ.:                  0.4715\n",
      "Time:                        11:15:53   Log-Likelihood:                -10687.\n",
      "converged:                       True   LL-Null:                       -20220.\n",
      "Covariance Type:            nonrobust   LLR p-value:                     0.000\n",
      "=============================================================================================\n",
      "                                coef    std err          z      P>|z|      [0.025      0.975]\n",
      "---------------------------------------------------------------------------------------------\n",
      "const                        -5.8350      0.712     -8.194      0.000      -7.231      -4.439\n",
      "woe_comp_externo1            -0.9312      0.669     -1.392      0.164      -2.243       0.380\n",
      "woe_comp_externo2            -0.2550      0.723     -0.353      0.724      -1.672       1.162\n",
      "woe_comp_externo3            -0.9733      0.556     -1.751      0.080      -2.063       0.116\n",
      "woe_comp_externo4            -1.3409      2.559     -0.524      0.600      -6.356       3.674\n",
      "woe_comp_interno1            -1.6173      0.264     -6.116      0.000      -2.136      -1.099\n",
      "woe_comp_interno2             0.0685      0.832      0.082      0.934      -1.562       1.699\n",
      "woe_comp_interno3             0.8875      0.806      1.101      0.271      -0.693       2.468\n",
      "woe_comp_interno4             0.6002      0.644      0.932      0.351      -0.662       1.862\n",
      "woe_categoria1               -2.3022      0.781     -2.946      0.003      -3.834      -0.771\n",
      "woe_categoria2               -0.5146      0.725     -0.710      0.478      -1.935       0.906\n",
      "woe_categoria3               -1.2796      0.446     -2.869      0.004      -2.154      -0.405\n",
      "woe_cantidad_tramites      -276.1495     40.544     -6.811      0.000    -355.613    -196.686\n",
      "woe_avg(comportamiento_j)     0.1356      0.023      6.027      0.000       0.092       0.180\n",
      "woe_max(comportamiento_j)    -0.2666      0.029     -9.312      0.000      -0.323      -0.210\n",
      "woe_cero_meses               -0.7537      0.022    -33.696      0.000      -0.798      -0.710\n",
      "woe_uno_o_mas                -0.7393      0.014    -53.906      0.000      -0.766      -0.712\n",
      "woe_comp_mixto1              -1.9000      0.559     -3.401      0.001      -2.995      -0.805\n",
      "woe_inversion                -1.9573      0.088    -22.175      0.000      -2.130      -1.784\n",
      "=============================================================================================\n"
     ]
    }
   ],
   "source": [
    "print(logitmodel.summary())"
   ]
  },
  {
   "cell_type": "code",
   "execution_count": 25,
   "metadata": {},
   "outputs": [
    {
     "data": {
      "text/plain": [
       "const                         2.520213e-16\n",
       "woe_comp_externo1             1.640608e-01\n",
       "woe_comp_externo2             7.244082e-01\n",
       "woe_comp_externo3             7.997405e-02\n",
       "woe_comp_externo4             6.002650e-01\n",
       "woe_comp_interno1             9.575199e-10\n",
       "woe_comp_interno2             9.344010e-01\n",
       "woe_comp_interno3             2.709413e-01\n",
       "woe_comp_interno4             3.513588e-01\n",
       "woe_categoria1                3.218078e-03\n",
       "woe_categoria2                4.776250e-01\n",
       "woe_categoria3                4.117451e-03\n",
       "woe_cantidad_tramites         9.680301e-12\n",
       "woe_avg(comportamiento_j)     1.670461e-09\n",
       "woe_max(comportamiento_j)     1.255394e-20\n",
       "woe_cero_meses               6.659401e-249\n",
       "woe_uno_o_mas                 0.000000e+00\n",
       "woe_comp_mixto1               6.714251e-04\n",
       "woe_inversion                5.997482e-109\n",
       "dtype: float64"
      ]
     },
     "execution_count": 25,
     "metadata": {},
     "output_type": "execute_result"
    }
   ],
   "source": [
    "logitmodel.pvalues"
   ]
  },
  {
   "cell_type": "markdown",
   "metadata": {},
   "source": [
    "El siguiente bloque quita todas aquellas variables cuyo _p-value_ esté por debajo de la $\\alpha$ fijada. Nótese que también se quitaron algunas variables que tenían alta correlación con otras variables (esto último se visualizó en el mapa de calor de correlación que está unos cuantos bloques debajo)"
   ]
  },
  {
   "cell_type": "code",
   "execution_count": 26,
   "metadata": {},
   "outputs": [],
   "source": [
    "quitar=[]\n",
    "nombres=X_woe_train.columns.values\n",
    "for i in range(0,len(logitmodel.pvalues)-1): \n",
    "    if logitmodel.pvalues[i+1]>=0.05:\n",
    "        quitar.append(nombres[i])\n",
    "quitar.append(\"woe_uno_o_mas\")\n",
    "#Por correlación alta:\n",
    "quitar.append(\"woe_avg(comportamiento_j)\")\n",
    "quitar.append(\"woe_cantidad_tramites\")\n",
    "X_woe_trainf=X_woe_train.drop(columns=quitar)"
   ]
  },
  {
   "cell_type": "code",
   "execution_count": 27,
   "metadata": {},
   "outputs": [
    {
     "data": {
      "text/plain": [
       "['woe_comp_externo1',\n",
       " 'woe_comp_externo2',\n",
       " 'woe_comp_externo3',\n",
       " 'woe_comp_externo4',\n",
       " 'woe_comp_interno2',\n",
       " 'woe_comp_interno3',\n",
       " 'woe_comp_interno4',\n",
       " 'woe_categoria2',\n",
       " 'woe_uno_o_mas',\n",
       " 'woe_avg(comportamiento_j)',\n",
       " 'woe_cantidad_tramites']"
      ]
     },
     "execution_count": 27,
     "metadata": {},
     "output_type": "execute_result"
    }
   ],
   "source": [
    "quitar #p-value grande"
   ]
  },
  {
   "cell_type": "code",
   "execution_count": 28,
   "metadata": {},
   "outputs": [
    {
     "data": {
      "text/html": [
       "<div>\n",
       "<style scoped>\n",
       "    .dataframe tbody tr th:only-of-type {\n",
       "        vertical-align: middle;\n",
       "    }\n",
       "\n",
       "    .dataframe tbody tr th {\n",
       "        vertical-align: top;\n",
       "    }\n",
       "\n",
       "    .dataframe thead th {\n",
       "        text-align: right;\n",
       "    }\n",
       "</style>\n",
       "<table border=\"1\" class=\"dataframe\">\n",
       "  <thead>\n",
       "    <tr style=\"text-align: right;\">\n",
       "      <th></th>\n",
       "      <th>woe_comp_interno1</th>\n",
       "      <th>woe_categoria1</th>\n",
       "      <th>woe_categoria3</th>\n",
       "      <th>woe_max(comportamiento_j)</th>\n",
       "      <th>woe_cero_meses</th>\n",
       "      <th>woe_comp_mixto1</th>\n",
       "      <th>woe_inversion</th>\n",
       "    </tr>\n",
       "  </thead>\n",
       "  <tbody>\n",
       "    <tr>\n",
       "      <th>48824</th>\n",
       "      <td>0.027520</td>\n",
       "      <td>0.015982</td>\n",
       "      <td>-0.000653</td>\n",
       "      <td>2.071679</td>\n",
       "      <td>-1.010188</td>\n",
       "      <td>-0.011468</td>\n",
       "      <td>0.035333</td>\n",
       "    </tr>\n",
       "    <tr>\n",
       "      <th>2704</th>\n",
       "      <td>0.027520</td>\n",
       "      <td>-0.041716</td>\n",
       "      <td>-0.017651</td>\n",
       "      <td>-0.515628</td>\n",
       "      <td>2.188477</td>\n",
       "      <td>0.003510</td>\n",
       "      <td>0.035333</td>\n",
       "    </tr>\n",
       "    <tr>\n",
       "      <th>25631</th>\n",
       "      <td>0.027520</td>\n",
       "      <td>0.015982</td>\n",
       "      <td>0.098109</td>\n",
       "      <td>-0.515628</td>\n",
       "      <td>-1.010188</td>\n",
       "      <td>-0.011468</td>\n",
       "      <td>0.035333</td>\n",
       "    </tr>\n",
       "    <tr>\n",
       "      <th>7285</th>\n",
       "      <td>0.027520</td>\n",
       "      <td>0.010014</td>\n",
       "      <td>-0.000653</td>\n",
       "      <td>-0.515628</td>\n",
       "      <td>2.188477</td>\n",
       "      <td>-0.011468</td>\n",
       "      <td>0.035333</td>\n",
       "    </tr>\n",
       "    <tr>\n",
       "      <th>27346</th>\n",
       "      <td>-0.064628</td>\n",
       "      <td>0.010014</td>\n",
       "      <td>0.022677</td>\n",
       "      <td>-0.515628</td>\n",
       "      <td>-1.010188</td>\n",
       "      <td>0.003510</td>\n",
       "      <td>0.035333</td>\n",
       "    </tr>\n",
       "  </tbody>\n",
       "</table>\n",
       "</div>"
      ],
      "text/plain": [
       "       woe_comp_interno1  woe_categoria1  woe_categoria3  \\\n",
       "48824           0.027520        0.015982       -0.000653   \n",
       "2704            0.027520       -0.041716       -0.017651   \n",
       "25631           0.027520        0.015982        0.098109   \n",
       "7285            0.027520        0.010014       -0.000653   \n",
       "27346          -0.064628        0.010014        0.022677   \n",
       "\n",
       "       woe_max(comportamiento_j)  woe_cero_meses  woe_comp_mixto1  \\\n",
       "48824                   2.071679       -1.010188        -0.011468   \n",
       "2704                   -0.515628        2.188477         0.003510   \n",
       "25631                  -0.515628       -1.010188        -0.011468   \n",
       "7285                   -0.515628        2.188477        -0.011468   \n",
       "27346                  -0.515628       -1.010188         0.003510   \n",
       "\n",
       "       woe_inversion  \n",
       "48824       0.035333  \n",
       "2704        0.035333  \n",
       "25631       0.035333  \n",
       "7285        0.035333  \n",
       "27346       0.035333  "
      ]
     },
     "execution_count": 28,
     "metadata": {},
     "output_type": "execute_result"
    }
   ],
   "source": [
    "X_woe_trainf.head()"
   ]
  },
  {
   "cell_type": "code",
   "execution_count": 29,
   "metadata": {},
   "outputs": [
    {
     "data": {
      "image/png": "[encoded data removed]",
      "text/plain": [
       "<Figure size 720x720 with 2 Axes>"
      ]
     },
     "metadata": {
      "needs_background": "light"
     },
     "output_type": "display_data"
    }
   ],
   "source": [
    "corr = X_woe_trainf.corr()\n",
    "\n",
    "\n",
    "xticks = list(corr.index)  \n",
    "yticks = list(corr.index)  \n",
    "fig = plt.figure(figsize=(10,10))\n",
    "ax1 = fig.add_subplot(1, 1, 1)\n",
    "\n",
    "sns.heatmap(corr,annot=True,cmap=\"rainbow\",ax=ax1,linewidths=.5,annot_kws={'size':9,'weight':'bold', 'color':'k'})\n",
    "ax1.set_xticklabels(xticks, rotation=30, fontsize=10)\n",
    "ax1.set_yticklabels(yticks, rotation=0, fontsize=10)\n",
    "plt.show()"
   ]
  },
  {
   "cell_type": "code",
   "execution_count": 30,
   "metadata": {},
   "outputs": [],
   "source": [
    "y_trainw=y_train "
   ]
  },
  {
   "cell_type": "code",
   "execution_count": 31,
   "metadata": {},
   "outputs": [
    {
     "data": {
      "text/plain": [
       "48824    0.0\n",
       "2704     0.0\n",
       "25631    1.0\n",
       "7285     0.0\n",
       "27346    0.0\n",
       "Name: Respuesta, dtype: float64"
      ]
     },
     "execution_count": 31,
     "metadata": {},
     "output_type": "execute_result"
    }
   ],
   "source": [
    "y_trainw.head()"
   ]
  },
  {
   "cell_type": "markdown",
   "metadata": {},
   "source": [
    "A continuación, entrenamos el modelo de Regresión Logística con las covariables significativas y dibujamos la curva ROC asociada a dicho modelo en el set de train."
   ]
  },
  {
   "cell_type": "code",
   "execution_count": 32,
   "metadata": {},
   "outputs": [],
   "source": [
    "model=LogisticRegression()\n",
    "clf=model.fit(X_woe_trainf,y_trainw)"
   ]
  },
  {
   "cell_type": "code",
   "execution_count": 119,
   "metadata": {},
   "outputs": [
    {
     "name": "stdout",
     "output_type": "stream",
     "text": [
      "y_pred\n",
      " [0. 0. 1. ... 1. 1. 0.]\n",
      "y_pred1\n",
      " [-2.31831984 -2.80375716  0.46973778 ...  0.4404719   0.5682112\n",
      " -1.16561807]\n",
      "y_pred_p\n",
      " [[0.91038296 0.08961704]\n",
      " [0.94287852 0.05712148]\n",
      " [0.38467831 0.61532169]\n",
      " ...\n",
      " [0.39162853 0.60837147]\n",
      " [0.36164968 0.63835032]\n",
      " [0.76235205 0.23764795]]\n"
     ]
    },
    {
     "data": {
      "image/png": "[encoded data removed]",
      "text/plain": [
       "<Figure size 432x288 with 1 Axes>"
      ]
     },
     "metadata": {
      "needs_background": "light"
     },
     "output_type": "display_data"
    }
   ],
   "source": [
    "y_pred=clf.predict(X_woe_trainf)\n",
    "y_pred1=clf.decision_function(X_woe_trainf)\n",
    "y_pred_p = clf.predict_proba(X_woe_trainf)\n",
    "print('y_pred\\n',y_pred)\n",
    "print('y_pred1\\n',y_pred1)\n",
    "print('y_pred_p\\n',y_pred_p)\n",
    "#Draw ROC curve and calculate AUC value\n",
    "fpr,tpr,threshold = roc_curve(y_trainw, y_pred1)\n",
    "roc_auc_train = auc(fpr,tpr)\n",
    "plot(fpr,tpr,color='darkorange',\n",
    "         label='ROC curve (area = %0.2f)' % roc_auc)\n",
    "plt.plot([0, 1], [0, 1], color='navy', linestyle='--')\n",
    "plt.xlim([0.0, 1.0])\n",
    "plt.ylim([0.0, 1.0])\n",
    "plt.xlabel('False Positive Rate')\n",
    "plt.ylabel('True Positive Rate')\n",
    "plt.title('ROC_curve')\n",
    "plt.legend(loc=\"lower right\")\n",
    "plt.show()"
   ]
  },
  {
   "cell_type": "code",
   "execution_count": 98,
   "metadata": {},
   "outputs": [
    {
     "ename": "NameError",
     "evalue": "name 'y_testf' is not defined",
     "output_type": "error",
     "traceback": [
      "\u001b[1;31m---------------------------------------------------------------------------\u001b[0m",
      "\u001b[1;31mNameError\u001b[0m                                 Traceback (most recent call last)",
      "\u001b[1;32m<ipython-input-98-a8e39b07959b>\u001b[0m in \u001b[0;36m<module>\u001b[1;34m\u001b[0m\n\u001b[1;32m----> 1\u001b[1;33m \u001b[0my_testf\u001b[0m\u001b[1;33m\u001b[0m\u001b[1;33m\u001b[0m\u001b[0m\n\u001b[0m",
      "\u001b[1;31mNameError\u001b[0m: name 'y_testf' is not defined"
     ]
    }
   ],
   "source": []
  },
  {
   "cell_type": "code",
   "execution_count": 104,
   "metadata": {},
   "outputs": [
    {
     "data": {
      "text/html": [
       "<div>\n",
       "<style scoped>\n",
       "    .dataframe tbody tr th:only-of-type {\n",
       "        vertical-align: middle;\n",
       "    }\n",
       "\n",
       "    .dataframe tbody tr th {\n",
       "        vertical-align: top;\n",
       "    }\n",
       "\n",
       "    .dataframe thead th {\n",
       "        text-align: right;\n",
       "    }\n",
       "</style>\n",
       "<table border=\"1\" class=\"dataframe\">\n",
       "  <thead>\n",
       "    <tr style=\"text-align: right;\">\n",
       "      <th></th>\n",
       "      <th>Respuesta</th>\n",
       "      <th>estimado</th>\n",
       "    </tr>\n",
       "  </thead>\n",
       "  <tbody>\n",
       "    <tr>\n",
       "      <th>48824</th>\n",
       "      <td>0.0</td>\n",
       "      <td>0.089617</td>\n",
       "    </tr>\n",
       "    <tr>\n",
       "      <th>2704</th>\n",
       "      <td>0.0</td>\n",
       "      <td>0.057121</td>\n",
       "    </tr>\n",
       "    <tr>\n",
       "      <th>25631</th>\n",
       "      <td>1.0</td>\n",
       "      <td>0.615322</td>\n",
       "    </tr>\n",
       "    <tr>\n",
       "      <th>7285</th>\n",
       "      <td>0.0</td>\n",
       "      <td>0.053076</td>\n",
       "    </tr>\n",
       "    <tr>\n",
       "      <th>27346</th>\n",
       "      <td>0.0</td>\n",
       "      <td>0.654603</td>\n",
       "    </tr>\n",
       "    <tr>\n",
       "      <th>...</th>\n",
       "      <td>...</td>\n",
       "      <td>...</td>\n",
       "    </tr>\n",
       "    <tr>\n",
       "      <th>16304</th>\n",
       "      <td>0.0</td>\n",
       "      <td>0.045625</td>\n",
       "    </tr>\n",
       "    <tr>\n",
       "      <th>79</th>\n",
       "      <td>0.0</td>\n",
       "      <td>0.074665</td>\n",
       "    </tr>\n",
       "    <tr>\n",
       "      <th>12119</th>\n",
       "      <td>0.0</td>\n",
       "      <td>0.608371</td>\n",
       "    </tr>\n",
       "    <tr>\n",
       "      <th>14147</th>\n",
       "      <td>1.0</td>\n",
       "      <td>0.638350</td>\n",
       "    </tr>\n",
       "    <tr>\n",
       "      <th>38408</th>\n",
       "      <td>0.0</td>\n",
       "      <td>0.237648</td>\n",
       "    </tr>\n",
       "  </tbody>\n",
       "</table>\n",
       "<p>35000 rows × 2 columns</p>\n",
       "</div>"
      ],
      "text/plain": [
       "       Respuesta  estimado\n",
       "48824        0.0  0.089617\n",
       "2704         0.0  0.057121\n",
       "25631        1.0  0.615322\n",
       "7285         0.0  0.053076\n",
       "27346        0.0  0.654603\n",
       "...          ...       ...\n",
       "16304        0.0  0.045625\n",
       "79           0.0  0.074665\n",
       "12119        0.0  0.608371\n",
       "14147        1.0  0.638350\n",
       "38408        0.0  0.237648\n",
       "\n",
       "[35000 rows x 2 columns]"
      ]
     },
     "execution_count": 104,
     "metadata": {},
     "output_type": "execute_result"
    }
   ],
   "source": [
    "#Brian y Lalo: continuen con lo de el Kolmogorov-Smirnov y lo del Gini. Esta línea podría ser de utilidad\n",
    "ks_2samp(y_train,y_pred) #PRUEBA DE DISTRIBUCIONES IGUALES \n",
    "df = y_trainw.to_frame()\n",
    "df[\"estimado\"]=y_pred_p[:,1]\n",
    "df\n",
    "\n"
   ]
  },
  {
   "cell_type": "code",
   "execution_count": 81,
   "metadata": {},
   "outputs": [
    {
     "data": {
      "image/png": "[encoded data removed]",
      "text/plain": [
       "<Figure size 432x288 with 1 Axes>"
      ]
     },
     "metadata": {
      "needs_background": "light"
     },
     "output_type": "display_data"
    }
   ],
   "source": [
    "#Histograma de los \"buenos\"\n",
    "hist(df[df[\"Respuesta\"]==1.0][\"estimado\"],color=\"red\")\n",
    "show()"
   ]
  },
  {
   "cell_type": "code",
   "execution_count": 82,
   "metadata": {},
   "outputs": [
    {
     "data": {
      "image/png": "[encoded data removed]",
      "text/plain": [
       "<Figure size 432x288 with 1 Axes>"
      ]
     },
     "metadata": {
      "needs_background": "light"
     },
     "output_type": "display_data"
    }
   ],
   "source": [
    "#Histograma de los \"malos\" \n",
    "hist(df[df[\"Respuesta\"]==0.0][\"estimado\"],color=\"red\")\n",
    "show()"
   ]
  },
  {
   "cell_type": "code",
   "execution_count": 83,
   "metadata": {},
   "outputs": [
    {
     "data": {
      "text/plain": [
       "<bound method NDFrame.head of        Respuesta  estimado       Rangos_prob\n",
       "48824        0.0  0.089617  (0.0603, 0.0961]\n",
       "2704         0.0  0.057121  (0.0548, 0.0603]\n",
       "25631        1.0  0.615322    (0.279, 0.621]\n",
       "7285         0.0  0.053076  (0.0517, 0.0548]\n",
       "27346        0.0  0.654603     (0.65, 0.668]\n",
       "...          ...       ...               ...\n",
       "16304        0.0  0.045625  (0.0116, 0.0471]\n",
       "79           0.0  0.074665  (0.0603, 0.0961]\n",
       "12119        0.0  0.608371    (0.279, 0.621]\n",
       "14147        1.0  0.638350     (0.621, 0.64]\n",
       "38408        0.0  0.237648    (0.228, 0.279]\n",
       "\n",
       "[35000 rows x 3 columns]>"
      ]
     },
     "execution_count": 83,
     "metadata": {},
     "output_type": "execute_result"
    }
   ],
   "source": [
    "#Particion de intervalos\n",
    "df[\"Rangos_prob\"]=pd.qcut(df.estimado, 15)\n",
    "df.head"
   ]
  },
  {
   "cell_type": "code",
   "execution_count": 85,
   "metadata": {
    "scrolled": true
   },
   "outputs": [
    {
     "data": {
      "text/html": [
       "<div>\n",
       "<style scoped>\n",
       "    .dataframe tbody tr th:only-of-type {\n",
       "        vertical-align: middle;\n",
       "    }\n",
       "\n",
       "    .dataframe tbody tr th {\n",
       "        vertical-align: top;\n",
       "    }\n",
       "\n",
       "    .dataframe thead th {\n",
       "        text-align: right;\n",
       "    }\n",
       "</style>\n",
       "<table border=\"1\" class=\"dataframe\">\n",
       "  <thead>\n",
       "    <tr style=\"text-align: right;\">\n",
       "      <th></th>\n",
       "      <th></th>\n",
       "      <th>estimado</th>\n",
       "    </tr>\n",
       "    <tr>\n",
       "      <th>Respuesta</th>\n",
       "      <th>Rangos_prob</th>\n",
       "      <th></th>\n",
       "    </tr>\n",
       "  </thead>\n",
       "  <tbody>\n",
       "    <tr>\n",
       "      <th rowspan=\"15\" valign=\"top\">0.0</th>\n",
       "      <th>(0.0017200000000000002, 0.00954]</th>\n",
       "      <td>2332</td>\n",
       "    </tr>\n",
       "    <tr>\n",
       "      <th>(0.00954, 0.0103]</th>\n",
       "      <td>2347</td>\n",
       "    </tr>\n",
       "    <tr>\n",
       "      <th>(0.0103, 0.0116]</th>\n",
       "      <td>2313</td>\n",
       "    </tr>\n",
       "    <tr>\n",
       "      <th>(0.0116, 0.0471]</th>\n",
       "      <td>2091</td>\n",
       "    </tr>\n",
       "    <tr>\n",
       "      <th>(0.0471, 0.0517]</th>\n",
       "      <td>2301</td>\n",
       "    </tr>\n",
       "    <tr>\n",
       "      <th>(0.0517, 0.0548]</th>\n",
       "      <td>2311</td>\n",
       "    </tr>\n",
       "    <tr>\n",
       "      <th>(0.0548, 0.0603]</th>\n",
       "      <td>2316</td>\n",
       "    </tr>\n",
       "    <tr>\n",
       "      <th>(0.0603, 0.0961]</th>\n",
       "      <td>2216</td>\n",
       "    </tr>\n",
       "    <tr>\n",
       "      <th>(0.0961, 0.228]</th>\n",
       "      <td>1841</td>\n",
       "    </tr>\n",
       "    <tr>\n",
       "      <th>(0.228, 0.279]</th>\n",
       "      <td>1725</td>\n",
       "    </tr>\n",
       "    <tr>\n",
       "      <th>(0.279, 0.621]</th>\n",
       "      <td>805</td>\n",
       "    </tr>\n",
       "    <tr>\n",
       "      <th>(0.621, 0.64]</th>\n",
       "      <td>681</td>\n",
       "    </tr>\n",
       "    <tr>\n",
       "      <th>(0.64, 0.65]</th>\n",
       "      <td>647</td>\n",
       "    </tr>\n",
       "    <tr>\n",
       "      <th>(0.65, 0.668]</th>\n",
       "      <td>683</td>\n",
       "    </tr>\n",
       "    <tr>\n",
       "      <th>(0.668, 0.923]</th>\n",
       "      <td>1133</td>\n",
       "    </tr>\n",
       "    <tr>\n",
       "      <th rowspan=\"15\" valign=\"top\">1.0</th>\n",
       "      <th>(0.0017200000000000002, 0.00954]</th>\n",
       "      <td>2</td>\n",
       "    </tr>\n",
       "    <tr>\n",
       "      <th>(0.00954, 0.0103]</th>\n",
       "      <td>2</td>\n",
       "    </tr>\n",
       "    <tr>\n",
       "      <th>(0.0103, 0.0116]</th>\n",
       "      <td>9</td>\n",
       "    </tr>\n",
       "    <tr>\n",
       "      <th>(0.0116, 0.0471]</th>\n",
       "      <td>241</td>\n",
       "    </tr>\n",
       "    <tr>\n",
       "      <th>(0.0471, 0.0517]</th>\n",
       "      <td>32</td>\n",
       "    </tr>\n",
       "    <tr>\n",
       "      <th>(0.0517, 0.0548]</th>\n",
       "      <td>21</td>\n",
       "    </tr>\n",
       "    <tr>\n",
       "      <th>(0.0548, 0.0603]</th>\n",
       "      <td>31</td>\n",
       "    </tr>\n",
       "    <tr>\n",
       "      <th>(0.0603, 0.0961]</th>\n",
       "      <td>102</td>\n",
       "    </tr>\n",
       "    <tr>\n",
       "      <th>(0.0961, 0.228]</th>\n",
       "      <td>492</td>\n",
       "    </tr>\n",
       "    <tr>\n",
       "      <th>(0.228, 0.279]</th>\n",
       "      <td>609</td>\n",
       "    </tr>\n",
       "    <tr>\n",
       "      <th>(0.279, 0.621]</th>\n",
       "      <td>1541</td>\n",
       "    </tr>\n",
       "    <tr>\n",
       "      <th>(0.621, 0.64]</th>\n",
       "      <td>1641</td>\n",
       "    </tr>\n",
       "    <tr>\n",
       "      <th>(0.64, 0.65]</th>\n",
       "      <td>1730</td>\n",
       "    </tr>\n",
       "    <tr>\n",
       "      <th>(0.65, 0.668]</th>\n",
       "      <td>1617</td>\n",
       "    </tr>\n",
       "    <tr>\n",
       "      <th>(0.668, 0.923]</th>\n",
       "      <td>1188</td>\n",
       "    </tr>\n",
       "  </tbody>\n",
       "</table>\n",
       "</div>"
      ],
      "text/plain": [
       "                                            estimado\n",
       "Respuesta Rangos_prob                               \n",
       "0.0       (0.0017200000000000002, 0.00954]      2332\n",
       "          (0.00954, 0.0103]                     2347\n",
       "          (0.0103, 0.0116]                      2313\n",
       "          (0.0116, 0.0471]                      2091\n",
       "          (0.0471, 0.0517]                      2301\n",
       "          (0.0517, 0.0548]                      2311\n",
       "          (0.0548, 0.0603]                      2316\n",
       "          (0.0603, 0.0961]                      2216\n",
       "          (0.0961, 0.228]                       1841\n",
       "          (0.228, 0.279]                        1725\n",
       "          (0.279, 0.621]                         805\n",
       "          (0.621, 0.64]                          681\n",
       "          (0.64, 0.65]                           647\n",
       "          (0.65, 0.668]                          683\n",
       "          (0.668, 0.923]                        1133\n",
       "1.0       (0.0017200000000000002, 0.00954]         2\n",
       "          (0.00954, 0.0103]                        2\n",
       "          (0.0103, 0.0116]                         9\n",
       "          (0.0116, 0.0471]                       241\n",
       "          (0.0471, 0.0517]                        32\n",
       "          (0.0517, 0.0548]                        21\n",
       "          (0.0548, 0.0603]                        31\n",
       "          (0.0603, 0.0961]                       102\n",
       "          (0.0961, 0.228]                        492\n",
       "          (0.228, 0.279]                         609\n",
       "          (0.279, 0.621]                        1541\n",
       "          (0.621, 0.64]                         1641\n",
       "          (0.64, 0.65]                          1730\n",
       "          (0.65, 0.668]                         1617\n",
       "          (0.668, 0.923]                        1188"
      ]
     },
     "execution_count": 85,
     "metadata": {},
     "output_type": "execute_result"
    }
   ],
   "source": [
    "df.groupby([\"Respuesta\",\"Rangos_prob\"]).count()"
   ]
  },
  {
   "cell_type": "code",
   "execution_count": 88,
   "metadata": {},
   "outputs": [],
   "source": [
    "#PAQUETE\n",
    "from statsmodels.distributions.empirical_distribution import ECDF\n"
   ]
  },
  {
   "cell_type": "code",
   "execution_count": 92,
   "metadata": {},
   "outputs": [],
   "source": [
    "#KS\n",
    "ecdf_malos=ECDF(df.loc[df.Respuesta == 1.0, \"estimado\"])\n",
    "ecdf_buenos=ECDF(df.loc[df.Respuesta == 0.0, \"estimado\"])\n",
    "grid_score=np.sort(df.estimado.unique())\n",
    "prob_acum_buenos = ecdf_buenos(grid_score)\n",
    "prob_acum_malos = ecdf_malos(grid_score)"
   ]
  },
  {
   "cell_type": "code",
   "execution_count": 93,
   "metadata": {},
   "outputs": [
    {
     "data": {
      "text/plain": [
       "0.6879244041178412"
      ]
     },
     "execution_count": 93,
     "metadata": {},
     "output_type": "execute_result"
    }
   ],
   "source": [
    "abs_dif = np.abs(prob_acum_buenos - prob_acum_malos)\n",
    "KS = np.max(abs_dif)\n",
    "KS"
   ]
  },
  {
   "cell_type": "code",
   "execution_count": 95,
   "metadata": {},
   "outputs": [
    {
     "ename": "TypeError",
     "evalue": "'list' object is not callable",
     "output_type": "error",
     "traceback": [
      "\u001b[1;31m---------------------------------------------------------------------------\u001b[0m",
      "\u001b[1;31mTypeError\u001b[0m                                 Traceback (most recent call last)",
      "\u001b[1;32m<ipython-input-95-9212d7c33af1>\u001b[0m in \u001b[0;36m<module>\u001b[1;34m\u001b[0m\n\u001b[0;32m      4\u001b[0m \u001b[0mplot\u001b[0m\u001b[1;33m(\u001b[0m\u001b[0mgrid_score\u001b[0m\u001b[1;33m,\u001b[0m\u001b[0mprob_acum_buenos\u001b[0m\u001b[1;33m,\u001b[0m\u001b[0mcolor\u001b[0m \u001b[1;33m=\u001b[0m\u001b[1;34m\"blue\"\u001b[0m \u001b[1;33m,\u001b[0m \u001b[0mlinewidth\u001b[0m \u001b[1;33m=\u001b[0m \u001b[1;36m4\u001b[0m\u001b[1;33m)\u001b[0m\u001b[1;33m\u001b[0m\u001b[1;33m\u001b[0m\u001b[0m\n\u001b[0;32m      5\u001b[0m \u001b[0mplot\u001b[0m\u001b[1;33m(\u001b[0m\u001b[0mgrid_score\u001b[0m\u001b[1;33m,\u001b[0m\u001b[0mprob_acum_malos\u001b[0m\u001b[1;33m,\u001b[0m\u001b[0mcolor\u001b[0m \u001b[1;33m=\u001b[0m\u001b[1;34m\"red\"\u001b[0m \u001b[1;33m,\u001b[0m \u001b[0mlinewidth\u001b[0m \u001b[1;33m=\u001b[0m \u001b[1;36m4\u001b[0m\u001b[1;33m)\u001b[0m\u001b[1;33m\u001b[0m\u001b[1;33m\u001b[0m\u001b[0m\n\u001b[1;32m----> 6\u001b[1;33m \u001b[0mxticks\u001b[0m\u001b[1;33m(\u001b[0m\u001b[0mfontsize\u001b[0m \u001b[1;33m=\u001b[0m \u001b[1;36m16\u001b[0m\u001b[1;33m)\u001b[0m\u001b[1;33m\u001b[0m\u001b[1;33m\u001b[0m\u001b[0m\n\u001b[0m\u001b[0;32m      7\u001b[0m \u001b[0myticks\u001b[0m\u001b[1;33m(\u001b[0m\u001b[0mfontsize\u001b[0m \u001b[1;33m=\u001b[0m \u001b[1;36m16\u001b[0m\u001b[1;33m)\u001b[0m\u001b[1;33m\u001b[0m\u001b[1;33m\u001b[0m\u001b[0m\n\u001b[0;32m      8\u001b[0m \u001b[0mshow\u001b[0m\u001b[1;33m(\u001b[0m\u001b[1;33m)\u001b[0m\u001b[1;33m\u001b[0m\u001b[1;33m\u001b[0m\u001b[0m\n",
      "\u001b[1;31mTypeError\u001b[0m: 'list' object is not callable"
     ]
    },
    {
     "data": {
      "image/png": "[encoded data removed]",
      "text/plain": [
       "<Figure size 576x360 with 1 Axes>"
      ]
     },
     "metadata": {
      "needs_background": "light"
     },
     "output_type": "display_data"
    }
   ],
   "source": [
    "fig, ax =plt.subplots(figsize=(8,5))\n",
    "\n",
    "ax.set_title(f\"Kolmogorov ~ Smirnov: {KS:.3%}\",fontsize=16)\n",
    "plot(grid_score,prob_acum_buenos,color =\"blue\" , linewidth = 4)\n",
    "plot(grid_score,prob_acum_malos,color =\"red\" , linewidth = 4)\n",
    "xticks(fontsize = 16)\n",
    "yticks(fontsize = 16)\n",
    "show()"
   ]
  },
  {
   "cell_type": "code",
   "execution_count": 100,
   "metadata": {},
   "outputs": [
    {
     "ename": "SyntaxError",
     "evalue": "invalid syntax (<ipython-input-100-bb0e3259da7b>, line 1)",
     "output_type": "error",
     "traceback": [
      "\u001b[1;36m  File \u001b[1;32m\"<ipython-input-100-bb0e3259da7b>\"\u001b[1;36m, line \u001b[1;32m1\u001b[0m\n\u001b[1;33m    Ahora vamos a crear una tabla para observar porcentaje de buenos y malos para poder construir un ks,\u001b[0m\n\u001b[1;37m          ^\u001b[0m\n\u001b[1;31mSyntaxError\u001b[0m\u001b[1;31m:\u001b[0m invalid syntax\n"
     ]
    }
   ],
   "source": [
    "Ahora vamos a crear una tabla para observar porcentaje de buenos y malos para poder construir un ks,\n",
    "con la muestra de entrenamiento."
   ]
  },
  {
   "cell_type": "code",
   "execution_count": 101,
   "metadata": {},
   "outputs": [
    {
     "data": {
      "text/plain": [
       "array([0., 0., 1., ..., 1., 1., 0.])"
      ]
     },
     "execution_count": 101,
     "metadata": {},
     "output_type": "execute_result"
    }
   ],
   "source": [
    "y_pred"
   ]
  },
  {
   "cell_type": "markdown",
   "metadata": {},
   "source": [
    "Ahora calculamos la curva Roc en el set de test usando, evidentemente, las variables significativas."
   ]
  },
  {
   "cell_type": "code",
   "execution_count": 102,
   "metadata": {},
   "outputs": [],
   "source": [
    "quitar=[]\n",
    "nombres=X_woe_train.columns.values\n",
    "for i in range(0,len(logitmodel.pvalues)-1): \n",
    "    if logitmodel.pvalues[i+1]>=0.05:\n",
    "        quitar.append(nombres[i])\n",
    "quitar.append(\"woe_uno_o_mas\")  \n",
    "quitar.append(\"woe_avg(comportamiento_j)\")\n",
    "quitar.append(\"woe_cantidad_tramites\")\n",
    "X_woe_testf=X_woe_test.drop(columns=quitar)"
   ]
  },
  {
   "cell_type": "code",
   "execution_count": 121,
   "metadata": {},
   "outputs": [
    {
     "name": "stdout",
     "output_type": "stream",
     "text": [
      "y_pred\n",
      " [0. 0. 0. ... 0. 0. 1.]\n",
      "y_pred1\n",
      " [-2.94213226 -4.56463311 -1.30123621 ... -4.60343872 -2.28292329\n",
      "  0.8748023 ]\n",
      "y_pred_p_test\n",
      " [[0.94989032 0.05010968]\n",
      " [0.98969363 0.01030637]\n",
      " [0.78604296 0.21395704]\n",
      " ...\n",
      " [0.99008202 0.00991798]\n",
      " [0.90745284 0.09254716]\n",
      " [0.29425603 0.70574397]]\n"
     ]
    },
    {
     "data": {
      "image/png": "[encoded data removed]",
      "text/plain": [
       "<Figure size 432x288 with 1 Axes>"
      ]
     },
     "metadata": {
      "needs_background": "light"
     },
     "output_type": "display_data"
    }
   ],
   "source": [
    "y_pred=clf.predict(X_woe_testf)\n",
    "y_pred1=clf.decision_function(X_woe_testf)\n",
    "y_pred_p_test = clf.predict_proba(X_woe_testf)\n",
    "print('y_pred\\n',y_pred)\n",
    "print('y_pred1\\n',y_pred1)\n",
    "print('y_pred_p_test\\n',y_pred_p_test)\n",
    "#Draw ROC curve and calculate AUC value\n",
    "fpr,tpr,threshold = roc_curve(y_test, y_pred1)\n",
    "roc_auc_test = auc(fpr,tpr)\n",
    "plot(fpr,tpr,color='darkorange',\n",
    "         label='ROC curve (area = %0.2f)' % roc_auc)\n",
    "plt.plot([0, 1], [0, 1], color='navy', linestyle='--')\n",
    "plt.xlim([0.0, 1.0])\n",
    "plt.ylim([0.0, 1.0])\n",
    "plt.xlabel('False Positive Rate')\n",
    "plt.ylabel('True Positive Rate')\n",
    "plt.title('ROC_curve')\n",
    "plt.legend(loc=\"lower right\")\n",
    "plt.show()"
   ]
  },
  {
   "cell_type": "markdown",
   "metadata": {},
   "source": [
    "Definimos una base que será de utilidad más tarde..."
   ]
  },
  {
   "cell_type": "code",
   "execution_count": null,
   "metadata": {},
   "outputs": [],
   "source": [
    "base_woep=base_woe.drop(columns=quitar)"
   ]
  },
  {
   "cell_type": "code",
   "execution_count": 107,
   "metadata": {},
   "outputs": [
    {
     "data": {
      "text/html": [
       "<div>\n",
       "<style scoped>\n",
       "    .dataframe tbody tr th:only-of-type {\n",
       "        vertical-align: middle;\n",
       "    }\n",
       "\n",
       "    .dataframe tbody tr th {\n",
       "        vertical-align: top;\n",
       "    }\n",
       "\n",
       "    .dataframe thead th {\n",
       "        text-align: right;\n",
       "    }\n",
       "</style>\n",
       "<table border=\"1\" class=\"dataframe\">\n",
       "  <thead>\n",
       "    <tr style=\"text-align: right;\">\n",
       "      <th></th>\n",
       "      <th>Respuesta</th>\n",
       "      <th>estimado</th>\n",
       "    </tr>\n",
       "  </thead>\n",
       "  <tbody>\n",
       "    <tr>\n",
       "      <th>4253</th>\n",
       "      <td>0.0</td>\n",
       "      <td>0.050110</td>\n",
       "    </tr>\n",
       "    <tr>\n",
       "      <th>30076</th>\n",
       "      <td>0.0</td>\n",
       "      <td>0.010306</td>\n",
       "    </tr>\n",
       "    <tr>\n",
       "      <th>48047</th>\n",
       "      <td>0.0</td>\n",
       "      <td>0.213957</td>\n",
       "    </tr>\n",
       "    <tr>\n",
       "      <th>1666</th>\n",
       "      <td>0.0</td>\n",
       "      <td>0.056002</td>\n",
       "    </tr>\n",
       "    <tr>\n",
       "      <th>30740</th>\n",
       "      <td>0.0</td>\n",
       "      <td>0.055055</td>\n",
       "    </tr>\n",
       "    <tr>\n",
       "      <th>...</th>\n",
       "      <td>...</td>\n",
       "      <td>...</td>\n",
       "    </tr>\n",
       "    <tr>\n",
       "      <th>24718</th>\n",
       "      <td>1.0</td>\n",
       "      <td>0.628349</td>\n",
       "    </tr>\n",
       "    <tr>\n",
       "      <th>28544</th>\n",
       "      <td>1.0</td>\n",
       "      <td>0.668652</td>\n",
       "    </tr>\n",
       "    <tr>\n",
       "      <th>37929</th>\n",
       "      <td>0.0</td>\n",
       "      <td>0.009918</td>\n",
       "    </tr>\n",
       "    <tr>\n",
       "      <th>34814</th>\n",
       "      <td>0.0</td>\n",
       "      <td>0.092547</td>\n",
       "    </tr>\n",
       "    <tr>\n",
       "      <th>25776</th>\n",
       "      <td>1.0</td>\n",
       "      <td>0.705744</td>\n",
       "    </tr>\n",
       "  </tbody>\n",
       "</table>\n",
       "<p>15000 rows × 2 columns</p>\n",
       "</div>"
      ],
      "text/plain": [
       "       Respuesta  estimado\n",
       "4253         0.0  0.050110\n",
       "30076        0.0  0.010306\n",
       "48047        0.0  0.213957\n",
       "1666         0.0  0.056002\n",
       "30740        0.0  0.055055\n",
       "...          ...       ...\n",
       "24718        1.0  0.628349\n",
       "28544        1.0  0.668652\n",
       "37929        0.0  0.009918\n",
       "34814        0.0  0.092547\n",
       "25776        1.0  0.705744\n",
       "\n",
       "[15000 rows x 2 columns]"
      ]
     },
     "execution_count": 107,
     "metadata": {},
     "output_type": "execute_result"
    }
   ],
   "source": [
    "ks_2samp(y_test,y_pred)\n",
    "df_test = y_test.to_frame()\n",
    "df_test[\"estimado\"]=y_pred_p_test[:,1]\n",
    "df_test\n",
    "\n"
   ]
  },
  {
   "cell_type": "code",
   "execution_count": 108,
   "metadata": {},
   "outputs": [
    {
     "data": {
      "image/png": "[encoded data removed]",
      "text/plain": [
       "<Figure size 432x288 with 1 Axes>"
      ]
     },
     "metadata": {
      "needs_background": "light"
     },
     "output_type": "display_data"
    }
   ],
   "source": [
    "#Histograma de los \"buenos\"\n",
    "hist(df_test[df_test[\"Respuesta\"]==1.0][\"estimado\"],color=\"red\")\n",
    "show()"
   ]
  },
  {
   "cell_type": "code",
   "execution_count": 109,
   "metadata": {},
   "outputs": [
    {
     "data": {
      "image/png": "[encoded data removed]",
      "text/plain": [
       "<Figure size 432x288 with 1 Axes>"
      ]
     },
     "metadata": {
      "needs_background": "light"
     },
     "output_type": "display_data"
    }
   ],
   "source": [
    "#Histograma de los \"buenos\"\n",
    "hist(df_test[df_test[\"Respuesta\"]==0.0][\"estimado\"],color=\"red\")\n",
    "show()"
   ]
  },
  {
   "cell_type": "code",
   "execution_count": 114,
   "metadata": {},
   "outputs": [
    {
     "data": {
      "text/plain": [
       "<bound method NDFrame.head of        Respuesta  estimado        Rangos_prob\n",
       "4253         0.0  0.050110   (0.0487, 0.0561]\n",
       "30076        0.0  0.010306  (0.00515, 0.0104]\n",
       "48047        0.0  0.213957     (0.211, 0.609]\n",
       "1666         0.0  0.056002   (0.0487, 0.0561]\n",
       "30740        0.0  0.055055   (0.0487, 0.0561]\n",
       "...          ...       ...                ...\n",
       "24718        1.0  0.628349     (0.609, 0.649]\n",
       "28544        1.0  0.668652     (0.649, 0.925]\n",
       "37929        0.0  0.009918  (0.00515, 0.0104]\n",
       "34814        0.0  0.092547    (0.0561, 0.211]\n",
       "25776        1.0  0.705744     (0.649, 0.925]\n",
       "\n",
       "[15000 rows x 3 columns]>"
      ]
     },
     "execution_count": 114,
     "metadata": {},
     "output_type": "execute_result"
    }
   ],
   "source": [
    "#Particion de intervalos\n",
    "df_test[\"Rangos_prob\"]=pd.qcut(df_test.estimado, 7) #7 intervalos para no tener intervalos donde no se asignan probabilidades\n",
    "df_test.head"
   ]
  },
  {
   "cell_type": "code",
   "execution_count": 115,
   "metadata": {},
   "outputs": [
    {
     "data": {
      "text/html": [
       "<div>\n",
       "<style scoped>\n",
       "    .dataframe tbody tr th:only-of-type {\n",
       "        vertical-align: middle;\n",
       "    }\n",
       "\n",
       "    .dataframe tbody tr th {\n",
       "        vertical-align: top;\n",
       "    }\n",
       "\n",
       "    .dataframe thead th {\n",
       "        text-align: right;\n",
       "    }\n",
       "</style>\n",
       "<table border=\"1\" class=\"dataframe\">\n",
       "  <thead>\n",
       "    <tr style=\"text-align: right;\">\n",
       "      <th></th>\n",
       "      <th></th>\n",
       "      <th>estimado</th>\n",
       "    </tr>\n",
       "    <tr>\n",
       "      <th>Respuesta</th>\n",
       "      <th>Rangos_prob</th>\n",
       "      <th></th>\n",
       "    </tr>\n",
       "  </thead>\n",
       "  <tbody>\n",
       "    <tr>\n",
       "      <th rowspan=\"7\" valign=\"top\">0.0</th>\n",
       "      <th>(0.00515, 0.0104]</th>\n",
       "      <td>2145</td>\n",
       "    </tr>\n",
       "    <tr>\n",
       "      <th>(0.0104, 0.0487]</th>\n",
       "      <td>2011</td>\n",
       "    </tr>\n",
       "    <tr>\n",
       "      <th>(0.0487, 0.0561]</th>\n",
       "      <td>2147</td>\n",
       "    </tr>\n",
       "    <tr>\n",
       "      <th>(0.0561, 0.211]</th>\n",
       "      <td>1900</td>\n",
       "    </tr>\n",
       "    <tr>\n",
       "      <th>(0.211, 0.609]</th>\n",
       "      <td>1386</td>\n",
       "    </tr>\n",
       "    <tr>\n",
       "      <th>(0.609, 0.649]</th>\n",
       "      <td>616</td>\n",
       "    </tr>\n",
       "    <tr>\n",
       "      <th>(0.649, 0.925]</th>\n",
       "      <td>844</td>\n",
       "    </tr>\n",
       "    <tr>\n",
       "      <th rowspan=\"7\" valign=\"top\">1.0</th>\n",
       "      <th>(0.00515, 0.0104]</th>\n",
       "      <td>1</td>\n",
       "    </tr>\n",
       "    <tr>\n",
       "      <th>(0.0104, 0.0487]</th>\n",
       "      <td>130</td>\n",
       "    </tr>\n",
       "    <tr>\n",
       "      <th>(0.0487, 0.0561]</th>\n",
       "      <td>18</td>\n",
       "    </tr>\n",
       "    <tr>\n",
       "      <th>(0.0561, 0.211]</th>\n",
       "      <td>220</td>\n",
       "    </tr>\n",
       "    <tr>\n",
       "      <th>(0.211, 0.609]</th>\n",
       "      <td>756</td>\n",
       "    </tr>\n",
       "    <tr>\n",
       "      <th>(0.609, 0.649]</th>\n",
       "      <td>1527</td>\n",
       "    </tr>\n",
       "    <tr>\n",
       "      <th>(0.649, 0.925]</th>\n",
       "      <td>1299</td>\n",
       "    </tr>\n",
       "  </tbody>\n",
       "</table>\n",
       "</div>"
      ],
      "text/plain": [
       "                             estimado\n",
       "Respuesta Rangos_prob                \n",
       "0.0       (0.00515, 0.0104]      2145\n",
       "          (0.0104, 0.0487]       2011\n",
       "          (0.0487, 0.0561]       2147\n",
       "          (0.0561, 0.211]        1900\n",
       "          (0.211, 0.609]         1386\n",
       "          (0.609, 0.649]          616\n",
       "          (0.649, 0.925]          844\n",
       "1.0       (0.00515, 0.0104]         1\n",
       "          (0.0104, 0.0487]        130\n",
       "          (0.0487, 0.0561]         18\n",
       "          (0.0561, 0.211]         220\n",
       "          (0.211, 0.609]          756\n",
       "          (0.609, 0.649]         1527\n",
       "          (0.649, 0.925]         1299"
      ]
     },
     "execution_count": 115,
     "metadata": {},
     "output_type": "execute_result"
    }
   ],
   "source": [
    "df_test.groupby([\"Respuesta\",\"Rangos_prob\"]).count()"
   ]
  },
  {
   "cell_type": "code",
   "execution_count": 116,
   "metadata": {},
   "outputs": [],
   "source": [
    "#KS\n",
    "ecdf_malos_test=ECDF(df_test.loc[df_test.Respuesta == 1.0, \"estimado\"])\n",
    "ecdf_buenos_test=ECDF(df_test.loc[df_test.Respuesta == 0.0, \"estimado\"])\n",
    "grid_score_test=np.sort(df_test.estimado.unique())\n",
    "prob_acum_buenos_test = ecdf_buenos_test(grid_score_test)\n",
    "prob_acum_malos_test = ecdf_malos_test(grid_score_test)"
   ]
  },
  {
   "cell_type": "code",
   "execution_count": 117,
   "metadata": {},
   "outputs": [
    {
     "data": {
      "text/plain": [
       "0.6746998409033604"
      ]
     },
     "execution_count": 117,
     "metadata": {},
     "output_type": "execute_result"
    }
   ],
   "source": [
    "abs_dif_test = np.abs(prob_acum_buenos_test - prob_acum_malos_test)\n",
    "KS_test = np.max(abs_dif_test)\n",
    "KS_test"
   ]
  },
  {
   "cell_type": "code",
   "execution_count": 118,
   "metadata": {},
   "outputs": [
    {
     "ename": "TypeError",
     "evalue": "'list' object is not callable",
     "output_type": "error",
     "traceback": [
      "\u001b[1;31m---------------------------------------------------------------------------\u001b[0m",
      "\u001b[1;31mTypeError\u001b[0m                                 Traceback (most recent call last)",
      "\u001b[1;32m<ipython-input-118-242e077595e1>\u001b[0m in \u001b[0;36m<module>\u001b[1;34m\u001b[0m\n\u001b[0;32m      4\u001b[0m \u001b[0mplot\u001b[0m\u001b[1;33m(\u001b[0m\u001b[0mgrid_score\u001b[0m\u001b[1;33m,\u001b[0m\u001b[0mprob_acum_buenos\u001b[0m\u001b[1;33m,\u001b[0m\u001b[0mcolor\u001b[0m \u001b[1;33m=\u001b[0m\u001b[1;34m\"blue\"\u001b[0m \u001b[1;33m,\u001b[0m \u001b[0mlinewidth\u001b[0m \u001b[1;33m=\u001b[0m \u001b[1;36m4\u001b[0m\u001b[1;33m)\u001b[0m\u001b[1;33m\u001b[0m\u001b[1;33m\u001b[0m\u001b[0m\n\u001b[0;32m      5\u001b[0m \u001b[0mplot\u001b[0m\u001b[1;33m(\u001b[0m\u001b[0mgrid_score\u001b[0m\u001b[1;33m,\u001b[0m\u001b[0mprob_acum_malos\u001b[0m\u001b[1;33m,\u001b[0m\u001b[0mcolor\u001b[0m \u001b[1;33m=\u001b[0m\u001b[1;34m\"red\"\u001b[0m \u001b[1;33m,\u001b[0m \u001b[0mlinewidth\u001b[0m \u001b[1;33m=\u001b[0m \u001b[1;36m4\u001b[0m\u001b[1;33m)\u001b[0m\u001b[1;33m\u001b[0m\u001b[1;33m\u001b[0m\u001b[0m\n\u001b[1;32m----> 6\u001b[1;33m \u001b[0mxticks\u001b[0m\u001b[1;33m(\u001b[0m\u001b[0mfontsize\u001b[0m \u001b[1;33m=\u001b[0m \u001b[1;36m16\u001b[0m\u001b[1;33m)\u001b[0m\u001b[1;33m\u001b[0m\u001b[1;33m\u001b[0m\u001b[0m\n\u001b[0m\u001b[0;32m      7\u001b[0m \u001b[0myticks\u001b[0m\u001b[1;33m(\u001b[0m\u001b[0mfontsize\u001b[0m \u001b[1;33m=\u001b[0m \u001b[1;36m16\u001b[0m\u001b[1;33m)\u001b[0m\u001b[1;33m\u001b[0m\u001b[1;33m\u001b[0m\u001b[0m\n\u001b[0;32m      8\u001b[0m \u001b[0mshow\u001b[0m\u001b[1;33m(\u001b[0m\u001b[1;33m)\u001b[0m\u001b[1;33m\u001b[0m\u001b[1;33m\u001b[0m\u001b[0m\n",
      "\u001b[1;31mTypeError\u001b[0m: 'list' object is not callable"
     ]
    },
    {
     "data": {
      "image/png": "[encoded data removed]",
      "text/plain": [
       "<Figure size 576x360 with 1 Axes>"
      ]
     },
     "metadata": {
      "needs_background": "light"
     },
     "output_type": "display_data"
    }
   ],
   "source": [
    "fig, ax =plt.subplots(figsize=(8,5))\n",
    "\n",
    "ax.set_title(f\"Kolmogorov ~ Smirnov: {KS_test:.3%}\",fontsize=16)\n",
    "plot(grid_score,prob_acum_buenos,color =\"blue\" , linewidth = 4)\n",
    "plot(grid_score,prob_acum_malos,color =\"red\" , linewidth = 4)\n",
    "xticks(fontsize = 16)\n",
    "yticks(fontsize = 16)\n",
    "show()"
   ]
  },
  {
   "cell_type": "code",
   "execution_count": 124,
   "metadata": {},
   "outputs": [
    {
     "data": {
      "text/plain": [
       "0.7501541460512688"
      ]
     },
     "execution_count": 124,
     "metadata": {},
     "output_type": "execute_result"
    }
   ],
   "source": [
    "#GINY\n",
    "\n",
    "giny_train = 2 * roc_auc_train - 1\n",
    "giny_train\n",
    "#BUEN GINY Porque es > a 60% y < a 90%"
   ]
  },
  {
   "cell_type": "code",
   "execution_count": 123,
   "metadata": {},
   "outputs": [
    {
     "data": {
      "text/plain": [
       "0.7391767589023095"
      ]
     },
     "execution_count": 123,
     "metadata": {},
     "output_type": "execute_result"
    }
   ],
   "source": [
    "giny_test = 2 * roc_auc_test - 1\n",
    "giny_test\n",
    "#BUEN GINY Porque es > a 60% y < a 90%"
   ]
  },
  {
   "cell_type": "markdown",
   "metadata": {},
   "source": [
    "# Árbol"
   ]
  },
  {
   "cell_type": "markdown",
   "metadata": {},
   "source": [
    "La siguiente función obtiene la matriz de confusión y la curva roc de un modelo dado y para covariables y respuestas dadas"
   ]
  },
  {
   "cell_type": "code",
   "execution_count": 5,
   "metadata": {},
   "outputs": [],
   "source": [
    "def performance_evaluation_report(model, X_test, y_test, show_plot=False, labels=None, show_pr_curve=False):\n",
    "    '''\n",
    "    Function for creating a performance report of a classification model.\n",
    "    \n",
    "    Parameters\n",
    "    ----------\n",
    "    model : scikit-learn estimator\n",
    "        A fitted estimator for classification problems.\n",
    "    X_test : pd.DataFrame\n",
    "        DataFrame with features matching y_test\n",
    "    y_test : array/pd.Series\n",
    "        Target of a classification problem.\n",
    "    show_plot : bool\n",
    "        Flag whether to show the plot\n",
    "    labels : list\n",
    "        List with the class names.\n",
    "    show_pr_curve : bool\n",
    "        Flag whether to also show the PR-curve. For this to take effect, \n",
    "        show_plot must be True.\n",
    "        \n",
    "    Return\n",
    "    ------\n",
    "    stats : pd.Series\n",
    "        A series with the most important evaluation metrics\n",
    "    '''\n",
    "\n",
    "    y_pred = model.predict(X_test)\n",
    "    y_pred_prob = model.predict_proba(X_test)[:, 1]\n",
    "\n",
    "    cm = metrics.confusion_matrix(y_test, y_pred)\n",
    "    tn, fp, fn, tp = cm.ravel()\n",
    "\n",
    "    fpr, tpr, threshold = metrics.roc_curve(y_test, y_pred_prob)\n",
    "    roc_auc = metrics.auc(fpr, tpr)\n",
    "\n",
    "    precision, recall, thresholds = metrics.precision_recall_curve(\n",
    "        y_test, y_pred_prob)\n",
    "    pr_auc = metrics.auc(recall, precision)\n",
    "\n",
    "    if show_plot:\n",
    "\n",
    "        if labels is None:\n",
    "            labels = ['Negative', 'Positive']\n",
    "\n",
    "        N_SUBPLOTS = 3 if show_pr_curve else 2\n",
    "        PLOT_WIDTH = 15 if show_pr_curve else 12\n",
    "        PLOT_HEIGHT = 5 if show_pr_curve else 6\n",
    "\n",
    "        fig, ax = plt.subplots(\n",
    "            1, N_SUBPLOTS, figsize=(PLOT_WIDTH, PLOT_HEIGHT))\n",
    "        fig.suptitle('Performance Evaluation', fontsize=16)\n",
    "\n",
    "        sns.heatmap(cm, annot=True, fmt=\"d\", linewidths=.5, cmap='BuGn_r', square=True, cbar=False, ax=ax[0],\n",
    "                    annot_kws={\"ha\": 'center', \"va\": 'center'})\n",
    "        ax[0].set(xlabel='Predicted label',\n",
    "                  ylabel='Actual label', title='Confusion Matrix')\n",
    "        ax[0].xaxis.set_ticklabels(labels)\n",
    "        ax[0].yaxis.set_ticklabels(labels)\n",
    "\n",
    "        ax[1].plot(fpr, tpr, 'b-', label=f'ROC-AUC = {roc_auc:.2f}')\n",
    "        ax[1].set(xlabel='False Positive Rate',\n",
    "                  ylabel='True Positive Rate', title='ROC Curve')\n",
    "        ax[1].plot(fp/(fp+tn), tp/(tp+fn), 'ro',\n",
    "                   markersize=8, label='Decision Point')\n",
    "        ax[1].plot([0, 1], [0, 1], 'r--')\n",
    "        ax[1].legend(loc='lower right')\n",
    "\n",
    "        if show_pr_curve:\n",
    "\n",
    "            ax[2].plot(recall, precision, label=f'PR-AUC = {pr_auc:.2f}')\n",
    "            ax[2].set(xlabel='Recall', ylabel='Precision',\n",
    "                      title='Precision-Recall Curve')\n",
    "            ax[2].legend()\n",
    "\n",
    "#         print('#######################')\n",
    "#         print('Evaluation metrics ####')\n",
    "#         print('#######################')\n",
    "#         print(f'Accuracy: {metrics.accuracy_score(y_test, y_pred):.4f}')\n",
    "#         print(f'Precision: {metrics.precision_score(y_test, y_pred):.4f}')\n",
    "#         print(f'Recall (Sensitivity): {metrics.recall_score(y_test, y_pred):.4f}')\n",
    "#         print(f'Specificity: {(tn / (tn + fp)):.4f}')\n",
    "#         print(f'F1-Score: {metrics.f1_score(y_test, y_pred):.4f}')\n",
    "#         print(f\"Cohen's Kappa: {metrics.cohen_kappa_score(y_test, y_pred):.4f}\")\n",
    "\n",
    "    stats = {'accuracy': metrics.accuracy_score(y_test, y_pred),\n",
    "             'precision': metrics.precision_score(y_test, y_pred),\n",
    "             'recall': metrics.recall_score(y_test, y_pred),\n",
    "             'specificity': (tn / (tn + fp)),\n",
    "             'f1_score': metrics.f1_score(y_test, y_pred),\n",
    "             'cohens_kappa': metrics.cohen_kappa_score(y_test, y_pred),\n",
    "             'roc_auc': roc_auc,\n",
    "             'pr_auc': pr_auc}\n",
    "\n",
    "    return stats"
   ]
  },
  {
   "cell_type": "markdown",
   "metadata": {},
   "source": [
    "Importamos algunas herramientas que nos van a ser de utilidad en el ajuste de hiperparámetros"
   ]
  },
  {
   "cell_type": "code",
   "execution_count": 6,
   "metadata": {},
   "outputs": [],
   "source": [
    "from sklearn.model_selection import (GridSearchCV, cross_val_score,\n",
    "                                                 RandomizedSearchCV,\n",
    "                                                 cross_validate,\n",
    "                                                 StratifiedKFold)\n"
   ]
  },
  {
   "cell_type": "markdown",
   "metadata": {},
   "source": [
    "Recuperamos la base que tiene todas nuestras covariables y nuevamente, como en la Regresión Logística, nos deshacemos de los id's y las fechas. "
   ]
  },
  {
   "cell_type": "code",
   "execution_count": 31,
   "metadata": {},
   "outputs": [
    {
     "data": {
      "text/html": [
       "<div>\n",
       "<style scoped>\n",
       "    .dataframe tbody tr th:only-of-type {\n",
       "        vertical-align: middle;\n",
       "    }\n",
       "\n",
       "    .dataframe tbody tr th {\n",
       "        vertical-align: top;\n",
       "    }\n",
       "\n",
       "    .dataframe thead th {\n",
       "        text-align: right;\n",
       "    }\n",
       "</style>\n",
       "<table border=\"1\" class=\"dataframe\">\n",
       "  <thead>\n",
       "    <tr style=\"text-align: right;\">\n",
       "      <th></th>\n",
       "      <th>comp_externo1</th>\n",
       "      <th>comp_externo2</th>\n",
       "      <th>comp_externo3</th>\n",
       "      <th>comp_externo4</th>\n",
       "      <th>comp_interno1</th>\n",
       "      <th>comp_interno2</th>\n",
       "      <th>comp_interno3</th>\n",
       "      <th>comp_interno4</th>\n",
       "      <th>categoria1</th>\n",
       "      <th>categoria2</th>\n",
       "      <th>categoria3</th>\n",
       "      <th>cantidad_tramites</th>\n",
       "      <th>avg(comportamiento_j)</th>\n",
       "      <th>max(comportamiento_j)</th>\n",
       "      <th>cero_meses</th>\n",
       "      <th>uno_o_mas</th>\n",
       "      <th>comp_mixto1</th>\n",
       "      <th>inversion</th>\n",
       "      <th>Respuesta</th>\n",
       "    </tr>\n",
       "  </thead>\n",
       "  <tbody>\n",
       "    <tr>\n",
       "      <th>0</th>\n",
       "      <td>217.391304</td>\n",
       "      <td>21.545533</td>\n",
       "      <td>102.0</td>\n",
       "      <td>-230.0</td>\n",
       "      <td>3039.513678</td>\n",
       "      <td>1.0</td>\n",
       "      <td>26.0</td>\n",
       "      <td>67.0</td>\n",
       "      <td>3.0</td>\n",
       "      <td>3.0</td>\n",
       "      <td>171.0</td>\n",
       "      <td>1.0</td>\n",
       "      <td>0.083333</td>\n",
       "      <td>1.0</td>\n",
       "      <td>11.0</td>\n",
       "      <td>1.0</td>\n",
       "      <td>0.38000</td>\n",
       "      <td>52.500490</td>\n",
       "      <td>0.0</td>\n",
       "    </tr>\n",
       "    <tr>\n",
       "      <th>1</th>\n",
       "      <td>468.115942</td>\n",
       "      <td>21.674806</td>\n",
       "      <td>108.0</td>\n",
       "      <td>-230.0</td>\n",
       "      <td>1547.112462</td>\n",
       "      <td>1.0</td>\n",
       "      <td>28.0</td>\n",
       "      <td>75.0</td>\n",
       "      <td>1.0</td>\n",
       "      <td>11.0</td>\n",
       "      <td>173.0</td>\n",
       "      <td>1.0</td>\n",
       "      <td>0.166667</td>\n",
       "      <td>1.0</td>\n",
       "      <td>10.0</td>\n",
       "      <td>2.0</td>\n",
       "      <td>0.33360</td>\n",
       "      <td>0.047480</td>\n",
       "      <td>1.0</td>\n",
       "    </tr>\n",
       "    <tr>\n",
       "      <th>2</th>\n",
       "      <td>371.884058</td>\n",
       "      <td>36.857225</td>\n",
       "      <td>125.0</td>\n",
       "      <td>-230.0</td>\n",
       "      <td>1215.805471</td>\n",
       "      <td>1.0</td>\n",
       "      <td>14.0</td>\n",
       "      <td>55.0</td>\n",
       "      <td>2.0</td>\n",
       "      <td>6.0</td>\n",
       "      <td>159.0</td>\n",
       "      <td>5.0</td>\n",
       "      <td>0.083333</td>\n",
       "      <td>1.0</td>\n",
       "      <td>11.0</td>\n",
       "      <td>1.0</td>\n",
       "      <td>0.27898</td>\n",
       "      <td>227.537211</td>\n",
       "      <td>0.0</td>\n",
       "    </tr>\n",
       "    <tr>\n",
       "      <th>3</th>\n",
       "      <td>85.507246</td>\n",
       "      <td>6.274059</td>\n",
       "      <td>105.0</td>\n",
       "      <td>-230.0</td>\n",
       "      <td>0.000000</td>\n",
       "      <td>1.0</td>\n",
       "      <td>11.0</td>\n",
       "      <td>55.0</td>\n",
       "      <td>2.0</td>\n",
       "      <td>9.0</td>\n",
       "      <td>156.0</td>\n",
       "      <td>1.0</td>\n",
       "      <td>0.000000</td>\n",
       "      <td>0.0</td>\n",
       "      <td>12.0</td>\n",
       "      <td>0.0</td>\n",
       "      <td>0.38000</td>\n",
       "      <td>0.921995</td>\n",
       "      <td>0.0</td>\n",
       "    </tr>\n",
       "    <tr>\n",
       "      <th>4</th>\n",
       "      <td>72.463768</td>\n",
       "      <td>7.181844</td>\n",
       "      <td>92.0</td>\n",
       "      <td>-230.0</td>\n",
       "      <td>0.000000</td>\n",
       "      <td>1.0</td>\n",
       "      <td>11.0</td>\n",
       "      <td>56.0</td>\n",
       "      <td>2.0</td>\n",
       "      <td>6.0</td>\n",
       "      <td>156.0</td>\n",
       "      <td>1.0</td>\n",
       "      <td>0.083333</td>\n",
       "      <td>1.0</td>\n",
       "      <td>11.0</td>\n",
       "      <td>1.0</td>\n",
       "      <td>0.37050</td>\n",
       "      <td>39.259568</td>\n",
       "      <td>0.0</td>\n",
       "    </tr>\n",
       "  </tbody>\n",
       "</table>\n",
       "</div>"
      ],
      "text/plain": [
       "   comp_externo1  comp_externo2  comp_externo3  comp_externo4  comp_interno1  \\\n",
       "0     217.391304      21.545533          102.0         -230.0    3039.513678   \n",
       "1     468.115942      21.674806          108.0         -230.0    1547.112462   \n",
       "2     371.884058      36.857225          125.0         -230.0    1215.805471   \n",
       "3      85.507246       6.274059          105.0         -230.0       0.000000   \n",
       "4      72.463768       7.181844           92.0         -230.0       0.000000   \n",
       "\n",
       "   comp_interno2  comp_interno3  comp_interno4  categoria1  categoria2  \\\n",
       "0            1.0           26.0           67.0         3.0         3.0   \n",
       "1            1.0           28.0           75.0         1.0        11.0   \n",
       "2            1.0           14.0           55.0         2.0         6.0   \n",
       "3            1.0           11.0           55.0         2.0         9.0   \n",
       "4            1.0           11.0           56.0         2.0         6.0   \n",
       "\n",
       "   categoria3  cantidad_tramites  avg(comportamiento_j)  \\\n",
       "0       171.0                1.0               0.083333   \n",
       "1       173.0                1.0               0.166667   \n",
       "2       159.0                5.0               0.083333   \n",
       "3       156.0                1.0               0.000000   \n",
       "4       156.0                1.0               0.083333   \n",
       "\n",
       "   max(comportamiento_j)  cero_meses  uno_o_mas  comp_mixto1   inversion  \\\n",
       "0                    1.0        11.0        1.0      0.38000   52.500490   \n",
       "1                    1.0        10.0        2.0      0.33360    0.047480   \n",
       "2                    1.0        11.0        1.0      0.27898  227.537211   \n",
       "3                    0.0        12.0        0.0      0.38000    0.921995   \n",
       "4                    1.0        11.0        1.0      0.37050   39.259568   \n",
       "\n",
       "   Respuesta  \n",
       "0        0.0  \n",
       "1        1.0  \n",
       "2        0.0  \n",
       "3        0.0  \n",
       "4        0.0  "
      ]
     },
     "execution_count": 31,
     "metadata": {},
     "output_type": "execute_result"
    }
   ],
   "source": [
    "newbase=base_general.iloc[:,:23]\n",
    "Xa = newbase.drop(['_id_', '_id2_','fecha_inicio','ultima_fecha'], axis=1)\n",
    "Xa.head()"
   ]
  },
  {
   "cell_type": "markdown",
   "metadata": {},
   "source": [
    "Quitamos casi las mismas variables que en la regresión, basados en la significancia y en la correlación (en los mapas de calor)"
   ]
  },
  {
   "cell_type": "code",
   "execution_count": 32,
   "metadata": {},
   "outputs": [],
   "source": [
    "quitar2=[\"uno_o_mas\", \"avg(comportamiento_j)\", \"cantidad_tramites\", \"comp_externo1\",\\\n",
    "          \"comp_externo2\",\"comp_externo3\",\"comp_externo4\",\"comp_interno2\",\"comp_interno3\",\\\n",
    "           \"categoria2\", \"inversion\"]"
   ]
  },
  {
   "cell_type": "code",
   "execution_count": 33,
   "metadata": {},
   "outputs": [],
   "source": [
    "Xa=Xa.drop(columns=quitar2)"
   ]
  },
  {
   "cell_type": "markdown",
   "metadata": {},
   "source": [
    "En los siguientes bloques, guardamos la respuesta en la variable _ya_ y dividimos a los datos en train y test, estratificando con la respuesta."
   ]
  },
  {
   "cell_type": "code",
   "execution_count": 34,
   "metadata": {},
   "outputs": [],
   "source": [
    "ya = Xa.pop('Respuesta')"
   ]
  },
  {
   "cell_type": "code",
   "execution_count": 73,
   "metadata": {},
   "outputs": [],
   "source": [
    "X_train_a, X_test_a, y_train_a, y_test_a = train_test_split(Xa, ya,test_size=0.2,stratify=ya)"
   ]
  },
  {
   "cell_type": "markdown",
   "metadata": {},
   "source": [
    "Clasificamos las variables en numéricas y en object según su tipo porque de este hecho dependen las transformaciones que le haremos a cada variable para poderlas utilizar en el modelo. Esto se hace en los siguientes bloques con ayuda de pipelines:"
   ]
  },
  {
   "cell_type": "code",
   "execution_count": 36,
   "metadata": {},
   "outputs": [
    {
     "data": {
      "text/plain": [
       "['comp_interno1',\n",
       " 'comp_interno4',\n",
       " 'categoria1',\n",
       " 'categoria3',\n",
       " 'max(comportamiento_j)',\n",
       " 'cero_meses',\n",
       " 'comp_mixto1']"
      ]
     },
     "execution_count": 36,
     "metadata": {},
     "output_type": "execute_result"
    }
   ],
   "source": [
    "num_features = X_train_a.select_dtypes(include='number').columns.to_list()\n",
    "num_features"
   ]
  },
  {
   "cell_type": "code",
   "execution_count": 37,
   "metadata": {},
   "outputs": [
    {
     "data": {
      "text/plain": [
       "[]"
      ]
     },
     "execution_count": 37,
     "metadata": {},
     "output_type": "execute_result"
    }
   ],
   "source": [
    "cat_features = X_train_a.select_dtypes(include='object').columns.to_list()\n",
    "cat_features"
   ]
  },
  {
   "cell_type": "code",
   "execution_count": 38,
   "metadata": {},
   "outputs": [],
   "source": [
    "num_pipeline = Pipeline(steps=[('imputer', SimpleImputer(strategy='median'))])"
   ]
  },
  {
   "cell_type": "code",
   "execution_count": 39,
   "metadata": {},
   "outputs": [],
   "source": [
    "cat_list = [list(X_train_a[col].dropna().unique()) for col in cat_features]"
   ]
  },
  {
   "cell_type": "code",
   "execution_count": 40,
   "metadata": {},
   "outputs": [],
   "source": [
    "cat_pipeline = Pipeline(steps=[('imputer', SimpleImputer(strategy='most_frequent')),\n",
    "                               ('onehot', OneHotEncoder(categories=cat_list, sparse=False,\n",
    "                                        handle_unknown='error', drop='first'))])"
   ]
  },
  {
   "cell_type": "markdown",
   "metadata": {},
   "source": [
    "La variable _preprocessor_ guarda, precisamente, estas transformaciones que definimos anteriormente para las covariables y, algunos bloques más tarde, definimos el árbol con este preprocesador"
   ]
  },
  {
   "cell_type": "code",
   "execution_count": 41,
   "metadata": {},
   "outputs": [],
   "source": [
    "preprocessor = ColumnTransformer(transformers=[\n",
    "               ('numerical', num_pipeline, num_features),\n",
    "               ('categorical', cat_pipeline, cat_features)],\n",
    "               remainder='drop')"
   ]
  },
  {
   "cell_type": "code",
   "execution_count": 42,
   "metadata": {},
   "outputs": [],
   "source": [
    "dec_tree = DecisionTreeClassifier(random_state=453)\n",
    "#jugar con esto"
   ]
  },
  {
   "cell_type": "code",
   "execution_count": 43,
   "metadata": {},
   "outputs": [],
   "source": [
    "tree_pipeline = Pipeline(steps=[('preprocessor', preprocessor),('classifier', dec_tree)])"
   ]
  },
  {
   "cell_type": "markdown",
   "metadata": {},
   "source": [
    "Entrenamos el modelo: "
   ]
  },
  {
   "cell_type": "code",
   "execution_count": 44,
   "metadata": {},
   "outputs": [
    {
     "data": {
      "text/plain": [
       "Pipeline(steps=[('preprocessor',\n",
       "                 ColumnTransformer(transformers=[('numerical',\n",
       "                                                  Pipeline(steps=[('imputer',\n",
       "                                                                   SimpleImputer(strategy='median'))]),\n",
       "                                                  ['comp_interno1',\n",
       "                                                   'comp_interno4',\n",
       "                                                   'categoria1', 'categoria3',\n",
       "                                                   'max(comportamiento_j)',\n",
       "                                                   'cero_meses',\n",
       "                                                   'comp_mixto1']),\n",
       "                                                 ('categorical',\n",
       "                                                  Pipeline(steps=[('imputer',\n",
       "                                                                   SimpleImputer(strategy='most_frequent')),\n",
       "                                                                  ('onehot',\n",
       "                                                                   OneHotEncoder(categories=[],\n",
       "                                                                                 drop='first',\n",
       "                                                                                 sparse=False))]),\n",
       "                                                  [])])),\n",
       "                ('classifier', DecisionTreeClassifier(random_state=453))])"
      ]
     },
     "execution_count": 44,
     "metadata": {},
     "output_type": "execute_result"
    }
   ],
   "source": [
    "tree_pipeline.fit(X_train_a, y_train_a)"
   ]
  },
  {
   "cell_type": "markdown",
   "metadata": {},
   "source": [
    "Visualizamos el efecto del árbol en las muestras de test, con ayuda de la función definida al inicio, la cual nos muestra la matriz de confusión y la curva ROC"
   ]
  },
  {
   "cell_type": "code",
   "execution_count": 45,
   "metadata": {},
   "outputs": [
    {
     "data": {
      "image/png": "[encoded data removed]",
      "text/plain": [
       "<Figure size 864x432 with 2 Axes>"
      ]
     },
     "metadata": {
      "needs_background": "light"
     },
     "output_type": "display_data"
    }
   ],
   "source": [
    "LABELS = ['Bueno', 'Malo']\n",
    "tree_perf = performance_evaluation_report(tree_pipeline, X_test_a,y_test_a, labels=LABELS,show_plot=True)"
   ]
  },
  {
   "cell_type": "code",
   "execution_count": 82,
   "metadata": {},
   "outputs": [
    {
     "data": {
      "text/plain": [
       "{'accuracy': 0.9479,\n",
       " 'precision': 0.9027725028484618,\n",
       " 'recall': 0.8996971990915973,\n",
       " 'specificity': 0.9652079369393857,\n",
       " 'f1_score': 0.9012322274881517,\n",
       " 'cohens_kappa': 0.8658503639858128,\n",
       " 'roc_auc': 0.9513665650265772,\n",
       " 'pr_auc': 0.9191957986585896}"
      ]
     },
     "execution_count": 82,
     "metadata": {},
     "output_type": "execute_result"
    }
   ],
   "source": [
    "tree_perf"
   ]
  },
  {
   "cell_type": "code",
   "execution_count": 83,
   "metadata": {},
   "outputs": [
    {
     "data": {
      "text/plain": [
       "0.9027331300531545"
      ]
     },
     "execution_count": 83,
     "metadata": {},
     "output_type": "execute_result"
    }
   ],
   "source": [
    "gini_1= 2*(tree_perf['roc_auc'])-1\n",
    "gini_1"
   ]
  },
  {
   "cell_type": "code",
   "execution_count": null,
   "metadata": {},
   "outputs": [],
   "source": [
    "Obtenemos el gini para las muestras de test"
   ]
  },
  {
   "cell_type": "markdown",
   "metadata": {},
   "source": [
    "Como el Árbol de Decisión es un modelo inestable, vamos a quitar los datos atípicos o casos aislados de cada covariable, lo que se hace con la función que se define unos bloques adelante. Posteriormente se procede a comprobar si hubo alguna mejora en el modelo con respecto al modelo con datos atípicos; esto lo podemos ver a través de la matriz de confusión y la curva ROC:"
   ]
  },
  {
   "cell_type": "code",
   "execution_count": 46,
   "metadata": {},
   "outputs": [],
   "source": [
    "from sklearn.base import BaseEstimator, TransformerMixin"
   ]
  },
  {
   "cell_type": "code",
   "execution_count": 47,
   "metadata": {},
   "outputs": [],
   "source": [
    "class OutlierRemover(BaseEstimator, TransformerMixin):\n",
    "    def __init__(self, n_std=3):\n",
    "        self.n_std = n_std\n",
    "    \n",
    "    def fit(self, X, y = None):\n",
    "        if np.isnan(X).any(axis=None):\n",
    "            raise ValueError('''There are missing values in the array! \n",
    "                                Please remove them.''')\n",
    "\n",
    "        mean_vec = np.mean(X, axis=0)\n",
    "        std_vec = np.std(X, axis=0)\n",
    "        \n",
    "        self.upper_band_ = mean_vec + self.n_std * std_vec\n",
    "        self.lower_band_ = mean_vec - self.n_std * std_vec\n",
    "        self.n_features_ = len(self.upper_band_)\n",
    "        \n",
    "        return self \n",
    "    \n",
    "    def transform(self, X, y = None):\n",
    "        X_copy = pd.DataFrame(X.copy())\n",
    "        \n",
    "        upper_band = np.repeat(\n",
    "            self.upper_band_.reshape(self.n_features_, -1), \n",
    "            len(X_copy), \n",
    "            axis=1).transpose()\n",
    "        lower_band = np.repeat(\n",
    "            self.lower_band_.reshape(self.n_features_, -1), \n",
    "            len(X_copy), \n",
    "            axis=1).transpose()\n",
    "        \n",
    "        X_copy[X_copy >= upper_band] = upper_band\n",
    "        X_copy[X_copy <= lower_band] = lower_band\n",
    "        \n",
    "        return X_copy.values"
   ]
  },
  {
   "cell_type": "code",
   "execution_count": 48,
   "metadata": {},
   "outputs": [],
   "source": [
    "num_pipeline = Pipeline(steps=[\n",
    "    ('imputer', SimpleImputer(strategy='median')),\n",
    "    ('outliers', OutlierRemover())])"
   ]
  },
  {
   "cell_type": "code",
   "execution_count": 49,
   "metadata": {},
   "outputs": [
    {
     "data": {
      "image/png": "[encoded data removed]",
      "text/plain": [
       "<Figure size 864x432 with 2 Axes>"
      ]
     },
     "metadata": {
      "needs_background": "light"
     },
     "output_type": "display_data"
    }
   ],
   "source": [
    "preprocessor = ColumnTransformer(transformers=[('numerical', num_pipeline, num_features),\n",
    "                                               ('categorical', cat_pipeline, cat_features)],\n",
    "                                 remainder='drop')\n",
    "\n",
    "dec_tree = DecisionTreeClassifier(random_state=42)\n",
    "\n",
    "tree_pipeline = Pipeline(steps=[('preprocessor', preprocessor),\n",
    "                                ('classifier', dec_tree)])\n",
    "\n",
    "tree_pipeline.fit(X_train_a, y_train_a)\n",
    "\n",
    "tree_perf = performance_evaluation_report(tree_pipeline, X_test_a, \n",
    "                                          y_test_a, labels=LABELS, \n",
    "                                          show_plot=True)\n",
    "\n",
    "plt.tight_layout()\n",
    "# plt.savefig('images/ch8_im18.png')\n",
    "plt.show()"
   ]
  },
  {
   "cell_type": "code",
   "execution_count": 84,
   "metadata": {},
   "outputs": [
    {
     "data": {
      "text/plain": [
       "{'accuracy': 0.9479,\n",
       " 'precision': 0.9027725028484618,\n",
       " 'recall': 0.8996971990915973,\n",
       " 'specificity': 0.9652079369393857,\n",
       " 'f1_score': 0.9012322274881517,\n",
       " 'cohens_kappa': 0.8658503639858128,\n",
       " 'roc_auc': 0.9513665650265772,\n",
       " 'pr_auc': 0.9191957986585896}"
      ]
     },
     "execution_count": 84,
     "metadata": {},
     "output_type": "execute_result"
    }
   ],
   "source": [
    "tree_perf"
   ]
  },
  {
   "cell_type": "code",
   "execution_count": 85,
   "metadata": {},
   "outputs": [
    {
     "data": {
      "text/plain": [
       "0.9027331300531545"
      ]
     },
     "execution_count": 85,
     "metadata": {},
     "output_type": "execute_result"
    }
   ],
   "source": [
    "gini_2=2*(tree_perf[\"roc_auc\"])-1\n",
    "gini_2"
   ]
  },
  {
   "cell_type": "markdown",
   "metadata": {},
   "source": [
    "Obtenemos el gini una vez usado la función de remover outliers"
   ]
  },
  {
   "cell_type": "markdown",
   "metadata": {},
   "source": [
    "Dado que el modelo ya era muy preciso desde el primer momento, no podemos notar gran diferencia con el modelo con datos atípicos. Sin embargo, en este caso, no hay una mejoría significativa. Lo más que se puede observar es que disminuye escasamente la frecuencia de los casos de falsos positivos o falsos negativos"
   ]
  },
  {
   "cell_type": "markdown",
   "metadata": {},
   "source": [
    "A continuación, utilizaremos Cross Validation para ajustar los hiperparámetros del Árbol de Decisión, primero lo haremos con comandos de algunas librerías de Python, y luego trataremos de comprobar manualmente que la profundidad del árbol óptima que nos da la librería tenga sentido realmente. Entonces procedemos a continuación: "
   ]
  },
  {
   "cell_type": "code",
   "execution_count": 50,
   "metadata": {},
   "outputs": [],
   "source": [
    "from sklearn.model_selection import (GridSearchCV, cross_val_score,\n",
    "                                                 RandomizedSearchCV,\n",
    "                                                 cross_validate,\n",
    "                                                 StratifiedKFold)"
   ]
  },
  {
   "cell_type": "code",
   "execution_count": 51,
   "metadata": {},
   "outputs": [],
   "source": [
    "k_fold = StratifiedKFold(5, shuffle=True, random_state=42)"
   ]
  },
  {
   "cell_type": "code",
   "execution_count": 52,
   "metadata": {},
   "outputs": [
    {
     "data": {
      "text/plain": [
       "array([0.899875, 0.898875, 0.89825 , 0.8965  , 0.895   ])"
      ]
     },
     "execution_count": 52,
     "metadata": {},
     "output_type": "execute_result"
    }
   ],
   "source": [
    "cross_val_score(tree_pipeline, X_train_a, y_train_a, cv=k_fold)"
   ]
  },
  {
   "cell_type": "code",
   "execution_count": 53,
   "metadata": {},
   "outputs": [
    {
     "data": {
      "text/plain": [
       "{'fit_time': array([0.75599861, 0.79714823, 0.69899583, 0.71899796, 0.76899838]),\n",
       " 'score_time': array([0.27301335, 0.16302991, 0.1710012 , 0.174999  , 0.16800952]),\n",
       " 'test_accuracy': array([0.899875, 0.898875, 0.89825 , 0.8965  , 0.895   ]),\n",
       " 'test_precision': array([0.81599229, 0.80639098, 0.80651251, 0.80531814, 0.8004717 ]),\n",
       " 'test_recall': array([0.80170374, 0.81211548, 0.80880265, 0.80227058, 0.80274361]),\n",
       " 'test_roc_auc': array([0.86894644, 0.87227398, 0.87160187, 0.86652942, 0.86611545])}"
      ]
     },
     "execution_count": 53,
     "metadata": {},
     "output_type": "execute_result"
    }
   ],
   "source": [
    "cross_validate(tree_pipeline, X_train_a, y_train_a, cv=k_fold,\n",
    "                           scoring=['accuracy', 'precision', 'recall','roc_auc'])"
   ]
  },
  {
   "cell_type": "markdown",
   "metadata": {},
   "source": [
    "Le declaramos a Python cuáles son los hiperparámetros que queremos que se optimicen:"
   ]
  },
  {
   "cell_type": "code",
   "execution_count": 54,
   "metadata": {},
   "outputs": [],
   "source": [
    "param_grid = {'classifier__criterion': ['entropy', 'gini'],\n",
    "               'classifier__max_depth': range(3, 15),\n",
    "               'classifier__min_samples_leaf': range(2, 12)}"
   ]
  },
  {
   "cell_type": "markdown",
   "metadata": {},
   "source": [
    "Hacemos la optimización del modelo: "
   ]
  },
  {
   "cell_type": "code",
   "execution_count": 55,
   "metadata": {},
   "outputs": [
    {
     "name": "stdout",
     "output_type": "stream",
     "text": [
      "Fitting 5 folds for each of 240 candidates, totalling 1200 fits\n"
     ]
    },
    {
     "data": {
      "text/plain": [
       "GridSearchCV(cv=StratifiedKFold(n_splits=5, random_state=42, shuffle=True),\n",
       "             estimator=Pipeline(steps=[('preprocessor',\n",
       "                                        ColumnTransformer(transformers=[('numerical',\n",
       "                                                                         Pipeline(steps=[('imputer',\n",
       "                                                                                          SimpleImputer(strategy='median')),\n",
       "                                                                                         ('outliers',\n",
       "                                                                                          OutlierRemover())]),\n",
       "                                                                         ['comp_interno1',\n",
       "                                                                          'comp_interno4',\n",
       "                                                                          'categoria1',\n",
       "                                                                          'categoria3',\n",
       "                                                                          'max(comportamiento_j)',\n",
       "                                                                          'cero_meses',\n",
       "                                                                          '...\n",
       "                                                                         Pipeline(steps=[('imputer',\n",
       "                                                                                          SimpleImputer(strategy='most_frequent')),\n",
       "                                                                                         ('onehot',\n",
       "                                                                                          OneHotEncoder(categories=[],\n",
       "                                                                                                        drop='first',\n",
       "                                                                                                        sparse=False))]),\n",
       "                                                                         [])])),\n",
       "                                       ('classifier',\n",
       "                                        DecisionTreeClassifier(random_state=42))]),\n",
       "             n_jobs=-1,\n",
       "             param_grid={'classifier__criterion': ['entropy', 'gini'],\n",
       "                         'classifier__max_depth': range(3, 15),\n",
       "                         'classifier__min_samples_leaf': range(2, 12)},\n",
       "             scoring='recall', verbose=1)"
      ]
     },
     "execution_count": 55,
     "metadata": {},
     "output_type": "execute_result"
    }
   ],
   "source": [
    "classifier_gs = GridSearchCV(tree_pipeline, param_grid,scoring='recall',cv=k_fold, n_jobs=-1, verbose=1)\n",
    "classifier_gs.fit(X_train_a, y_train_a)"
   ]
  },
  {
   "cell_type": "markdown",
   "metadata": {},
   "source": [
    "Ahora imprimimos y guardamos los mejores parámetros que escogió Python para utilizarlos más tarde, en caso de darles el visto bueno."
   ]
  },
  {
   "cell_type": "code",
   "execution_count": 56,
   "metadata": {},
   "outputs": [
    {
     "name": "stdout",
     "output_type": "stream",
     "text": [
      "Best parameters: {'classifier__criterion': 'entropy', 'classifier__max_depth': 3, 'classifier__min_samples_leaf': 2}\n",
      "Recall (Training set): 0.8880\n",
      "Recall (Test set): 0.8997\n"
     ]
    }
   ],
   "source": [
    "print(f'Best parameters: {classifier_gs.best_params_}')\n",
    "print(f'Recall (Training set): {classifier_gs.best_score_:.4f}')\n",
    "print(f'Recall (Test set): {metrics.recall_score(y_test_a, classifier_gs.predict(X_test_a)):.4f}')"
   ]
  },
  {
   "cell_type": "code",
   "execution_count": 57,
   "metadata": {},
   "outputs": [],
   "source": [
    "clasificador=classifier_gs.best_params_['classifier__criterion']\n",
    "profundidad=classifier_gs.best_params_['classifier__max_depth']\n",
    "minhojas=classifier_gs.best_params_['classifier__min_samples_leaf']"
   ]
  },
  {
   "cell_type": "markdown",
   "metadata": {},
   "source": [
    "Evaluamos al mejor modelo guardado en la variable _classifier$\\_$gs_"
   ]
  },
  {
   "cell_type": "code",
   "execution_count": 58,
   "metadata": {},
   "outputs": [
    {
     "data": {
      "image/png": "[encoded data removed]",
      "text/plain": [
       "<Figure size 864x432 with 2 Axes>"
      ]
     },
     "metadata": {
      "needs_background": "light"
     },
     "output_type": "display_data"
    }
   ],
   "source": [
    "LABELS = ['No Default', 'Default']\n",
    "tree_gs_perf = performance_evaluation_report(classifier_gs, X_test_a, \n",
    "                                             y_test_a, labels=LABELS, \n",
    "                                             show_plot=True)\n",
    "\n",
    "plt.tight_layout()\n",
    "#plt.savefig('images/ch8_im20.png')\n",
    "plt.show()"
   ]
  },
  {
   "cell_type": "code",
   "execution_count": 86,
   "metadata": {},
   "outputs": [
    {
     "data": {
      "text/plain": [
       "{'accuracy': 0.9479,\n",
       " 'precision': 0.9027725028484618,\n",
       " 'recall': 0.8996971990915973,\n",
       " 'specificity': 0.9652079369393857,\n",
       " 'f1_score': 0.9012322274881517,\n",
       " 'cohens_kappa': 0.8658503639858128,\n",
       " 'roc_auc': 0.9513665650265772,\n",
       " 'pr_auc': 0.9191957986585896}"
      ]
     },
     "execution_count": 86,
     "metadata": {},
     "output_type": "execute_result"
    }
   ],
   "source": [
    "tree_gs_perf"
   ]
  },
  {
   "cell_type": "code",
   "execution_count": 87,
   "metadata": {},
   "outputs": [
    {
     "data": {
      "text/plain": [
       "0.9027331300531545"
      ]
     },
     "execution_count": 87,
     "metadata": {},
     "output_type": "execute_result"
    }
   ],
   "source": [
    "gini_3=2*(tree_gs_perf[\"roc_auc\"])-1\n",
    "gini_3"
   ]
  },
  {
   "cell_type": "code",
   "execution_count": 59,
   "metadata": {},
   "outputs": [],
   "source": [
    "from sklearn.metrics import roc_auc_score, roc_curve, mean_squared_error, precision_recall_curve,  accuracy_score"
   ]
  },
  {
   "cell_type": "markdown",
   "metadata": {},
   "source": [
    "Hacemos manualmente la comprobación de que la profundidad dada por Python sea aproximadamente la óptima:"
   ]
  },
  {
   "cell_type": "code",
   "execution_count": 60,
   "metadata": {},
   "outputs": [
    {
     "name": "stdout",
     "output_type": "stream",
     "text": [
      "1 2 3 4 5 6 7 8 9 10 11 12 13 14 15 16 17 18 19 20 21 22 23 24 25 "
     ]
    }
   ],
   "source": [
    "train_scores, val_scores, leaves = {}, {}, {}\n",
    "for max_depth in range(1, 26):\n",
    "    print(max_depth, end=' ', flush=True)\n",
    "    reg_tree = DecisionTreeClassifier(criterion=clasificador,\n",
    "                                          max_depth=max_depth,\n",
    "                                          min_samples_leaf=10,\n",
    "                                          random_state=42)\n",
    "    tree_pipeline = Pipeline(steps=[('preprocessor', preprocessor),('classifier', reg_tree)])\n",
    "    train_scores[max_depth], val_scores[max_depth], leaves[max_depth] = [],[], []\n",
    "    for train_idx, test_idx in k_fold.split(X_train_a,y_train_a):\n",
    "        X_t, y_t,  = X_train_a.iloc[train_idx], y_train_a.iloc[train_idx]\n",
    "        X_te, y_te = X_train_a.iloc[test_idx], y_train_a.iloc[test_idx]\n",
    "        arbol_fit = tree_pipeline.fit(X_t, y_t)\n",
    "        train_pred = tree_pipeline.predict_proba(X=X_t)[:, 1]\n",
    "        train_score = roc_auc_score(y_score=train_pred, y_true=y_t)\n",
    "        #print(train_score)\n",
    "        train_scores[max_depth].append(train_score)\n",
    "\n",
    "        test_pred = tree_pipeline.predict_proba(X=X_te)[:, 1]\n",
    "        val_score = roc_auc_score(y_score=test_pred, y_true=y_te)\n",
    "        val_scores[max_depth].append(val_score)  \n",
    "        #print(val_score)\n",
    "        leaves[max_depth].append(max_depth)\n",
    "        #reg_tree.fit(X=X_t, y=y_t)\n",
    "\n",
    "        \n",
    "        #train_scores[max_depth].append(train_score)\n",
    "\n",
    "        #test_pred = reg_tree.predict(X=X_test)\n",
    "        #val_score = np.sqrt(mean_squared_error(\n",
    "        #    y_pred=test_pred, y_true=y_test))\n",
    "        #val_scores[max_depth].append(val_score)\n",
    "        #leaves[max_depth].append(get_leaves_count(reg_tree))"
   ]
  },
  {
   "cell_type": "code",
   "execution_count": 61,
   "metadata": {},
   "outputs": [],
   "source": [
    "clf_train_scores = pd.DataFrame(train_scores)\n",
    "clf_valid_scores = pd.DataFrame(val_scores)\n",
    "bd_leaves = pd.DataFrame(leaves)"
   ]
  },
  {
   "cell_type": "code",
   "execution_count": 62,
   "metadata": {},
   "outputs": [],
   "source": [
    "roc_entrenamiento=[]\n",
    "for c in clf_train_scores.columns:\n",
    "    promedio_roc=mean(clf_train_scores[c])\n",
    "    roc_entrenamiento.append(promedio_roc)\n",
    "    \n",
    "roc_validacion=[]\n",
    "for c in clf_valid_scores.columns:\n",
    "    promedio_roc=mean(clf_valid_scores[c])\n",
    "    roc_validacion.append(promedio_roc)\n",
    "\n",
    "prof=[]\n",
    "for c in bd_leaves.columns:\n",
    "    id_=mean(bd_leaves[c])\n",
    "    prof.append(id_)\n"
   ]
  },
  {
   "cell_type": "code",
   "execution_count": 63,
   "metadata": {},
   "outputs": [
    {
     "data": {
      "image/png": "[encoded data removed]",
      "text/plain": [
       "<Figure size 720x360 with 1 Axes>"
      ]
     },
     "metadata": {
      "needs_background": "light"
     },
     "output_type": "display_data"
    }
   ],
   "source": [
    "fig, ax = plt.subplots(figsize=(10,5))\n",
    "\n",
    "ax.set_title(\"Entrenamiento Validación Sesgo\",fontsize=20)\n",
    "ax.plot(prof,roc_entrenamiento,color=\"blue\",linewidth=1,label=\"Entrenamiento\")\n",
    "ax.plot(prof,roc_validacion,color=\"red\",linewidth=1,label=\"Validacion\")\n",
    "#gca().yaxis.set_major_formatter(\"{x:,.0%}\")\n",
    "#xticks(fontsize=16)\n",
    "#yticks(fontsize=16)\n",
    "#axvline(4)\n",
    "legend(fontsize=15)\n",
    "show()"
   ]
  },
  {
   "cell_type": "markdown",
   "metadata": {},
   "source": [
    "Sin embargo, en esta situación el error del modelo en entrenamiento y validación varía muy poco respecto a la profundidad; por ende, es menester confiar en los datos arrojados por Python y por ello es que definimos un árbol con los mejores hiperparámetros según Python:"
   ]
  },
  {
   "cell_type": "code",
   "execution_count": 64,
   "metadata": {},
   "outputs": [],
   "source": [
    "reg_tree = DecisionTreeClassifier(criterion=clasificador,\n",
    "                                          max_depth=profundidad,\n",
    "                                          min_samples_leaf=minhojas,\n",
    "                                          random_state=42)\n",
    "tree_pipeline = Pipeline(steps=[('preprocessor', preprocessor),('classifier', reg_tree)])"
   ]
  },
  {
   "cell_type": "code",
   "execution_count": 88,
   "metadata": {},
   "outputs": [
    {
     "data": {
      "image/png": "[encoded data removed]",
      "text/plain": [
       "<Figure size 864x432 with 2 Axes>"
      ]
     },
     "metadata": {
      "needs_background": "light"
     },
     "output_type": "display_data"
    }
   ],
   "source": [
    "tree_pipeline.fit(X_train_a, y_train_a)\n",
    "\n",
    "tree_perf = performance_evaluation_report(tree_pipeline, X_test_a, \n",
    "                                          y_test_a, labels=LABELS, \n",
    "                                          show_plot=True)"
   ]
  },
  {
   "cell_type": "code",
   "execution_count": 89,
   "metadata": {},
   "outputs": [
    {
     "data": {
      "text/plain": [
       "{'accuracy': 0.9425,\n",
       " 'precision': 0.8958253542703944,\n",
       " 'recall': 0.8853141559424679,\n",
       " 'specificity': 0.9630334329980973,\n",
       " 'f1_score': 0.8905387397677518,\n",
       " 'cohens_kappa': 0.8515496001443299,\n",
       " 'roc_auc': 0.9460269109266148,\n",
       " 'pr_auc': 0.9110588242965866}"
      ]
     },
     "execution_count": 89,
     "metadata": {},
     "output_type": "execute_result"
    }
   ],
   "source": [
    "tree_perf"
   ]
  },
  {
   "cell_type": "code",
   "execution_count": 91,
   "metadata": {},
   "outputs": [
    {
     "data": {
      "text/plain": [
       "0.8920538218532297"
      ]
     },
     "execution_count": 91,
     "metadata": {},
     "output_type": "execute_result"
    }
   ],
   "source": [
    "gini_4=2*(tree_perf[\"roc_auc\"])-1\n",
    "gini_4"
   ]
  },
  {
   "cell_type": "code",
   "execution_count": 80,
   "metadata": {},
   "outputs": [
    {
     "ename": "ValueError",
     "evalue": "Length of values (32000) does not match length of index (40000)",
     "output_type": "error",
     "traceback": [
      "\u001b[1;31m---------------------------------------------------------------------------\u001b[0m",
      "\u001b[1;31mValueError\u001b[0m                                Traceback (most recent call last)",
      "\u001b[1;32m<ipython-input-80-a99db2177307>\u001b[0m in \u001b[0;36m<module>\u001b[1;34m\u001b[0m\n\u001b[0;32m      3\u001b[0m \u001b[1;33m\u001b[0m\u001b[0m\n\u001b[0;32m      4\u001b[0m \u001b[0mdf_train_a\u001b[0m \u001b[1;33m=\u001b[0m \u001b[0my_train_a\u001b[0m\u001b[1;33m.\u001b[0m\u001b[0mto_frame\u001b[0m\u001b[1;33m(\u001b[0m\u001b[1;33m)\u001b[0m\u001b[1;33m\u001b[0m\u001b[1;33m\u001b[0m\u001b[0m\n\u001b[1;32m----> 5\u001b[1;33m \u001b[0mdf_train_a\u001b[0m\u001b[1;33m[\u001b[0m\u001b[1;34m\"estimado\"\u001b[0m\u001b[1;33m]\u001b[0m\u001b[1;33m=\u001b[0m\u001b[0mtrain_pred\u001b[0m\u001b[1;33m\u001b[0m\u001b[1;33m\u001b[0m\u001b[0m\n\u001b[0m\u001b[0;32m      6\u001b[0m \u001b[1;31m#df_train_a\u001b[0m\u001b[1;33m\u001b[0m\u001b[1;33m\u001b[0m\u001b[1;33m\u001b[0m\u001b[0m\n\u001b[0;32m      7\u001b[0m \u001b[1;33m\u001b[0m\u001b[0m\n",
      "\u001b[1;32mC:\\ProgramData\\Anaconda3\\lib\\site-packages\\pandas\\core\\frame.py\u001b[0m in \u001b[0;36m__setitem__\u001b[1;34m(self, key, value)\u001b[0m\n\u001b[0;32m   3161\u001b[0m         \u001b[1;32melse\u001b[0m\u001b[1;33m:\u001b[0m\u001b[1;33m\u001b[0m\u001b[1;33m\u001b[0m\u001b[0m\n\u001b[0;32m   3162\u001b[0m             \u001b[1;31m# set column\u001b[0m\u001b[1;33m\u001b[0m\u001b[1;33m\u001b[0m\u001b[1;33m\u001b[0m\u001b[0m\n\u001b[1;32m-> 3163\u001b[1;33m             \u001b[0mself\u001b[0m\u001b[1;33m.\u001b[0m\u001b[0m_set_item\u001b[0m\u001b[1;33m(\u001b[0m\u001b[0mkey\u001b[0m\u001b[1;33m,\u001b[0m \u001b[0mvalue\u001b[0m\u001b[1;33m)\u001b[0m\u001b[1;33m\u001b[0m\u001b[1;33m\u001b[0m\u001b[0m\n\u001b[0m\u001b[0;32m   3164\u001b[0m \u001b[1;33m\u001b[0m\u001b[0m\n\u001b[0;32m   3165\u001b[0m     \u001b[1;32mdef\u001b[0m \u001b[0m_setitem_slice\u001b[0m\u001b[1;33m(\u001b[0m\u001b[0mself\u001b[0m\u001b[1;33m,\u001b[0m \u001b[0mkey\u001b[0m\u001b[1;33m:\u001b[0m \u001b[0mslice\u001b[0m\u001b[1;33m,\u001b[0m \u001b[0mvalue\u001b[0m\u001b[1;33m)\u001b[0m\u001b[1;33m:\u001b[0m\u001b[1;33m\u001b[0m\u001b[1;33m\u001b[0m\u001b[0m\n",
      "\u001b[1;32mC:\\ProgramData\\Anaconda3\\lib\\site-packages\\pandas\\core\\frame.py\u001b[0m in \u001b[0;36m_set_item\u001b[1;34m(self, key, value)\u001b[0m\n\u001b[0;32m   3240\u001b[0m         \"\"\"\n\u001b[0;32m   3241\u001b[0m         \u001b[0mself\u001b[0m\u001b[1;33m.\u001b[0m\u001b[0m_ensure_valid_index\u001b[0m\u001b[1;33m(\u001b[0m\u001b[0mvalue\u001b[0m\u001b[1;33m)\u001b[0m\u001b[1;33m\u001b[0m\u001b[1;33m\u001b[0m\u001b[0m\n\u001b[1;32m-> 3242\u001b[1;33m         \u001b[0mvalue\u001b[0m \u001b[1;33m=\u001b[0m \u001b[0mself\u001b[0m\u001b[1;33m.\u001b[0m\u001b[0m_sanitize_column\u001b[0m\u001b[1;33m(\u001b[0m\u001b[0mkey\u001b[0m\u001b[1;33m,\u001b[0m \u001b[0mvalue\u001b[0m\u001b[1;33m)\u001b[0m\u001b[1;33m\u001b[0m\u001b[1;33m\u001b[0m\u001b[0m\n\u001b[0m\u001b[0;32m   3243\u001b[0m         \u001b[0mNDFrame\u001b[0m\u001b[1;33m.\u001b[0m\u001b[0m_set_item\u001b[0m\u001b[1;33m(\u001b[0m\u001b[0mself\u001b[0m\u001b[1;33m,\u001b[0m \u001b[0mkey\u001b[0m\u001b[1;33m,\u001b[0m \u001b[0mvalue\u001b[0m\u001b[1;33m)\u001b[0m\u001b[1;33m\u001b[0m\u001b[1;33m\u001b[0m\u001b[0m\n\u001b[0;32m   3244\u001b[0m \u001b[1;33m\u001b[0m\u001b[0m\n",
      "\u001b[1;32mC:\\ProgramData\\Anaconda3\\lib\\site-packages\\pandas\\core\\frame.py\u001b[0m in \u001b[0;36m_sanitize_column\u001b[1;34m(self, key, value, broadcast)\u001b[0m\n\u001b[0;32m   3897\u001b[0m \u001b[1;33m\u001b[0m\u001b[0m\n\u001b[0;32m   3898\u001b[0m             \u001b[1;31m# turn me into an ndarray\u001b[0m\u001b[1;33m\u001b[0m\u001b[1;33m\u001b[0m\u001b[1;33m\u001b[0m\u001b[0m\n\u001b[1;32m-> 3899\u001b[1;33m             \u001b[0mvalue\u001b[0m \u001b[1;33m=\u001b[0m \u001b[0msanitize_index\u001b[0m\u001b[1;33m(\u001b[0m\u001b[0mvalue\u001b[0m\u001b[1;33m,\u001b[0m \u001b[0mself\u001b[0m\u001b[1;33m.\u001b[0m\u001b[0mindex\u001b[0m\u001b[1;33m)\u001b[0m\u001b[1;33m\u001b[0m\u001b[1;33m\u001b[0m\u001b[0m\n\u001b[0m\u001b[0;32m   3900\u001b[0m             \u001b[1;32mif\u001b[0m \u001b[1;32mnot\u001b[0m \u001b[0misinstance\u001b[0m\u001b[1;33m(\u001b[0m\u001b[0mvalue\u001b[0m\u001b[1;33m,\u001b[0m \u001b[1;33m(\u001b[0m\u001b[0mnp\u001b[0m\u001b[1;33m.\u001b[0m\u001b[0mndarray\u001b[0m\u001b[1;33m,\u001b[0m \u001b[0mIndex\u001b[0m\u001b[1;33m)\u001b[0m\u001b[1;33m)\u001b[0m\u001b[1;33m:\u001b[0m\u001b[1;33m\u001b[0m\u001b[1;33m\u001b[0m\u001b[0m\n\u001b[0;32m   3901\u001b[0m                 \u001b[1;32mif\u001b[0m \u001b[0misinstance\u001b[0m\u001b[1;33m(\u001b[0m\u001b[0mvalue\u001b[0m\u001b[1;33m,\u001b[0m \u001b[0mlist\u001b[0m\u001b[1;33m)\u001b[0m \u001b[1;32mand\u001b[0m \u001b[0mlen\u001b[0m\u001b[1;33m(\u001b[0m\u001b[0mvalue\u001b[0m\u001b[1;33m)\u001b[0m \u001b[1;33m>\u001b[0m \u001b[1;36m0\u001b[0m\u001b[1;33m:\u001b[0m\u001b[1;33m\u001b[0m\u001b[1;33m\u001b[0m\u001b[0m\n",
      "\u001b[1;32mC:\\ProgramData\\Anaconda3\\lib\\site-packages\\pandas\\core\\internals\\construction.py\u001b[0m in \u001b[0;36msanitize_index\u001b[1;34m(data, index)\u001b[0m\n\u001b[0;32m    749\u001b[0m     \"\"\"\n\u001b[0;32m    750\u001b[0m     \u001b[1;32mif\u001b[0m \u001b[0mlen\u001b[0m\u001b[1;33m(\u001b[0m\u001b[0mdata\u001b[0m\u001b[1;33m)\u001b[0m \u001b[1;33m!=\u001b[0m \u001b[0mlen\u001b[0m\u001b[1;33m(\u001b[0m\u001b[0mindex\u001b[0m\u001b[1;33m)\u001b[0m\u001b[1;33m:\u001b[0m\u001b[1;33m\u001b[0m\u001b[1;33m\u001b[0m\u001b[0m\n\u001b[1;32m--> 751\u001b[1;33m         raise ValueError(\n\u001b[0m\u001b[0;32m    752\u001b[0m             \u001b[1;34m\"Length of values \"\u001b[0m\u001b[1;33m\u001b[0m\u001b[1;33m\u001b[0m\u001b[0m\n\u001b[0;32m    753\u001b[0m             \u001b[1;34mf\"({len(data)}) \"\u001b[0m\u001b[1;33m\u001b[0m\u001b[1;33m\u001b[0m\u001b[0m\n",
      "\u001b[1;31mValueError\u001b[0m: Length of values (32000) does not match length of index (40000)"
     ]
    }
   ],
   "source": [
    "#KS ARBOL\n",
    "#TRAIN\n",
    "\n",
    "df_train_a = y_train_a.to_frame()\n",
    "df_train_a[\"estimado\"]=train_pred[:,1]\n",
    "#df_train_a\n",
    "\n",
    "\n"
   ]
  },
  {
   "cell_type": "code",
   "execution_count": 47,
   "metadata": {},
   "outputs": [
    {
     "ename": "KeyError",
     "evalue": "'estimado'",
     "output_type": "error",
     "traceback": [
      "\u001b[1;31m---------------------------------------------------------------------------\u001b[0m",
      "\u001b[1;31mKeyError\u001b[0m                                  Traceback (most recent call last)",
      "\u001b[1;32m~\\anaconda3\\lib\\site-packages\\pandas\\core\\indexes\\base.py\u001b[0m in \u001b[0;36mget_loc\u001b[1;34m(self, key, method, tolerance)\u001b[0m\n\u001b[0;32m   2894\u001b[0m             \u001b[1;32mtry\u001b[0m\u001b[1;33m:\u001b[0m\u001b[1;33m\u001b[0m\u001b[1;33m\u001b[0m\u001b[0m\n\u001b[1;32m-> 2895\u001b[1;33m                 \u001b[1;32mreturn\u001b[0m \u001b[0mself\u001b[0m\u001b[1;33m.\u001b[0m\u001b[0m_engine\u001b[0m\u001b[1;33m.\u001b[0m\u001b[0mget_loc\u001b[0m\u001b[1;33m(\u001b[0m\u001b[0mcasted_key\u001b[0m\u001b[1;33m)\u001b[0m\u001b[1;33m\u001b[0m\u001b[1;33m\u001b[0m\u001b[0m\n\u001b[0m\u001b[0;32m   2896\u001b[0m             \u001b[1;32mexcept\u001b[0m \u001b[0mKeyError\u001b[0m \u001b[1;32mas\u001b[0m \u001b[0merr\u001b[0m\u001b[1;33m:\u001b[0m\u001b[1;33m\u001b[0m\u001b[1;33m\u001b[0m\u001b[0m\n",
      "\u001b[1;32mpandas\\_libs\\index.pyx\u001b[0m in \u001b[0;36mpandas._libs.index.IndexEngine.get_loc\u001b[1;34m()\u001b[0m\n",
      "\u001b[1;32mpandas\\_libs\\index.pyx\u001b[0m in \u001b[0;36mpandas._libs.index.IndexEngine.get_loc\u001b[1;34m()\u001b[0m\n",
      "\u001b[1;32mpandas\\_libs\\hashtable_class_helper.pxi\u001b[0m in \u001b[0;36mpandas._libs.hashtable.PyObjectHashTable.get_item\u001b[1;34m()\u001b[0m\n",
      "\u001b[1;32mpandas\\_libs\\hashtable_class_helper.pxi\u001b[0m in \u001b[0;36mpandas._libs.hashtable.PyObjectHashTable.get_item\u001b[1;34m()\u001b[0m\n",
      "\u001b[1;31mKeyError\u001b[0m: 'estimado'",
      "\nThe above exception was the direct cause of the following exception:\n",
      "\u001b[1;31mKeyError\u001b[0m                                  Traceback (most recent call last)",
      "\u001b[1;32m<ipython-input-47-9e592ce53322>\u001b[0m in \u001b[0;36m<module>\u001b[1;34m\u001b[0m\n\u001b[0;32m      1\u001b[0m \u001b[1;31m#Histograma de los \"buenos\"\u001b[0m\u001b[1;33m\u001b[0m\u001b[1;33m\u001b[0m\u001b[1;33m\u001b[0m\u001b[0m\n\u001b[1;32m----> 2\u001b[1;33m \u001b[0mhist\u001b[0m\u001b[1;33m(\u001b[0m\u001b[0mdf_train_a\u001b[0m\u001b[1;33m[\u001b[0m\u001b[0mdf_train_a\u001b[0m\u001b[1;33m[\u001b[0m\u001b[1;34m\"Respuesta\"\u001b[0m\u001b[1;33m]\u001b[0m\u001b[1;33m==\u001b[0m\u001b[1;36m1.0\u001b[0m\u001b[1;33m]\u001b[0m\u001b[1;33m[\u001b[0m\u001b[1;34m\"estimado\"\u001b[0m\u001b[1;33m]\u001b[0m\u001b[1;33m,\u001b[0m\u001b[0mcolor\u001b[0m\u001b[1;33m=\u001b[0m\u001b[1;34m\"red\"\u001b[0m\u001b[1;33m)\u001b[0m\u001b[1;33m\u001b[0m\u001b[1;33m\u001b[0m\u001b[0m\n\u001b[0m\u001b[0;32m      3\u001b[0m \u001b[0mshow\u001b[0m\u001b[1;33m(\u001b[0m\u001b[1;33m)\u001b[0m\u001b[1;33m\u001b[0m\u001b[1;33m\u001b[0m\u001b[0m\n",
      "\u001b[1;32m~\\anaconda3\\lib\\site-packages\\pandas\\core\\frame.py\u001b[0m in \u001b[0;36m__getitem__\u001b[1;34m(self, key)\u001b[0m\n\u001b[0;32m   2900\u001b[0m             \u001b[1;32mif\u001b[0m \u001b[0mself\u001b[0m\u001b[1;33m.\u001b[0m\u001b[0mcolumns\u001b[0m\u001b[1;33m.\u001b[0m\u001b[0mnlevels\u001b[0m \u001b[1;33m>\u001b[0m \u001b[1;36m1\u001b[0m\u001b[1;33m:\u001b[0m\u001b[1;33m\u001b[0m\u001b[1;33m\u001b[0m\u001b[0m\n\u001b[0;32m   2901\u001b[0m                 \u001b[1;32mreturn\u001b[0m \u001b[0mself\u001b[0m\u001b[1;33m.\u001b[0m\u001b[0m_getitem_multilevel\u001b[0m\u001b[1;33m(\u001b[0m\u001b[0mkey\u001b[0m\u001b[1;33m)\u001b[0m\u001b[1;33m\u001b[0m\u001b[1;33m\u001b[0m\u001b[0m\n\u001b[1;32m-> 2902\u001b[1;33m             \u001b[0mindexer\u001b[0m \u001b[1;33m=\u001b[0m \u001b[0mself\u001b[0m\u001b[1;33m.\u001b[0m\u001b[0mcolumns\u001b[0m\u001b[1;33m.\u001b[0m\u001b[0mget_loc\u001b[0m\u001b[1;33m(\u001b[0m\u001b[0mkey\u001b[0m\u001b[1;33m)\u001b[0m\u001b[1;33m\u001b[0m\u001b[1;33m\u001b[0m\u001b[0m\n\u001b[0m\u001b[0;32m   2903\u001b[0m             \u001b[1;32mif\u001b[0m \u001b[0mis_integer\u001b[0m\u001b[1;33m(\u001b[0m\u001b[0mindexer\u001b[0m\u001b[1;33m)\u001b[0m\u001b[1;33m:\u001b[0m\u001b[1;33m\u001b[0m\u001b[1;33m\u001b[0m\u001b[0m\n\u001b[0;32m   2904\u001b[0m                 \u001b[0mindexer\u001b[0m \u001b[1;33m=\u001b[0m \u001b[1;33m[\u001b[0m\u001b[0mindexer\u001b[0m\u001b[1;33m]\u001b[0m\u001b[1;33m\u001b[0m\u001b[1;33m\u001b[0m\u001b[0m\n",
      "\u001b[1;32m~\\anaconda3\\lib\\site-packages\\pandas\\core\\indexes\\base.py\u001b[0m in \u001b[0;36mget_loc\u001b[1;34m(self, key, method, tolerance)\u001b[0m\n\u001b[0;32m   2895\u001b[0m                 \u001b[1;32mreturn\u001b[0m \u001b[0mself\u001b[0m\u001b[1;33m.\u001b[0m\u001b[0m_engine\u001b[0m\u001b[1;33m.\u001b[0m\u001b[0mget_loc\u001b[0m\u001b[1;33m(\u001b[0m\u001b[0mcasted_key\u001b[0m\u001b[1;33m)\u001b[0m\u001b[1;33m\u001b[0m\u001b[1;33m\u001b[0m\u001b[0m\n\u001b[0;32m   2896\u001b[0m             \u001b[1;32mexcept\u001b[0m \u001b[0mKeyError\u001b[0m \u001b[1;32mas\u001b[0m \u001b[0merr\u001b[0m\u001b[1;33m:\u001b[0m\u001b[1;33m\u001b[0m\u001b[1;33m\u001b[0m\u001b[0m\n\u001b[1;32m-> 2897\u001b[1;33m                 \u001b[1;32mraise\u001b[0m \u001b[0mKeyError\u001b[0m\u001b[1;33m(\u001b[0m\u001b[0mkey\u001b[0m\u001b[1;33m)\u001b[0m \u001b[1;32mfrom\u001b[0m \u001b[0merr\u001b[0m\u001b[1;33m\u001b[0m\u001b[1;33m\u001b[0m\u001b[0m\n\u001b[0m\u001b[0;32m   2898\u001b[0m \u001b[1;33m\u001b[0m\u001b[0m\n\u001b[0;32m   2899\u001b[0m         \u001b[1;32mif\u001b[0m \u001b[0mtolerance\u001b[0m \u001b[1;32mis\u001b[0m \u001b[1;32mnot\u001b[0m \u001b[1;32mNone\u001b[0m\u001b[1;33m:\u001b[0m\u001b[1;33m\u001b[0m\u001b[1;33m\u001b[0m\u001b[0m\n",
      "\u001b[1;31mKeyError\u001b[0m: 'estimado'"
     ]
    }
   ],
   "source": [
    "#Histograma de los \"buenos\"\n",
    "hist(df_train_a[df_train_a[\"Respuesta\"]==1.0][\"estimado\"],color=\"red\")\n",
    "show()"
   ]
  },
  {
   "cell_type": "code",
   "execution_count": 48,
   "metadata": {},
   "outputs": [
    {
     "ename": "AttributeError",
     "evalue": "'DataFrame' object has no attribute 'estimado'",
     "output_type": "error",
     "traceback": [
      "\u001b[1;31m---------------------------------------------------------------------------\u001b[0m",
      "\u001b[1;31mAttributeError\u001b[0m                            Traceback (most recent call last)",
      "\u001b[1;32m<ipython-input-48-530ea5814526>\u001b[0m in \u001b[0;36m<module>\u001b[1;34m\u001b[0m\n\u001b[0;32m      1\u001b[0m \u001b[1;31m#Particion de intervalos\u001b[0m\u001b[1;33m\u001b[0m\u001b[1;33m\u001b[0m\u001b[1;33m\u001b[0m\u001b[0m\n\u001b[1;32m----> 2\u001b[1;33m \u001b[0mdf_train_a\u001b[0m\u001b[1;33m[\u001b[0m\u001b[1;34m\"Rangos_prob\"\u001b[0m\u001b[1;33m]\u001b[0m\u001b[1;33m=\u001b[0m\u001b[0mpd\u001b[0m\u001b[1;33m.\u001b[0m\u001b[0mqcut\u001b[0m\u001b[1;33m(\u001b[0m\u001b[0mdf_train_a\u001b[0m\u001b[1;33m.\u001b[0m\u001b[0mestimado\u001b[0m\u001b[1;33m,\u001b[0m \u001b[1;36m1\u001b[0m\u001b[1;33m)\u001b[0m\u001b[1;33m\u001b[0m\u001b[1;33m\u001b[0m\u001b[0m\n\u001b[0m\u001b[0;32m      3\u001b[0m \u001b[0mdf_train_a\u001b[0m\u001b[1;33m.\u001b[0m\u001b[0mhead\u001b[0m\u001b[1;33m(\u001b[0m\u001b[1;33m)\u001b[0m\u001b[1;33m\u001b[0m\u001b[1;33m\u001b[0m\u001b[0m\n",
      "\u001b[1;32m~\\anaconda3\\lib\\site-packages\\pandas\\core\\generic.py\u001b[0m in \u001b[0;36m__getattr__\u001b[1;34m(self, name)\u001b[0m\n\u001b[0;32m   5137\u001b[0m             \u001b[1;32mif\u001b[0m \u001b[0mself\u001b[0m\u001b[1;33m.\u001b[0m\u001b[0m_info_axis\u001b[0m\u001b[1;33m.\u001b[0m\u001b[0m_can_hold_identifiers_and_holds_name\u001b[0m\u001b[1;33m(\u001b[0m\u001b[0mname\u001b[0m\u001b[1;33m)\u001b[0m\u001b[1;33m:\u001b[0m\u001b[1;33m\u001b[0m\u001b[1;33m\u001b[0m\u001b[0m\n\u001b[0;32m   5138\u001b[0m                 \u001b[1;32mreturn\u001b[0m \u001b[0mself\u001b[0m\u001b[1;33m[\u001b[0m\u001b[0mname\u001b[0m\u001b[1;33m]\u001b[0m\u001b[1;33m\u001b[0m\u001b[1;33m\u001b[0m\u001b[0m\n\u001b[1;32m-> 5139\u001b[1;33m             \u001b[1;32mreturn\u001b[0m \u001b[0mobject\u001b[0m\u001b[1;33m.\u001b[0m\u001b[0m__getattribute__\u001b[0m\u001b[1;33m(\u001b[0m\u001b[0mself\u001b[0m\u001b[1;33m,\u001b[0m \u001b[0mname\u001b[0m\u001b[1;33m)\u001b[0m\u001b[1;33m\u001b[0m\u001b[1;33m\u001b[0m\u001b[0m\n\u001b[0m\u001b[0;32m   5140\u001b[0m \u001b[1;33m\u001b[0m\u001b[0m\n\u001b[0;32m   5141\u001b[0m     \u001b[1;32mdef\u001b[0m \u001b[0m__setattr__\u001b[0m\u001b[1;33m(\u001b[0m\u001b[0mself\u001b[0m\u001b[1;33m,\u001b[0m \u001b[0mname\u001b[0m\u001b[1;33m:\u001b[0m \u001b[0mstr\u001b[0m\u001b[1;33m,\u001b[0m \u001b[0mvalue\u001b[0m\u001b[1;33m)\u001b[0m \u001b[1;33m->\u001b[0m \u001b[1;32mNone\u001b[0m\u001b[1;33m:\u001b[0m\u001b[1;33m\u001b[0m\u001b[1;33m\u001b[0m\u001b[0m\n",
      "\u001b[1;31mAttributeError\u001b[0m: 'DataFrame' object has no attribute 'estimado'"
     ]
    }
   ],
   "source": [
    "#Particion de intervalos\n",
    "df_train_a[\"Rangos_prob\"]=pd.qcut(df_train_a.estimado, 1)\n",
    "df_train_a.head()"
   ]
  },
  {
   "cell_type": "code",
   "execution_count": 49,
   "metadata": {},
   "outputs": [
    {
     "ename": "KeyError",
     "evalue": "'Rangos_prob'",
     "output_type": "error",
     "traceback": [
      "\u001b[1;31m---------------------------------------------------------------------------\u001b[0m",
      "\u001b[1;31mKeyError\u001b[0m                                  Traceback (most recent call last)",
      "\u001b[1;32m<ipython-input-49-4912ff5af767>\u001b[0m in \u001b[0;36m<module>\u001b[1;34m\u001b[0m\n\u001b[1;32m----> 1\u001b[1;33m \u001b[0mdf_train_a\u001b[0m\u001b[1;33m.\u001b[0m\u001b[0mgroupby\u001b[0m\u001b[1;33m(\u001b[0m\u001b[1;33m[\u001b[0m\u001b[1;34m\"Respuesta\"\u001b[0m\u001b[1;33m,\u001b[0m\u001b[1;34m\"Rangos_prob\"\u001b[0m\u001b[1;33m]\u001b[0m\u001b[1;33m)\u001b[0m\u001b[1;33m.\u001b[0m\u001b[0mcount\u001b[0m\u001b[1;33m(\u001b[0m\u001b[1;33m)\u001b[0m\u001b[1;33m\u001b[0m\u001b[1;33m\u001b[0m\u001b[0m\n\u001b[0m",
      "\u001b[1;32m~\\anaconda3\\lib\\site-packages\\pandas\\core\\frame.py\u001b[0m in \u001b[0;36mgroupby\u001b[1;34m(self, by, axis, level, as_index, sort, group_keys, squeeze, observed, dropna)\u001b[0m\n\u001b[0;32m   6509\u001b[0m         \u001b[0maxis\u001b[0m \u001b[1;33m=\u001b[0m \u001b[0mself\u001b[0m\u001b[1;33m.\u001b[0m\u001b[0m_get_axis_number\u001b[0m\u001b[1;33m(\u001b[0m\u001b[0maxis\u001b[0m\u001b[1;33m)\u001b[0m\u001b[1;33m\u001b[0m\u001b[1;33m\u001b[0m\u001b[0m\n\u001b[0;32m   6510\u001b[0m \u001b[1;33m\u001b[0m\u001b[0m\n\u001b[1;32m-> 6511\u001b[1;33m         return DataFrameGroupBy(\n\u001b[0m\u001b[0;32m   6512\u001b[0m             \u001b[0mobj\u001b[0m\u001b[1;33m=\u001b[0m\u001b[0mself\u001b[0m\u001b[1;33m,\u001b[0m\u001b[1;33m\u001b[0m\u001b[1;33m\u001b[0m\u001b[0m\n\u001b[0;32m   6513\u001b[0m             \u001b[0mkeys\u001b[0m\u001b[1;33m=\u001b[0m\u001b[0mby\u001b[0m\u001b[1;33m,\u001b[0m\u001b[1;33m\u001b[0m\u001b[1;33m\u001b[0m\u001b[0m\n",
      "\u001b[1;32m~\\anaconda3\\lib\\site-packages\\pandas\\core\\groupby\\groupby.py\u001b[0m in \u001b[0;36m__init__\u001b[1;34m(self, obj, keys, axis, level, grouper, exclusions, selection, as_index, sort, group_keys, squeeze, observed, mutated, dropna)\u001b[0m\n\u001b[0;32m    523\u001b[0m             \u001b[1;32mfrom\u001b[0m \u001b[0mpandas\u001b[0m\u001b[1;33m.\u001b[0m\u001b[0mcore\u001b[0m\u001b[1;33m.\u001b[0m\u001b[0mgroupby\u001b[0m\u001b[1;33m.\u001b[0m\u001b[0mgrouper\u001b[0m \u001b[1;32mimport\u001b[0m \u001b[0mget_grouper\u001b[0m\u001b[1;33m\u001b[0m\u001b[1;33m\u001b[0m\u001b[0m\n\u001b[0;32m    524\u001b[0m \u001b[1;33m\u001b[0m\u001b[0m\n\u001b[1;32m--> 525\u001b[1;33m             grouper, exclusions, obj = get_grouper(\n\u001b[0m\u001b[0;32m    526\u001b[0m                 \u001b[0mobj\u001b[0m\u001b[1;33m,\u001b[0m\u001b[1;33m\u001b[0m\u001b[1;33m\u001b[0m\u001b[0m\n\u001b[0;32m    527\u001b[0m                 \u001b[0mkeys\u001b[0m\u001b[1;33m,\u001b[0m\u001b[1;33m\u001b[0m\u001b[1;33m\u001b[0m\u001b[0m\n",
      "\u001b[1;32m~\\anaconda3\\lib\\site-packages\\pandas\\core\\groupby\\grouper.py\u001b[0m in \u001b[0;36mget_grouper\u001b[1;34m(obj, key, axis, level, sort, observed, mutated, validate, dropna)\u001b[0m\n\u001b[0;32m    779\u001b[0m                 \u001b[0min_axis\u001b[0m\u001b[1;33m,\u001b[0m \u001b[0mname\u001b[0m\u001b[1;33m,\u001b[0m \u001b[0mlevel\u001b[0m\u001b[1;33m,\u001b[0m \u001b[0mgpr\u001b[0m \u001b[1;33m=\u001b[0m \u001b[1;32mFalse\u001b[0m\u001b[1;33m,\u001b[0m \u001b[1;32mNone\u001b[0m\u001b[1;33m,\u001b[0m \u001b[0mgpr\u001b[0m\u001b[1;33m,\u001b[0m \u001b[1;32mNone\u001b[0m\u001b[1;33m\u001b[0m\u001b[1;33m\u001b[0m\u001b[0m\n\u001b[0;32m    780\u001b[0m             \u001b[1;32melse\u001b[0m\u001b[1;33m:\u001b[0m\u001b[1;33m\u001b[0m\u001b[1;33m\u001b[0m\u001b[0m\n\u001b[1;32m--> 781\u001b[1;33m                 \u001b[1;32mraise\u001b[0m \u001b[0mKeyError\u001b[0m\u001b[1;33m(\u001b[0m\u001b[0mgpr\u001b[0m\u001b[1;33m)\u001b[0m\u001b[1;33m\u001b[0m\u001b[1;33m\u001b[0m\u001b[0m\n\u001b[0m\u001b[0;32m    782\u001b[0m         \u001b[1;32melif\u001b[0m \u001b[0misinstance\u001b[0m\u001b[1;33m(\u001b[0m\u001b[0mgpr\u001b[0m\u001b[1;33m,\u001b[0m \u001b[0mGrouper\u001b[0m\u001b[1;33m)\u001b[0m \u001b[1;32mand\u001b[0m \u001b[0mgpr\u001b[0m\u001b[1;33m.\u001b[0m\u001b[0mkey\u001b[0m \u001b[1;32mis\u001b[0m \u001b[1;32mnot\u001b[0m \u001b[1;32mNone\u001b[0m\u001b[1;33m:\u001b[0m\u001b[1;33m\u001b[0m\u001b[1;33m\u001b[0m\u001b[0m\n\u001b[0;32m    783\u001b[0m             \u001b[1;31m# Add key to exclusions\u001b[0m\u001b[1;33m\u001b[0m\u001b[1;33m\u001b[0m\u001b[1;33m\u001b[0m\u001b[0m\n",
      "\u001b[1;31mKeyError\u001b[0m: 'Rangos_prob'"
     ]
    }
   ],
   "source": [
    "df_train_a.groupby([\"Respuesta\",\"Rangos_prob\"]).count()"
   ]
  },
  {
   "cell_type": "code",
   "execution_count": 50,
   "metadata": {},
   "outputs": [
    {
     "ename": "NameError",
     "evalue": "name 'ECDF' is not defined",
     "output_type": "error",
     "traceback": [
      "\u001b[1;31m---------------------------------------------------------------------------\u001b[0m",
      "\u001b[1;31mNameError\u001b[0m                                 Traceback (most recent call last)",
      "\u001b[1;32m<ipython-input-50-0cb63734a026>\u001b[0m in \u001b[0;36m<module>\u001b[1;34m\u001b[0m\n\u001b[0;32m      1\u001b[0m \u001b[1;31m#KS\u001b[0m\u001b[1;33m\u001b[0m\u001b[1;33m\u001b[0m\u001b[1;33m\u001b[0m\u001b[0m\n\u001b[1;32m----> 2\u001b[1;33m \u001b[0mecdf_malos_train_a\u001b[0m\u001b[1;33m=\u001b[0m\u001b[0mECDF\u001b[0m\u001b[1;33m(\u001b[0m\u001b[0mdf_train_a\u001b[0m\u001b[1;33m.\u001b[0m\u001b[0mloc\u001b[0m\u001b[1;33m[\u001b[0m\u001b[0mdf_train_a\u001b[0m\u001b[1;33m.\u001b[0m\u001b[0mRespuesta\u001b[0m \u001b[1;33m==\u001b[0m \u001b[1;36m1.0\u001b[0m\u001b[1;33m,\u001b[0m \u001b[1;34m\"estimado\"\u001b[0m\u001b[1;33m]\u001b[0m\u001b[1;33m)\u001b[0m\u001b[1;33m\u001b[0m\u001b[1;33m\u001b[0m\u001b[0m\n\u001b[0m\u001b[0;32m      3\u001b[0m \u001b[0mecdf_buenos_train_a\u001b[0m\u001b[1;33m=\u001b[0m\u001b[0mECDF\u001b[0m\u001b[1;33m(\u001b[0m\u001b[0mdf_train_a\u001b[0m\u001b[1;33m.\u001b[0m\u001b[0mloc\u001b[0m\u001b[1;33m[\u001b[0m\u001b[0mdf_train_a\u001b[0m\u001b[1;33m.\u001b[0m\u001b[0mRespuesta\u001b[0m \u001b[1;33m==\u001b[0m \u001b[1;36m0.0\u001b[0m\u001b[1;33m,\u001b[0m \u001b[1;34m\"estimado\"\u001b[0m\u001b[1;33m]\u001b[0m\u001b[1;33m)\u001b[0m\u001b[1;33m\u001b[0m\u001b[1;33m\u001b[0m\u001b[0m\n\u001b[0;32m      4\u001b[0m \u001b[0mgrid_score_train_a\u001b[0m\u001b[1;33m=\u001b[0m\u001b[0mnp\u001b[0m\u001b[1;33m.\u001b[0m\u001b[0msort\u001b[0m\u001b[1;33m(\u001b[0m\u001b[0mdf_train_a\u001b[0m\u001b[1;33m.\u001b[0m\u001b[0mestimado\u001b[0m\u001b[1;33m.\u001b[0m\u001b[0munique\u001b[0m\u001b[1;33m(\u001b[0m\u001b[1;33m)\u001b[0m\u001b[1;33m)\u001b[0m\u001b[1;33m\u001b[0m\u001b[1;33m\u001b[0m\u001b[0m\n\u001b[0;32m      5\u001b[0m \u001b[0mprob_acum_buenos_train_a\u001b[0m \u001b[1;33m=\u001b[0m \u001b[0mecdf_buenos_train_a\u001b[0m\u001b[1;33m(\u001b[0m\u001b[0mgrid_score_train_a\u001b[0m\u001b[1;33m)\u001b[0m\u001b[1;33m\u001b[0m\u001b[1;33m\u001b[0m\u001b[0m\n",
      "\u001b[1;31mNameError\u001b[0m: name 'ECDF' is not defined"
     ]
    }
   ],
   "source": [
    "#KS\n",
    "ecdf_malos_train_a=ECDF(df_train_a.loc[df_train_a.Respuesta == 1.0, \"estimado\"])\n",
    "ecdf_buenos_train_a=ECDF(df_train_a.loc[df_train_a.Respuesta == 0.0, \"estimado\"])\n",
    "grid_score_train_a=np.sort(df_train_a.estimado.unique())\n",
    "prob_acum_buenos_train_a = ecdf_buenos_train_a(grid_score_train_a)\n",
    "prob_acum_malos_train_a = ecdf_malos_train_a(grid_score_train_a)"
   ]
  },
  {
   "cell_type": "code",
   "execution_count": 51,
   "metadata": {},
   "outputs": [
    {
     "ename": "NameError",
     "evalue": "name 'prob_acum_buenos_train_a' is not defined",
     "output_type": "error",
     "traceback": [
      "\u001b[1;31m---------------------------------------------------------------------------\u001b[0m",
      "\u001b[1;31mNameError\u001b[0m                                 Traceback (most recent call last)",
      "\u001b[1;32m<ipython-input-51-1802409739a8>\u001b[0m in \u001b[0;36m<module>\u001b[1;34m\u001b[0m\n\u001b[1;32m----> 1\u001b[1;33m \u001b[0mabs_dif_train_a\u001b[0m \u001b[1;33m=\u001b[0m \u001b[0mnp\u001b[0m\u001b[1;33m.\u001b[0m\u001b[0mabs\u001b[0m\u001b[1;33m(\u001b[0m\u001b[0mprob_acum_buenos_train_a\u001b[0m \u001b[1;33m-\u001b[0m \u001b[0mprob_acum_malos_train_a\u001b[0m\u001b[1;33m)\u001b[0m\u001b[1;33m\u001b[0m\u001b[1;33m\u001b[0m\u001b[0m\n\u001b[0m\u001b[0;32m      2\u001b[0m \u001b[0mKS_train_a\u001b[0m \u001b[1;33m=\u001b[0m \u001b[0mnp\u001b[0m\u001b[1;33m.\u001b[0m\u001b[0mmax\u001b[0m\u001b[1;33m(\u001b[0m\u001b[0mabs_dif_train_a\u001b[0m\u001b[1;33m)\u001b[0m\u001b[1;33m\u001b[0m\u001b[1;33m\u001b[0m\u001b[0m\n\u001b[0;32m      3\u001b[0m \u001b[0mKS_train_a\u001b[0m\u001b[1;33m\u001b[0m\u001b[1;33m\u001b[0m\u001b[0m\n",
      "\u001b[1;31mNameError\u001b[0m: name 'prob_acum_buenos_train_a' is not defined"
     ]
    }
   ],
   "source": [
    "abs_dif_train_a = np.abs(prob_acum_buenos_train_a - prob_acum_malos_train_a)\n",
    "KS_train_a = np.max(abs_dif_train_a)\n",
    "KS_train_a"
   ]
  },
  {
   "cell_type": "markdown",
   "metadata": {},
   "source": [
    "# CROSS VALIDATION"
   ]
  },
  {
   "cell_type": "markdown",
   "metadata": {},
   "source": [
    "Definimos la siguiente función para facilitar la implementación del K-Fold Cross Validation dado un modelo, las covariables, la respuesta y una lista de diferentes k's"
   ]
  },
  {
   "cell_type": "code",
   "execution_count": 66,
   "metadata": {},
   "outputs": [],
   "source": [
    "def Crossv(model,X,y,cv_list):\n",
    "    for i in cv_list:\n",
    "        scores=cross_val_score(model, X, y, cv=i)\n",
    "        aux=scores.mean()\n",
    "        print(\"Con {0}-fold cross validation: {1}\".format(i,aux))\n",
    "    return    "
   ]
  },
  {
   "cell_type": "markdown",
   "metadata": {},
   "source": [
    "Primero procedemos con el árbol:"
   ]
  },
  {
   "cell_type": "code",
   "execution_count": 67,
   "metadata": {},
   "outputs": [],
   "source": [
    "tree=DecisionTreeClassifier(criterion=clasificador,\n",
    "                                          max_depth=profundidad,\n",
    "                                          min_samples_leaf=minhojas,\n",
    "                                          random_state=42)\n",
    "tree_pipeline2 = Pipeline(steps=[('preprocessor', preprocessor),('classifier', reg_tree)])"
   ]
  },
  {
   "cell_type": "code",
   "execution_count": 68,
   "metadata": {},
   "outputs": [
    {
     "name": "stdout",
     "output_type": "stream",
     "text": [
      "Con 5-fold cross validation: 0.9451599999999999\n",
      "Con 10-fold cross validation: 0.94526\n",
      "Con 100-fold cross validation: 0.94534\n"
     ]
    }
   ],
   "source": [
    "Crossv(tree_pipeline2,Xa,ya,[5,10,100])"
   ]
  },
  {
   "cell_type": "markdown",
   "metadata": {},
   "source": [
    "Ahora, trabajamos con la regresión:"
   ]
  },
  {
   "cell_type": "code",
   "execution_count": null,
   "metadata": {},
   "outputs": [],
   "source": [
    "reg_cv=LogisticRegression()"
   ]
  },
  {
   "cell_type": "code",
   "execution_count": null,
   "metadata": {},
   "outputs": [],
   "source": [
    "yw=base_woep.pop(\"Respuesta\")"
   ]
  },
  {
   "cell_type": "code",
   "execution_count": null,
   "metadata": {},
   "outputs": [],
   "source": [
    "Crossv(reg_cv,base_woep,yw,[5,10,100])"
   ]
  },
  {
   "cell_type": "markdown",
   "metadata": {},
   "source": [
    "Nota: En la tabla mostrada a continuación, los valores del accuracy del Árbol de Decisión pueden variar con respecto a los obtenidos si se vuelve a correr todo el programa"
   ]
  },
  {
   "cell_type": "markdown",
   "metadata": {},
   "source": [
    "| K-Fold | Regresión Logística | Árbol de Decisión |\n",
    "| :-: | :-: | :-: |\n",
    "| 5 | 0.8402800000000001 | 0.945159999 |\n",
    "| 10 | 0.8409800000000001 | 0.94526 |\n",
    "| 100 | 0.8410400000000001 | 0.94534 |\n"
   ]
  },
  {
   "cell_type": "markdown",
   "metadata": {},
   "source": [
    "## CONCLUSIONES"
   ]
  },
  {
   "cell_type": "markdown",
   "metadata": {},
   "source": [
    "Como podemos observar, corrimos tres versiones de K-Fold Cross Validation para el modelo de Regresión Logística y lo mismo para el Árbol de Decisión, donde arbitrariamente escogimos 5,10 y 100 folds.\n",
    "\n",
    "Los resultados de la tabla anterior son los promedios del accuracy de cada iteración del Cross Validation. De esta manera, se puede apreciar que el Árbol de Decisión se desempeñó mejor en comparación con la Regresión Logística, ya que en todos los casos, su accuracy supera al de su contrincante; concluyendo así que el __Árbol de Decisión__ es un mejor modelo para los datos trabajados. "
   ]
  }
 ],
 "metadata": {
  "kernelspec": {
   "display_name": "Python 3",
   "language": "python",
   "name": "python3"
  },
  "language_info": {
   "codemirror_mode": {
    "name": "ipython",
    "version": 3
   },
   "file_extension": ".py",
   "mimetype": "text/x-python",
   "name": "python",
   "nbconvert_exporter": "python",
   "pygments_lexer": "ipython3",
   "version": "3.8.8"
  }
 },
 "nbformat": 4,
 "nbformat_minor": 4
}
