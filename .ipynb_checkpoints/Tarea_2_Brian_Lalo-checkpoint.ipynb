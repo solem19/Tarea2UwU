{
 "cells": [
  {
   "cell_type": "code",
   "execution_count": 1,
   "metadata": {},
   "outputs": [],
   "source": [
    "#Jalar bibliotecas que serán de utilidad para la tarea: \n",
    "import pandas as pd\n",
    "from sklearn.model_selection import train_test_split\n",
    "from sklearn.impute import SimpleImputer\n",
    "from sklearn.preprocessing import OneHotEncoder\n",
    "from sklearn.compose import ColumnTransformer\n",
    "from sklearn.pipeline import Pipeline\n",
    "from sklearn.tree import DecisionTreeClassifier, export_graphviz\n",
    "from sklearn import metrics\n",
    "from pylab import*\n",
    "import seaborn as sns\n",
    "import numpy as np\n",
    "from sklearn.linear_model import LogisticRegression\n",
    "from sklearn.metrics import roc_curve, auc\n",
    "import sqldf\n",
    "import scipy.stats\n",
    "from scipy.special import gamma\n",
    "from scipy.stats import beta\n",
    "from scipy.stats import spearmanr\n",
    "from scipy.stats import ks_2samp\n",
    "import matplotlib.pyplot as plt"
   ]
  },
  {
   "cell_type": "markdown",
   "metadata": {},
   "source": [
    "Jalamos la base de la tarea anterior:"
   ]
  },
  {
   "cell_type": "code",
   "execution_count": 2,
   "metadata": {},
   "outputs": [],
   "source": [
    "base_general=(pd.read_csv(\"./Base_tarea1_chida.csv\")).iloc[:,1:]"
   ]
  },
  {
   "cell_type": "code",
   "execution_count": 3,
   "metadata": {},
   "outputs": [
    {
     "data": {
      "text/html": [
       "<div>\n",
       "<style scoped>\n",
       "    .dataframe tbody tr th:only-of-type {\n",
       "        vertical-align: middle;\n",
       "    }\n",
       "\n",
       "    .dataframe tbody tr th {\n",
       "        vertical-align: top;\n",
       "    }\n",
       "\n",
       "    .dataframe thead th {\n",
       "        text-align: right;\n",
       "    }\n",
       "</style>\n",
       "<table border=\"1\" class=\"dataframe\">\n",
       "  <thead>\n",
       "    <tr style=\"text-align: right;\">\n",
       "      <th></th>\n",
       "      <th>_id_</th>\n",
       "      <th>comp_externo1</th>\n",
       "      <th>comp_externo2</th>\n",
       "      <th>comp_externo3</th>\n",
       "      <th>comp_externo4</th>\n",
       "      <th>fecha_inicio</th>\n",
       "      <th>comp_interno1</th>\n",
       "      <th>comp_interno2</th>\n",
       "      <th>comp_interno3</th>\n",
       "      <th>comp_interno4</th>\n",
       "      <th>...</th>\n",
       "      <th>cantidad_tramites</th>\n",
       "      <th>ultima_fecha</th>\n",
       "      <th>avg(comportamiento_j)</th>\n",
       "      <th>max(comportamiento_j)</th>\n",
       "      <th>cero_meses</th>\n",
       "      <th>uno_o_mas</th>\n",
       "      <th>_id2_</th>\n",
       "      <th>comp_mixto1</th>\n",
       "      <th>inversion</th>\n",
       "      <th>Respuesta</th>\n",
       "    </tr>\n",
       "  </thead>\n",
       "  <tbody>\n",
       "    <tr>\n",
       "      <th>0</th>\n",
       "      <td>1</td>\n",
       "      <td>217.391304</td>\n",
       "      <td>21.545533</td>\n",
       "      <td>102.0</td>\n",
       "      <td>-230.0</td>\n",
       "      <td>2016-03-31</td>\n",
       "      <td>3039.513678</td>\n",
       "      <td>1.0</td>\n",
       "      <td>26.0</td>\n",
       "      <td>67.0</td>\n",
       "      <td>...</td>\n",
       "      <td>1.0</td>\n",
       "      <td>2021-05-01 00:00:00</td>\n",
       "      <td>0.083333</td>\n",
       "      <td>1.0</td>\n",
       "      <td>11.0</td>\n",
       "      <td>1.0</td>\n",
       "      <td>23</td>\n",
       "      <td>0.38000</td>\n",
       "      <td>52.500490</td>\n",
       "      <td>0.0</td>\n",
       "    </tr>\n",
       "    <tr>\n",
       "      <th>1</th>\n",
       "      <td>7</td>\n",
       "      <td>468.115942</td>\n",
       "      <td>21.674806</td>\n",
       "      <td>108.0</td>\n",
       "      <td>-230.0</td>\n",
       "      <td>2016-01-19</td>\n",
       "      <td>1547.112462</td>\n",
       "      <td>1.0</td>\n",
       "      <td>28.0</td>\n",
       "      <td>75.0</td>\n",
       "      <td>...</td>\n",
       "      <td>1.0</td>\n",
       "      <td>2018-05-01 00:00:00</td>\n",
       "      <td>0.166667</td>\n",
       "      <td>1.0</td>\n",
       "      <td>10.0</td>\n",
       "      <td>2.0</td>\n",
       "      <td>161</td>\n",
       "      <td>0.33360</td>\n",
       "      <td>0.047480</td>\n",
       "      <td>1.0</td>\n",
       "    </tr>\n",
       "    <tr>\n",
       "      <th>2</th>\n",
       "      <td>8</td>\n",
       "      <td>371.884058</td>\n",
       "      <td>36.857225</td>\n",
       "      <td>125.0</td>\n",
       "      <td>-230.0</td>\n",
       "      <td>2016-02-10</td>\n",
       "      <td>1215.805471</td>\n",
       "      <td>1.0</td>\n",
       "      <td>14.0</td>\n",
       "      <td>55.0</td>\n",
       "      <td>...</td>\n",
       "      <td>5.0</td>\n",
       "      <td>2021-04-01 00:00:00</td>\n",
       "      <td>0.083333</td>\n",
       "      <td>1.0</td>\n",
       "      <td>11.0</td>\n",
       "      <td>1.0</td>\n",
       "      <td>184</td>\n",
       "      <td>0.27898</td>\n",
       "      <td>227.537211</td>\n",
       "      <td>0.0</td>\n",
       "    </tr>\n",
       "    <tr>\n",
       "      <th>3</th>\n",
       "      <td>9</td>\n",
       "      <td>85.507246</td>\n",
       "      <td>6.274059</td>\n",
       "      <td>105.0</td>\n",
       "      <td>-230.0</td>\n",
       "      <td>2016-02-18</td>\n",
       "      <td>0.000000</td>\n",
       "      <td>1.0</td>\n",
       "      <td>11.0</td>\n",
       "      <td>55.0</td>\n",
       "      <td>...</td>\n",
       "      <td>1.0</td>\n",
       "      <td>2017-04-01 00:00:00</td>\n",
       "      <td>0.000000</td>\n",
       "      <td>0.0</td>\n",
       "      <td>12.0</td>\n",
       "      <td>0.0</td>\n",
       "      <td>207</td>\n",
       "      <td>0.38000</td>\n",
       "      <td>0.921995</td>\n",
       "      <td>0.0</td>\n",
       "    </tr>\n",
       "    <tr>\n",
       "      <th>4</th>\n",
       "      <td>10</td>\n",
       "      <td>72.463768</td>\n",
       "      <td>7.181844</td>\n",
       "      <td>92.0</td>\n",
       "      <td>-230.0</td>\n",
       "      <td>2016-02-18</td>\n",
       "      <td>0.000000</td>\n",
       "      <td>1.0</td>\n",
       "      <td>11.0</td>\n",
       "      <td>56.0</td>\n",
       "      <td>...</td>\n",
       "      <td>1.0</td>\n",
       "      <td>2017-05-01 00:00:00</td>\n",
       "      <td>0.083333</td>\n",
       "      <td>1.0</td>\n",
       "      <td>11.0</td>\n",
       "      <td>1.0</td>\n",
       "      <td>230</td>\n",
       "      <td>0.37050</td>\n",
       "      <td>39.259568</td>\n",
       "      <td>0.0</td>\n",
       "    </tr>\n",
       "  </tbody>\n",
       "</table>\n",
       "<p>5 rows × 23 columns</p>\n",
       "</div>"
      ],
      "text/plain": [
       "   _id_  comp_externo1  comp_externo2  comp_externo3  comp_externo4  \\\n",
       "0     1     217.391304      21.545533          102.0         -230.0   \n",
       "1     7     468.115942      21.674806          108.0         -230.0   \n",
       "2     8     371.884058      36.857225          125.0         -230.0   \n",
       "3     9      85.507246       6.274059          105.0         -230.0   \n",
       "4    10      72.463768       7.181844           92.0         -230.0   \n",
       "\n",
       "  fecha_inicio  comp_interno1  comp_interno2  comp_interno3  comp_interno4  \\\n",
       "0   2016-03-31    3039.513678            1.0           26.0           67.0   \n",
       "1   2016-01-19    1547.112462            1.0           28.0           75.0   \n",
       "2   2016-02-10    1215.805471            1.0           14.0           55.0   \n",
       "3   2016-02-18       0.000000            1.0           11.0           55.0   \n",
       "4   2016-02-18       0.000000            1.0           11.0           56.0   \n",
       "\n",
       "   ...  cantidad_tramites         ultima_fecha  avg(comportamiento_j)  \\\n",
       "0  ...                1.0  2021-05-01 00:00:00               0.083333   \n",
       "1  ...                1.0  2018-05-01 00:00:00               0.166667   \n",
       "2  ...                5.0  2021-04-01 00:00:00               0.083333   \n",
       "3  ...                1.0  2017-04-01 00:00:00               0.000000   \n",
       "4  ...                1.0  2017-05-01 00:00:00               0.083333   \n",
       "\n",
       "   max(comportamiento_j) cero_meses  uno_o_mas  _id2_  comp_mixto1  \\\n",
       "0                    1.0       11.0        1.0     23      0.38000   \n",
       "1                    1.0       10.0        2.0    161      0.33360   \n",
       "2                    1.0       11.0        1.0    184      0.27898   \n",
       "3                    0.0       12.0        0.0    207      0.38000   \n",
       "4                    1.0       11.0        1.0    230      0.37050   \n",
       "\n",
       "    inversion  Respuesta  \n",
       "0   52.500490        0.0  \n",
       "1    0.047480        1.0  \n",
       "2  227.537211        0.0  \n",
       "3    0.921995        0.0  \n",
       "4   39.259568        0.0  \n",
       "\n",
       "[5 rows x 23 columns]"
      ]
     },
     "execution_count": 3,
     "metadata": {},
     "output_type": "execute_result"
    }
   ],
   "source": [
    "base_general.head(5)"
   ]
  },
  {
   "cell_type": "markdown",
   "metadata": {},
   "source": [
    "# MODELO LOGÍSTICO CON WOES\n"
   ]
  },
  {
   "cell_type": "markdown",
   "metadata": {},
   "source": [
    "Jalamos otra librería que será de utilidad:"
   ]
  },
  {
   "cell_type": "code",
   "execution_count": 4,
   "metadata": {},
   "outputs": [],
   "source": [
    "from optbinning import OptimalBinning"
   ]
  },
  {
   "cell_type": "markdown",
   "metadata": {},
   "source": [
    "Definimos una lista cuya función será la de construir, junto a otra lista llamada denuevo, un for que permita aplicar la transformación woe a las covariables elegidas. "
   ]
  },
  {
   "cell_type": "code",
   "execution_count": 5,
   "metadata": {},
   "outputs": [],
   "source": [
    "columnas=list(base_general.columns.values)\n",
    "columnas.remove(\"_id_\")\n",
    "columnas.remove(\"_id2_\")"
   ]
  },
  {
   "cell_type": "markdown",
   "metadata": {},
   "source": [
    "Guardamos la respuesta en una variable"
   ]
  },
  {
   "cell_type": "code",
   "execution_count": 6,
   "metadata": {},
   "outputs": [],
   "source": [
    "y=base_general.Respuesta"
   ]
  },
  {
   "cell_type": "markdown",
   "metadata": {},
   "source": [
    "Establecemos cuáles serán las variables categóricas, ya que de esto depende el tipo de transformación que se aplica para utilizar los woes."
   ]
  },
  {
   "cell_type": "code",
   "execution_count": 7,
   "metadata": {},
   "outputs": [],
   "source": [
    "categoricas=[columnas.remove(\"comp_interno2\"),columnas.remove(\"categoria1\"),columnas.remove(\"categoria2\"),columnas.remove(\"categoria3\")]\n",
    "categoricas=[\"comp_interno2\",\"categoria1\",\"categoria2\",\"categoria3\"]"
   ]
  },
  {
   "cell_type": "markdown",
   "metadata": {},
   "source": [
    "Nos olvidamos de las columnas de respuesta y las covariables que tienen fechas, ya que son datos complicados de trabajar"
   ]
  },
  {
   "cell_type": "code",
   "execution_count": 8,
   "metadata": {},
   "outputs": [],
   "source": [
    "columnas.remove(\"Respuesta\")\n",
    "columnas.remove(\"fecha_inicio\")\n",
    "columnas.remove(\"ultima_fecha\")"
   ]
  },
  {
   "cell_type": "markdown",
   "metadata": {},
   "source": [
    "Hacemos el tratamiento para hacer intervalos o grupos óptimos"
   ]
  },
  {
   "cell_type": "code",
   "execution_count": 9,
   "metadata": {},
   "outputs": [],
   "source": [
    "opts=[] \n",
    "denuevo=list(base_general.columns.values)\n",
    "denuevo.remove(\"_id_\")\n",
    "denuevo.remove(\"_id2_\")\n",
    "denuevo.remove(\"Respuesta\")\n",
    "denuevo.remove(\"fecha_inicio\")\n",
    "denuevo.remove(\"ultima_fecha\")\n",
    "for i in denuevo:\n",
    "    if i in columnas:\n",
    "        opts.append(OptimalBinning(name=i, dtype=\"numerical\", solver=\"cp\"))\n",
    "    else:\n",
    "        opts.append(OptimalBinning(name=i, dtype=\"categorical\", solver=\"mip\"))"
   ]
  },
  {
   "cell_type": "code",
   "execution_count": 10,
   "metadata": {},
   "outputs": [],
   "source": [
    "for i in range(len(denuevo)):\n",
    "    opts[i].fit(base_general[denuevo[i]],y)"
   ]
  },
  {
   "cell_type": "markdown",
   "metadata": {},
   "source": [
    "En el siguiente bloque, calculamos los woes asociados a cada uno de los registros de las covariables que podrían ser utilizadas"
   ]
  },
  {
   "cell_type": "code",
   "execution_count": 11,
   "metadata": {},
   "outputs": [],
   "source": [
    "premade=\"woe_\"\n",
    "for i in range(len(denuevo)):\n",
    "    base_general[premade+denuevo[i]]=opts[i].transform(base_general[denuevo[i]], metric=\"woe\")"
   ]
  },
  {
   "cell_type": "code",
   "execution_count": 13,
   "metadata": {},
   "outputs": [
    {
     "data": {
      "text/html": [
       "<div>\n",
       "<style scoped>\n",
       "    .dataframe tbody tr th:only-of-type {\n",
       "        vertical-align: middle;\n",
       "    }\n",
       "\n",
       "    .dataframe tbody tr th {\n",
       "        vertical-align: top;\n",
       "    }\n",
       "\n",
       "    .dataframe thead th {\n",
       "        text-align: right;\n",
       "    }\n",
       "</style>\n",
       "<table border=\"1\" class=\"dataframe\">\n",
       "  <thead>\n",
       "    <tr style=\"text-align: right;\">\n",
       "      <th></th>\n",
       "      <th>Respuesta</th>\n",
       "      <th>woe_comp_externo1</th>\n",
       "      <th>woe_comp_externo2</th>\n",
       "      <th>woe_comp_externo3</th>\n",
       "      <th>woe_comp_externo4</th>\n",
       "      <th>woe_comp_interno1</th>\n",
       "      <th>woe_comp_interno2</th>\n",
       "      <th>woe_comp_interno3</th>\n",
       "      <th>woe_comp_interno4</th>\n",
       "      <th>woe_categoria1</th>\n",
       "      <th>woe_categoria2</th>\n",
       "      <th>woe_categoria3</th>\n",
       "      <th>woe_cantidad_tramites</th>\n",
       "      <th>woe_avg(comportamiento_j)</th>\n",
       "      <th>woe_max(comportamiento_j)</th>\n",
       "      <th>woe_cero_meses</th>\n",
       "      <th>woe_uno_o_mas</th>\n",
       "      <th>woe_comp_mixto1</th>\n",
       "      <th>woe_inversion</th>\n",
       "    </tr>\n",
       "  </thead>\n",
       "  <tbody>\n",
       "    <tr>\n",
       "      <th>0</th>\n",
       "      <td>0.0</td>\n",
       "      <td>0.033506</td>\n",
       "      <td>0.024095</td>\n",
       "      <td>0.002058</td>\n",
       "      <td>-0.002571</td>\n",
       "      <td>-0.064628</td>\n",
       "      <td>-0.014029</td>\n",
       "      <td>-0.005606</td>\n",
       "      <td>-0.009232</td>\n",
       "      <td>-0.041716</td>\n",
       "      <td>0.046478</td>\n",
       "      <td>0.052546</td>\n",
       "      <td>-0.017563</td>\n",
       "      <td>2.193770</td>\n",
       "      <td>-0.515628</td>\n",
       "      <td>2.188477</td>\n",
       "      <td>1.213295</td>\n",
       "      <td>-0.037843</td>\n",
       "      <td>0.148070</td>\n",
       "    </tr>\n",
       "    <tr>\n",
       "      <th>1</th>\n",
       "      <td>1.0</td>\n",
       "      <td>-0.025243</td>\n",
       "      <td>0.024095</td>\n",
       "      <td>0.002058</td>\n",
       "      <td>-0.002571</td>\n",
       "      <td>-0.000031</td>\n",
       "      <td>-0.014029</td>\n",
       "      <td>-0.005606</td>\n",
       "      <td>-0.025755</td>\n",
       "      <td>0.010014</td>\n",
       "      <td>-0.028987</td>\n",
       "      <td>-0.057339</td>\n",
       "      <td>-0.017563</td>\n",
       "      <td>-1.450433</td>\n",
       "      <td>-0.515628</td>\n",
       "      <td>-1.010188</td>\n",
       "      <td>-2.502642</td>\n",
       "      <td>0.006583</td>\n",
       "      <td>0.035333</td>\n",
       "    </tr>\n",
       "    <tr>\n",
       "      <th>2</th>\n",
       "      <td>0.0</td>\n",
       "      <td>0.001982</td>\n",
       "      <td>-0.017438</td>\n",
       "      <td>0.083146</td>\n",
       "      <td>-0.002571</td>\n",
       "      <td>-0.000031</td>\n",
       "      <td>-0.014029</td>\n",
       "      <td>-0.001575</td>\n",
       "      <td>-0.009232</td>\n",
       "      <td>0.015982</td>\n",
       "      <td>0.031439</td>\n",
       "      <td>-0.017651</td>\n",
       "      <td>-0.017563</td>\n",
       "      <td>2.193770</td>\n",
       "      <td>-0.515628</td>\n",
       "      <td>2.188477</td>\n",
       "      <td>1.213295</td>\n",
       "      <td>0.003510</td>\n",
       "      <td>0.028440</td>\n",
       "    </tr>\n",
       "    <tr>\n",
       "      <th>3</th>\n",
       "      <td>0.0</td>\n",
       "      <td>-0.010531</td>\n",
       "      <td>-0.011533</td>\n",
       "      <td>0.002058</td>\n",
       "      <td>-0.002571</td>\n",
       "      <td>0.027520</td>\n",
       "      <td>-0.014029</td>\n",
       "      <td>0.094292</td>\n",
       "      <td>-0.009232</td>\n",
       "      <td>0.015982</td>\n",
       "      <td>-0.000317</td>\n",
       "      <td>0.098109</td>\n",
       "      <td>-0.017563</td>\n",
       "      <td>1.074232</td>\n",
       "      <td>1.074232</td>\n",
       "      <td>2.118717</td>\n",
       "      <td>1.213295</td>\n",
       "      <td>-0.037843</td>\n",
       "      <td>0.035333</td>\n",
       "    </tr>\n",
       "    <tr>\n",
       "      <th>4</th>\n",
       "      <td>0.0</td>\n",
       "      <td>-0.010531</td>\n",
       "      <td>-0.011533</td>\n",
       "      <td>-0.023450</td>\n",
       "      <td>-0.002571</td>\n",
       "      <td>0.027520</td>\n",
       "      <td>-0.014029</td>\n",
       "      <td>0.094292</td>\n",
       "      <td>-0.009232</td>\n",
       "      <td>0.015982</td>\n",
       "      <td>0.031439</td>\n",
       "      <td>0.098109</td>\n",
       "      <td>-0.017563</td>\n",
       "      <td>2.193770</td>\n",
       "      <td>-0.515628</td>\n",
       "      <td>2.188477</td>\n",
       "      <td>1.213295</td>\n",
       "      <td>-0.011468</td>\n",
       "      <td>0.148070</td>\n",
       "    </tr>\n",
       "    <tr>\n",
       "      <th>5</th>\n",
       "      <td>0.0</td>\n",
       "      <td>-0.025243</td>\n",
       "      <td>-0.036159</td>\n",
       "      <td>0.002058</td>\n",
       "      <td>-0.002571</td>\n",
       "      <td>0.027520</td>\n",
       "      <td>-0.014029</td>\n",
       "      <td>-0.001575</td>\n",
       "      <td>-0.009232</td>\n",
       "      <td>0.015982</td>\n",
       "      <td>0.046478</td>\n",
       "      <td>0.022677</td>\n",
       "      <td>-0.017563</td>\n",
       "      <td>2.193770</td>\n",
       "      <td>-0.515628</td>\n",
       "      <td>2.188477</td>\n",
       "      <td>1.213295</td>\n",
       "      <td>0.102773</td>\n",
       "      <td>0.098892</td>\n",
       "    </tr>\n",
       "    <tr>\n",
       "      <th>6</th>\n",
       "      <td>1.0</td>\n",
       "      <td>0.033506</td>\n",
       "      <td>0.082838</td>\n",
       "      <td>0.016225</td>\n",
       "      <td>-0.002571</td>\n",
       "      <td>0.027520</td>\n",
       "      <td>-0.014029</td>\n",
       "      <td>-0.001575</td>\n",
       "      <td>-0.009232</td>\n",
       "      <td>0.015982</td>\n",
       "      <td>-0.066297</td>\n",
       "      <td>-0.017651</td>\n",
       "      <td>-0.017563</td>\n",
       "      <td>-1.450433</td>\n",
       "      <td>-0.515628</td>\n",
       "      <td>-1.010188</td>\n",
       "      <td>-2.621025</td>\n",
       "      <td>-0.011468</td>\n",
       "      <td>0.035333</td>\n",
       "    </tr>\n",
       "    <tr>\n",
       "      <th>7</th>\n",
       "      <td>0.0</td>\n",
       "      <td>0.033506</td>\n",
       "      <td>0.024095</td>\n",
       "      <td>0.083146</td>\n",
       "      <td>-0.002571</td>\n",
       "      <td>0.027520</td>\n",
       "      <td>0.034047</td>\n",
       "      <td>-0.001575</td>\n",
       "      <td>-0.025755</td>\n",
       "      <td>0.015982</td>\n",
       "      <td>-0.000317</td>\n",
       "      <td>-0.017651</td>\n",
       "      <td>-0.017563</td>\n",
       "      <td>1.074232</td>\n",
       "      <td>1.074232</td>\n",
       "      <td>2.118717</td>\n",
       "      <td>1.213295</td>\n",
       "      <td>0.006583</td>\n",
       "      <td>0.035333</td>\n",
       "    </tr>\n",
       "    <tr>\n",
       "      <th>8</th>\n",
       "      <td>0.0</td>\n",
       "      <td>-0.025243</td>\n",
       "      <td>-0.036159</td>\n",
       "      <td>-0.023450</td>\n",
       "      <td>-0.002571</td>\n",
       "      <td>-0.000031</td>\n",
       "      <td>-0.014029</td>\n",
       "      <td>0.094292</td>\n",
       "      <td>-0.009232</td>\n",
       "      <td>0.015982</td>\n",
       "      <td>-0.000317</td>\n",
       "      <td>0.098109</td>\n",
       "      <td>-0.017563</td>\n",
       "      <td>1.074232</td>\n",
       "      <td>1.074232</td>\n",
       "      <td>2.118717</td>\n",
       "      <td>1.213295</td>\n",
       "      <td>-0.011468</td>\n",
       "      <td>0.028440</td>\n",
       "    </tr>\n",
       "    <tr>\n",
       "      <th>9</th>\n",
       "      <td>1.0</td>\n",
       "      <td>-0.010531</td>\n",
       "      <td>-0.011533</td>\n",
       "      <td>0.004096</td>\n",
       "      <td>-0.002571</td>\n",
       "      <td>0.027520</td>\n",
       "      <td>-0.014029</td>\n",
       "      <td>-0.001575</td>\n",
       "      <td>-0.009232</td>\n",
       "      <td>-0.041716</td>\n",
       "      <td>0.046478</td>\n",
       "      <td>0.022677</td>\n",
       "      <td>-0.017563</td>\n",
       "      <td>1.074232</td>\n",
       "      <td>1.074232</td>\n",
       "      <td>-1.010188</td>\n",
       "      <td>1.213295</td>\n",
       "      <td>0.006583</td>\n",
       "      <td>0.028440</td>\n",
       "    </tr>\n",
       "  </tbody>\n",
       "</table>\n",
       "</div>"
      ],
      "text/plain": [
       "   Respuesta  woe_comp_externo1  woe_comp_externo2  woe_comp_externo3  \\\n",
       "0        0.0           0.033506           0.024095           0.002058   \n",
       "1        1.0          -0.025243           0.024095           0.002058   \n",
       "2        0.0           0.001982          -0.017438           0.083146   \n",
       "3        0.0          -0.010531          -0.011533           0.002058   \n",
       "4        0.0          -0.010531          -0.011533          -0.023450   \n",
       "5        0.0          -0.025243          -0.036159           0.002058   \n",
       "6        1.0           0.033506           0.082838           0.016225   \n",
       "7        0.0           0.033506           0.024095           0.083146   \n",
       "8        0.0          -0.025243          -0.036159          -0.023450   \n",
       "9        1.0          -0.010531          -0.011533           0.004096   \n",
       "\n",
       "   woe_comp_externo4  woe_comp_interno1  woe_comp_interno2  woe_comp_interno3  \\\n",
       "0          -0.002571          -0.064628          -0.014029          -0.005606   \n",
       "1          -0.002571          -0.000031          -0.014029          -0.005606   \n",
       "2          -0.002571          -0.000031          -0.014029          -0.001575   \n",
       "3          -0.002571           0.027520          -0.014029           0.094292   \n",
       "4          -0.002571           0.027520          -0.014029           0.094292   \n",
       "5          -0.002571           0.027520          -0.014029          -0.001575   \n",
       "6          -0.002571           0.027520          -0.014029          -0.001575   \n",
       "7          -0.002571           0.027520           0.034047          -0.001575   \n",
       "8          -0.002571          -0.000031          -0.014029           0.094292   \n",
       "9          -0.002571           0.027520          -0.014029          -0.001575   \n",
       "\n",
       "   woe_comp_interno4  woe_categoria1  woe_categoria2  woe_categoria3  \\\n",
       "0          -0.009232       -0.041716        0.046478        0.052546   \n",
       "1          -0.025755        0.010014       -0.028987       -0.057339   \n",
       "2          -0.009232        0.015982        0.031439       -0.017651   \n",
       "3          -0.009232        0.015982       -0.000317        0.098109   \n",
       "4          -0.009232        0.015982        0.031439        0.098109   \n",
       "5          -0.009232        0.015982        0.046478        0.022677   \n",
       "6          -0.009232        0.015982       -0.066297       -0.017651   \n",
       "7          -0.025755        0.015982       -0.000317       -0.017651   \n",
       "8          -0.009232        0.015982       -0.000317        0.098109   \n",
       "9          -0.009232       -0.041716        0.046478        0.022677   \n",
       "\n",
       "   woe_cantidad_tramites  woe_avg(comportamiento_j)  \\\n",
       "0              -0.017563                   2.193770   \n",
       "1              -0.017563                  -1.450433   \n",
       "2              -0.017563                   2.193770   \n",
       "3              -0.017563                   1.074232   \n",
       "4              -0.017563                   2.193770   \n",
       "5              -0.017563                   2.193770   \n",
       "6              -0.017563                  -1.450433   \n",
       "7              -0.017563                   1.074232   \n",
       "8              -0.017563                   1.074232   \n",
       "9              -0.017563                   1.074232   \n",
       "\n",
       "   woe_max(comportamiento_j)  woe_cero_meses  woe_uno_o_mas  woe_comp_mixto1  \\\n",
       "0                  -0.515628        2.188477       1.213295        -0.037843   \n",
       "1                  -0.515628       -1.010188      -2.502642         0.006583   \n",
       "2                  -0.515628        2.188477       1.213295         0.003510   \n",
       "3                   1.074232        2.118717       1.213295        -0.037843   \n",
       "4                  -0.515628        2.188477       1.213295        -0.011468   \n",
       "5                  -0.515628        2.188477       1.213295         0.102773   \n",
       "6                  -0.515628       -1.010188      -2.621025        -0.011468   \n",
       "7                   1.074232        2.118717       1.213295         0.006583   \n",
       "8                   1.074232        2.118717       1.213295        -0.011468   \n",
       "9                   1.074232       -1.010188       1.213295         0.006583   \n",
       "\n",
       "   woe_inversion  \n",
       "0       0.148070  \n",
       "1       0.035333  \n",
       "2       0.028440  \n",
       "3       0.035333  \n",
       "4       0.148070  \n",
       "5       0.098892  \n",
       "6       0.035333  \n",
       "7       0.035333  \n",
       "8       0.028440  \n",
       "9       0.028440  "
      ]
     },
     "execution_count": 13,
     "metadata": {},
     "output_type": "execute_result"
    }
   ],
   "source": [
    "base_woe=base_general.iloc[:,22:]\n",
    "base_woe.head(10)"
   ]
  },
  {
   "cell_type": "markdown",
   "metadata": {},
   "source": [
    "Hacemos la división de los datos en train y test:"
   ]
  },
  {
   "cell_type": "code",
   "execution_count": 14,
   "metadata": {},
   "outputs": [],
   "source": [
    "train,test = train_test_split(base_woe, test_size = 0.30, random_state = 100) "
   ]
  },
  {
   "cell_type": "code",
   "execution_count": 15,
   "metadata": {},
   "outputs": [],
   "source": [
    "X_woe_train=train.iloc[:,1:]\n",
    "y_train=train.Respuesta"
   ]
  },
  {
   "cell_type": "code",
   "execution_count": 16,
   "metadata": {},
   "outputs": [],
   "source": [
    "X_woe_test=test.iloc[:,1:]\n",
    "y_test=test.Respuesta"
   ]
  },
  {
   "cell_type": "markdown",
   "metadata": {},
   "source": [
    "Los siguientes bloques de código nos ayudarán a escoger las covariables con las que vamos a trabajar por medio del _t-test_ de significancia de coeficientes, considerando un nivel $\\alpha=0.05$"
   ]
  },
  {
   "cell_type": "code",
   "execution_count": 17,
   "metadata": {},
   "outputs": [
    {
     "name": "stdout",
     "output_type": "stream",
     "text": [
      "Optimization terminated successfully.\n",
      "         Current function value: 0.305343\n",
      "         Iterations 11\n"
     ]
    }
   ],
   "source": [
    "import statsmodels.api as sm\n",
    "logitmodel=sm.Logit(y_train,sm.add_constant(X_woe_train)).fit()"
   ]
  },
  {
   "cell_type": "code",
   "execution_count": 18,
   "metadata": {},
   "outputs": [
    {
     "name": "stdout",
     "output_type": "stream",
     "text": [
      "                           Logit Regression Results                           \n",
      "==============================================================================\n",
      "Dep. Variable:              Respuesta   No. Observations:                35000\n",
      "Model:                          Logit   Df Residuals:                    34981\n",
      "Method:                           MLE   Df Model:                           18\n",
      "Date:                Sun, 02 Jan 2022   Pseudo R-squ.:                  0.4715\n",
      "Time:                        19:57:46   Log-Likelihood:                -10687.\n",
      "converged:                       True   LL-Null:                       -20220.\n",
      "Covariance Type:            nonrobust   LLR p-value:                     0.000\n",
      "=============================================================================================\n",
      "                                coef    std err          z      P>|z|      [0.025      0.975]\n",
      "---------------------------------------------------------------------------------------------\n",
      "const                        -5.8350      0.712     -8.194      0.000      -7.231      -4.439\n",
      "woe_comp_externo1            -0.9312      0.669     -1.392      0.164      -2.243       0.380\n",
      "woe_comp_externo2            -0.2550      0.723     -0.353      0.724      -1.672       1.162\n",
      "woe_comp_externo3            -0.9733      0.556     -1.751      0.080      -2.063       0.116\n",
      "woe_comp_externo4            -1.3409      2.559     -0.524      0.600      -6.356       3.674\n",
      "woe_comp_interno1            -1.6173      0.264     -6.116      0.000      -2.136      -1.099\n",
      "woe_comp_interno2             0.0685      0.832      0.082      0.934      -1.562       1.699\n",
      "woe_comp_interno3             0.8875      0.806      1.101      0.271      -0.693       2.468\n",
      "woe_comp_interno4             0.6002      0.644      0.932      0.351      -0.662       1.862\n",
      "woe_categoria1               -2.3022      0.781     -2.946      0.003      -3.834      -0.771\n",
      "woe_categoria2               -0.5146      0.725     -0.710      0.478      -1.935       0.906\n",
      "woe_categoria3               -1.2796      0.446     -2.869      0.004      -2.154      -0.405\n",
      "woe_cantidad_tramites      -276.1495     40.544     -6.811      0.000    -355.613    -196.686\n",
      "woe_avg(comportamiento_j)     0.1356      0.023      6.027      0.000       0.092       0.180\n",
      "woe_max(comportamiento_j)    -0.2666      0.029     -9.312      0.000      -0.323      -0.210\n",
      "woe_cero_meses               -0.7537      0.022    -33.696      0.000      -0.798      -0.710\n",
      "woe_uno_o_mas                -0.7393      0.014    -53.906      0.000      -0.766      -0.712\n",
      "woe_comp_mixto1              -1.9000      0.559     -3.401      0.001      -2.995      -0.805\n",
      "woe_inversion                -1.9573      0.088    -22.175      0.000      -2.130      -1.784\n",
      "=============================================================================================\n"
     ]
    }
   ],
   "source": [
    "print(logitmodel.summary())"
   ]
  },
  {
   "cell_type": "markdown",
   "metadata": {},
   "source": [
    "El siguiente bloque quita todas aquellas variables cuyo _p-value_ esté por debajo de la $\\alpha$ fijada. Nótese que también se quitaron algunas variables que tenían alta correlación con otras variables (esto último se visualizó en el mapa de calor de correlación que está unos cuantos bloques debajo)"
   ]
  },
  {
   "cell_type": "code",
   "execution_count": 19,
   "metadata": {},
   "outputs": [],
   "source": [
    "quitar=[]\n",
    "nombres=X_woe_train.columns.values\n",
    "for i in range(0,len(logitmodel.pvalues)-1): \n",
    "    if logitmodel.pvalues[i+1]>=0.05:\n",
    "        quitar.append(nombres[i])\n",
    "quitar.append(\"woe_uno_o_mas\")\n",
    "#Por correlación alta:\n",
    "quitar.append(\"woe_avg(comportamiento_j)\")\n",
    "quitar.append(\"woe_cantidad_tramites\")\n",
    "X_woe_trainf=X_woe_train.drop(columns=quitar)"
   ]
  },
  {
   "cell_type": "code",
   "execution_count": 20,
   "metadata": {},
   "outputs": [
    {
     "data": {
      "image/png": "[encoded data removed]",
      "text/plain": [
       "<Figure size 720x720 with 2 Axes>"
      ]
     },
     "metadata": {
      "needs_background": "light"
     },
     "output_type": "display_data"
    }
   ],
   "source": [
    "corr = X_woe_trainf.corr()\n",
    "\n",
    "\n",
    "xticks = list(corr.index)  \n",
    "yticks = list(corr.index)  \n",
    "fig = plt.figure(figsize=(10,10))\n",
    "ax1 = fig.add_subplot(1, 1, 1)\n",
    "\n",
    "sns.heatmap(corr,annot=True,cmap=\"rainbow\",ax=ax1,linewidths=.5,annot_kws={'size':9,'weight':'bold', 'color':'k'})\n",
    "ax1.set_xticklabels(xticks, rotation=30, fontsize=10)\n",
    "ax1.set_yticklabels(yticks, rotation=0, fontsize=10)\n",
    "plt.show()"
   ]
  },
  {
   "cell_type": "code",
   "execution_count": 21,
   "metadata": {},
   "outputs": [],
   "source": [
    "y_trainw=y_train"
   ]
  },
  {
   "cell_type": "markdown",
   "metadata": {},
   "source": [
    "A continuación, entrenamos el modelo de Regresión Logística con las covariables significativas y dibujamos la curva ROC asociada a dicho modelo en el set de train."
   ]
  },
  {
   "cell_type": "code",
   "execution_count": 22,
   "metadata": {},
   "outputs": [],
   "source": [
    "model=LogisticRegression()\n",
    "clf=model.fit(X_woe_trainf,y_trainw)"
   ]
  },
  {
   "cell_type": "code",
   "execution_count": 23,
   "metadata": {},
   "outputs": [
    {
     "name": "stdout",
     "output_type": "stream",
     "text": [
      "y_pred\n",
      " [0. 0. 1. ... 1. 1. 0.]\n",
      "y_pred1\n",
      " [-2.31831984 -2.80375716  0.46973778 ...  0.4404719   0.5682112\n",
      " -1.16561807]\n"
     ]
    },
    {
     "data": {
      "image/png": "[encoded data removed]",
      "text/plain": [
       "<Figure size 432x288 with 1 Axes>"
      ]
     },
     "metadata": {
      "needs_background": "light"
     },
     "output_type": "display_data"
    }
   ],
   "source": [
    "y_pred=clf.predict(X_woe_trainf)\n",
    "y_pred1=clf.decision_function(X_woe_trainf)\n",
    "print('y_pred\\n',y_pred)\n",
    "print('y_pred1\\n',y_pred1)\n",
    "\n",
    "#Draw ROC curve and calculate AUC value\n",
    "fpr,tpr,threshold = roc_curve(y_trainw, y_pred1)\n",
    "roc_auc = auc(fpr,tpr)\n",
    "plot(fpr,tpr,color='darkorange',\n",
    "         label='ROC curve (area = %0.2f)' % roc_auc)\n",
    "plt.plot([0, 1], [0, 1], color='navy', linestyle='--')\n",
    "plt.xlim([0.0, 1.0])\n",
    "plt.ylim([0.0, 1.0])\n",
    "plt.xlabel('False Positive Rate')\n",
    "plt.ylabel('True Positive Rate')\n",
    "plt.title('ROC_curve')\n",
    "plt.legend(loc=\"lower right\")\n",
    "plt.show()"
   ]
  },
  {
   "cell_type": "code",
   "execution_count": 24,
   "metadata": {},
   "outputs": [
    {
     "data": {
      "text/plain": [
       "KstestResult(statistic=0.061314285714285766, pvalue=1.2344704932459815e-57)"
      ]
     },
     "execution_count": 24,
     "metadata": {},
     "output_type": "execute_result"
    }
   ],
   "source": [
    "#Brian y Lalo: continuen con lo de el Kolmogorov-Smirnov y lo del Gini. Esta línea podría ser de utilidad\n",
    "ks_2samp(y_train,y_pred)"
   ]
  },
  {
   "cell_type": "markdown",
   "metadata": {},
   "source": [
    "Ahora calculamos la curva Roc en el set de test usando, evidentemente, las variables significativas."
   ]
  },
  {
   "cell_type": "code",
   "execution_count": 25,
   "metadata": {},
   "outputs": [],
   "source": [
    "quitar=[]\n",
    "nombres=X_woe_train.columns.values\n",
    "for i in range(0,len(logitmodel.pvalues)-1): \n",
    "    if logitmodel.pvalues[i+1]>=0.05:\n",
    "        quitar.append(nombres[i])\n",
    "quitar.append(\"woe_uno_o_mas\")  \n",
    "quitar.append(\"woe_avg(comportamiento_j)\")\n",
    "quitar.append(\"woe_cantidad_tramites\")\n",
    "X_woe_testf=X_woe_test.drop(columns=quitar)"
   ]
  },
  {
   "cell_type": "code",
   "execution_count": 26,
   "metadata": {},
   "outputs": [
    {
     "name": "stdout",
     "output_type": "stream",
     "text": [
      "y_pred\n",
      " [0. 0. 0. ... 0. 0. 1.]\n",
      "y_pred1\n",
      " [-2.94213226 -4.56463311 -1.30123621 ... -4.60343872 -2.28292329\n",
      "  0.8748023 ]\n"
     ]
    },
    {
     "data": {
      "image/png": "[encoded data removed]",
      "text/plain": [
       "<Figure size 432x288 with 1 Axes>"
      ]
     },
     "metadata": {
      "needs_background": "light"
     },
     "output_type": "display_data"
    }
   ],
   "source": [
    "y_pred=clf.predict(X_woe_testf)\n",
    "y_pred1=clf.decision_function(X_woe_testf)\n",
    "print('y_pred\\n',y_pred)\n",
    "print('y_pred1\\n',y_pred1)\n",
    "\n",
    "#Draw ROC curve and calculate AUC value\n",
    "fpr,tpr,threshold = roc_curve(y_test, y_pred1)\n",
    "roc_auc = auc(fpr,tpr)\n",
    "plot(fpr,tpr,color='darkorange',\n",
    "         label='ROC curve (area = %0.2f)' % roc_auc)\n",
    "plt.plot([0, 1], [0, 1], color='navy', linestyle='--')\n",
    "plt.xlim([0.0, 1.0])\n",
    "plt.ylim([0.0, 1.0])\n",
    "plt.xlabel('False Positive Rate')\n",
    "plt.ylabel('True Positive Rate')\n",
    "plt.title('ROC_curve')\n",
    "plt.legend(loc=\"lower right\")\n",
    "plt.show()"
   ]
  },
  {
   "cell_type": "markdown",
   "metadata": {},
   "source": [
    "Definimos una base que será de utilidad más tarde..."
   ]
  },
  {
   "cell_type": "code",
   "execution_count": 99,
   "metadata": {},
   "outputs": [],
   "source": [
    "base_woep=base_woe.drop(columns=quitar)"
   ]
  },
  {
   "cell_type": "code",
   "execution_count": 28,
   "metadata": {},
   "outputs": [
    {
     "data": {
      "text/plain": [
       "KstestResult(statistic=0.05833333333333335, pvalue=1.2614610037067227e-22)"
      ]
     },
     "execution_count": 28,
     "metadata": {},
     "output_type": "execute_result"
    }
   ],
   "source": [
    "ks_2samp(y_test,y_pred)"
   ]
  },
  {
   "cell_type": "markdown",
   "metadata": {},
   "source": [
    "# Árbol"
   ]
  },
  {
   "cell_type": "code",
   "execution_count": 29,
   "metadata": {},
   "outputs": [],
   "source": [
    "def performance_evaluation_report(model, X_test, y_test, show_plot=False, labels=None, show_pr_curve=False):\n",
    "    '''\n",
    "    Function for creating a performance report of a classification model.\n",
    "    \n",
    "    Parameters\n",
    "    ----------\n",
    "    model : scikit-learn estimator\n",
    "        A fitted estimator for classification problems.\n",
    "    X_test : pd.DataFrame\n",
    "        DataFrame with features matching y_test\n",
    "    y_test : array/pd.Series\n",
    "        Target of a classification problem.\n",
    "    show_plot : bool\n",
    "        Flag whether to show the plot\n",
    "    labels : list\n",
    "        List with the class names.\n",
    "    show_pr_curve : bool\n",
    "        Flag whether to also show the PR-curve. For this to take effect, \n",
    "        show_plot must be True.\n",
    "        \n",
    "    Return\n",
    "    ------\n",
    "    stats : pd.Series\n",
    "        A series with the most important evaluation metrics\n",
    "    '''\n",
    "\n",
    "    y_pred = model.predict(X_test)\n",
    "    y_pred_prob = model.predict_proba(X_test)[:, 1]\n",
    "\n",
    "    cm = metrics.confusion_matrix(y_test, y_pred)\n",
    "    tn, fp, fn, tp = cm.ravel()\n",
    "\n",
    "    fpr, tpr, threshold = metrics.roc_curve(y_test, y_pred_prob)\n",
    "    roc_auc = metrics.auc(fpr, tpr)\n",
    "\n",
    "    precision, recall, thresholds = metrics.precision_recall_curve(\n",
    "        y_test, y_pred_prob)\n",
    "    pr_auc = metrics.auc(recall, precision)\n",
    "\n",
    "    if show_plot:\n",
    "\n",
    "        if labels is None:\n",
    "            labels = ['Negative', 'Positive']\n",
    "\n",
    "        N_SUBPLOTS = 3 if show_pr_curve else 2\n",
    "        PLOT_WIDTH = 15 if show_pr_curve else 12\n",
    "        PLOT_HEIGHT = 5 if show_pr_curve else 6\n",
    "\n",
    "        fig, ax = plt.subplots(\n",
    "            1, N_SUBPLOTS, figsize=(PLOT_WIDTH, PLOT_HEIGHT))\n",
    "        fig.suptitle('Performance Evaluation', fontsize=16)\n",
    "\n",
    "        sns.heatmap(cm, annot=True, fmt=\"d\", linewidths=.5, cmap='BuGn_r', square=True, cbar=False, ax=ax[0],\n",
    "                    annot_kws={\"ha\": 'center', \"va\": 'center'})\n",
    "        ax[0].set(xlabel='Predicted label',\n",
    "                  ylabel='Actual label', title='Confusion Matrix')\n",
    "        ax[0].xaxis.set_ticklabels(labels)\n",
    "        ax[0].yaxis.set_ticklabels(labels)\n",
    "\n",
    "        ax[1].plot(fpr, tpr, 'b-', label=f'ROC-AUC = {roc_auc:.2f}')\n",
    "        ax[1].set(xlabel='False Positive Rate',\n",
    "                  ylabel='True Positive Rate', title='ROC Curve')\n",
    "        ax[1].plot(fp/(fp+tn), tp/(tp+fn), 'ro',\n",
    "                   markersize=8, label='Decision Point')\n",
    "        ax[1].plot([0, 1], [0, 1], 'r--')\n",
    "        ax[1].legend(loc='lower right')\n",
    "\n",
    "        if show_pr_curve:\n",
    "\n",
    "            ax[2].plot(recall, precision, label=f'PR-AUC = {pr_auc:.2f}')\n",
    "            ax[2].set(xlabel='Recall', ylabel='Precision',\n",
    "                      title='Precision-Recall Curve')\n",
    "            ax[2].legend()\n",
    "\n",
    "#         print('#######################')\n",
    "#         print('Evaluation metrics ####')\n",
    "#         print('#######################')\n",
    "#         print(f'Accuracy: {metrics.accuracy_score(y_test, y_pred):.4f}')\n",
    "#         print(f'Precision: {metrics.precision_score(y_test, y_pred):.4f}')\n",
    "#         print(f'Recall (Sensitivity): {metrics.recall_score(y_test, y_pred):.4f}')\n",
    "#         print(f'Specificity: {(tn / (tn + fp)):.4f}')\n",
    "#         print(f'F1-Score: {metrics.f1_score(y_test, y_pred):.4f}')\n",
    "#         print(f\"Cohen's Kappa: {metrics.cohen_kappa_score(y_test, y_pred):.4f}\")\n",
    "\n",
    "    stats = {'accuracy': metrics.accuracy_score(y_test, y_pred),\n",
    "             'precision': metrics.precision_score(y_test, y_pred),\n",
    "             'recall': metrics.recall_score(y_test, y_pred),\n",
    "             'specificity': (tn / (tn + fp)),\n",
    "             'f1_score': metrics.f1_score(y_test, y_pred),\n",
    "             'cohens_kappa': metrics.cohen_kappa_score(y_test, y_pred),\n",
    "             'roc_auc': roc_auc,\n",
    "             'pr_auc': pr_auc}\n",
    "\n",
    "    return stats"
   ]
  },
  {
   "cell_type": "code",
   "execution_count": 30,
   "metadata": {},
   "outputs": [],
   "source": [
    "from sklearn.model_selection import (GridSearchCV, cross_val_score,\n",
    "                                                 RandomizedSearchCV,\n",
    "                                                 cross_validate,\n",
    "                                                 StratifiedKFold)\n"
   ]
  },
  {
   "cell_type": "code",
   "execution_count": 31,
   "metadata": {},
   "outputs": [
    {
     "data": {
      "text/html": [
       "<div>\n",
       "<style scoped>\n",
       "    .dataframe tbody tr th:only-of-type {\n",
       "        vertical-align: middle;\n",
       "    }\n",
       "\n",
       "    .dataframe tbody tr th {\n",
       "        vertical-align: top;\n",
       "    }\n",
       "\n",
       "    .dataframe thead th {\n",
       "        text-align: right;\n",
       "    }\n",
       "</style>\n",
       "<table border=\"1\" class=\"dataframe\">\n",
       "  <thead>\n",
       "    <tr style=\"text-align: right;\">\n",
       "      <th></th>\n",
       "      <th>comp_externo1</th>\n",
       "      <th>comp_externo2</th>\n",
       "      <th>comp_externo3</th>\n",
       "      <th>comp_externo4</th>\n",
       "      <th>comp_interno1</th>\n",
       "      <th>comp_interno2</th>\n",
       "      <th>comp_interno3</th>\n",
       "      <th>comp_interno4</th>\n",
       "      <th>categoria1</th>\n",
       "      <th>categoria2</th>\n",
       "      <th>categoria3</th>\n",
       "      <th>cantidad_tramites</th>\n",
       "      <th>avg(comportamiento_j)</th>\n",
       "      <th>max(comportamiento_j)</th>\n",
       "      <th>cero_meses</th>\n",
       "      <th>uno_o_mas</th>\n",
       "      <th>comp_mixto1</th>\n",
       "      <th>inversion</th>\n",
       "      <th>Respuesta</th>\n",
       "    </tr>\n",
       "  </thead>\n",
       "  <tbody>\n",
       "    <tr>\n",
       "      <th>0</th>\n",
       "      <td>217.391304</td>\n",
       "      <td>21.545533</td>\n",
       "      <td>102.0</td>\n",
       "      <td>-230.0</td>\n",
       "      <td>3039.513678</td>\n",
       "      <td>1.0</td>\n",
       "      <td>26.0</td>\n",
       "      <td>67.0</td>\n",
       "      <td>3.0</td>\n",
       "      <td>3.0</td>\n",
       "      <td>171.0</td>\n",
       "      <td>1.0</td>\n",
       "      <td>0.083333</td>\n",
       "      <td>1.0</td>\n",
       "      <td>11.0</td>\n",
       "      <td>1.0</td>\n",
       "      <td>0.38000</td>\n",
       "      <td>52.500490</td>\n",
       "      <td>0.0</td>\n",
       "    </tr>\n",
       "    <tr>\n",
       "      <th>1</th>\n",
       "      <td>468.115942</td>\n",
       "      <td>21.674806</td>\n",
       "      <td>108.0</td>\n",
       "      <td>-230.0</td>\n",
       "      <td>1547.112462</td>\n",
       "      <td>1.0</td>\n",
       "      <td>28.0</td>\n",
       "      <td>75.0</td>\n",
       "      <td>1.0</td>\n",
       "      <td>11.0</td>\n",
       "      <td>173.0</td>\n",
       "      <td>1.0</td>\n",
       "      <td>0.166667</td>\n",
       "      <td>1.0</td>\n",
       "      <td>10.0</td>\n",
       "      <td>2.0</td>\n",
       "      <td>0.33360</td>\n",
       "      <td>0.047480</td>\n",
       "      <td>1.0</td>\n",
       "    </tr>\n",
       "    <tr>\n",
       "      <th>2</th>\n",
       "      <td>371.884058</td>\n",
       "      <td>36.857225</td>\n",
       "      <td>125.0</td>\n",
       "      <td>-230.0</td>\n",
       "      <td>1215.805471</td>\n",
       "      <td>1.0</td>\n",
       "      <td>14.0</td>\n",
       "      <td>55.0</td>\n",
       "      <td>2.0</td>\n",
       "      <td>6.0</td>\n",
       "      <td>159.0</td>\n",
       "      <td>5.0</td>\n",
       "      <td>0.083333</td>\n",
       "      <td>1.0</td>\n",
       "      <td>11.0</td>\n",
       "      <td>1.0</td>\n",
       "      <td>0.27898</td>\n",
       "      <td>227.537211</td>\n",
       "      <td>0.0</td>\n",
       "    </tr>\n",
       "    <tr>\n",
       "      <th>3</th>\n",
       "      <td>85.507246</td>\n",
       "      <td>6.274059</td>\n",
       "      <td>105.0</td>\n",
       "      <td>-230.0</td>\n",
       "      <td>0.000000</td>\n",
       "      <td>1.0</td>\n",
       "      <td>11.0</td>\n",
       "      <td>55.0</td>\n",
       "      <td>2.0</td>\n",
       "      <td>9.0</td>\n",
       "      <td>156.0</td>\n",
       "      <td>1.0</td>\n",
       "      <td>0.000000</td>\n",
       "      <td>0.0</td>\n",
       "      <td>12.0</td>\n",
       "      <td>0.0</td>\n",
       "      <td>0.38000</td>\n",
       "      <td>0.921995</td>\n",
       "      <td>0.0</td>\n",
       "    </tr>\n",
       "    <tr>\n",
       "      <th>4</th>\n",
       "      <td>72.463768</td>\n",
       "      <td>7.181844</td>\n",
       "      <td>92.0</td>\n",
       "      <td>-230.0</td>\n",
       "      <td>0.000000</td>\n",
       "      <td>1.0</td>\n",
       "      <td>11.0</td>\n",
       "      <td>56.0</td>\n",
       "      <td>2.0</td>\n",
       "      <td>6.0</td>\n",
       "      <td>156.0</td>\n",
       "      <td>1.0</td>\n",
       "      <td>0.083333</td>\n",
       "      <td>1.0</td>\n",
       "      <td>11.0</td>\n",
       "      <td>1.0</td>\n",
       "      <td>0.37050</td>\n",
       "      <td>39.259568</td>\n",
       "      <td>0.0</td>\n",
       "    </tr>\n",
       "  </tbody>\n",
       "</table>\n",
       "</div>"
      ],
      "text/plain": [
       "   comp_externo1  comp_externo2  comp_externo3  comp_externo4  comp_interno1  \\\n",
       "0     217.391304      21.545533          102.0         -230.0    3039.513678   \n",
       "1     468.115942      21.674806          108.0         -230.0    1547.112462   \n",
       "2     371.884058      36.857225          125.0         -230.0    1215.805471   \n",
       "3      85.507246       6.274059          105.0         -230.0       0.000000   \n",
       "4      72.463768       7.181844           92.0         -230.0       0.000000   \n",
       "\n",
       "   comp_interno2  comp_interno3  comp_interno4  categoria1  categoria2  \\\n",
       "0            1.0           26.0           67.0         3.0         3.0   \n",
       "1            1.0           28.0           75.0         1.0        11.0   \n",
       "2            1.0           14.0           55.0         2.0         6.0   \n",
       "3            1.0           11.0           55.0         2.0         9.0   \n",
       "4            1.0           11.0           56.0         2.0         6.0   \n",
       "\n",
       "   categoria3  cantidad_tramites  avg(comportamiento_j)  \\\n",
       "0       171.0                1.0               0.083333   \n",
       "1       173.0                1.0               0.166667   \n",
       "2       159.0                5.0               0.083333   \n",
       "3       156.0                1.0               0.000000   \n",
       "4       156.0                1.0               0.083333   \n",
       "\n",
       "   max(comportamiento_j)  cero_meses  uno_o_mas  comp_mixto1   inversion  \\\n",
       "0                    1.0        11.0        1.0      0.38000   52.500490   \n",
       "1                    1.0        10.0        2.0      0.33360    0.047480   \n",
       "2                    1.0        11.0        1.0      0.27898  227.537211   \n",
       "3                    0.0        12.0        0.0      0.38000    0.921995   \n",
       "4                    1.0        11.0        1.0      0.37050   39.259568   \n",
       "\n",
       "   Respuesta  \n",
       "0        0.0  \n",
       "1        1.0  \n",
       "2        0.0  \n",
       "3        0.0  \n",
       "4        0.0  "
      ]
     },
     "execution_count": 31,
     "metadata": {},
     "output_type": "execute_result"
    }
   ],
   "source": [
    "newbase=base_general.iloc[:,:23]\n",
    "Xa = newbase.drop(['_id_', '_id2_','fecha_inicio','ultima_fecha'], axis=1)\n",
    "Xa.head()"
   ]
  },
  {
   "cell_type": "code",
   "execution_count": 32,
   "metadata": {},
   "outputs": [],
   "source": [
    "ya = Xa.pop('Respuesta')"
   ]
  },
  {
   "cell_type": "code",
   "execution_count": 33,
   "metadata": {},
   "outputs": [],
   "source": [
    "X_train_a, X_test_a, y_train_a, y_test_a = train_test_split(Xa, ya,test_size=0.2,stratify=ya)"
   ]
  },
  {
   "cell_type": "code",
   "execution_count": 34,
   "metadata": {},
   "outputs": [
    {
     "data": {
      "text/plain": [
       "['comp_externo1',\n",
       " 'comp_externo2',\n",
       " 'comp_externo3',\n",
       " 'comp_externo4',\n",
       " 'comp_interno1',\n",
       " 'comp_interno2',\n",
       " 'comp_interno3',\n",
       " 'comp_interno4',\n",
       " 'categoria1',\n",
       " 'categoria2',\n",
       " 'categoria3',\n",
       " 'cantidad_tramites',\n",
       " 'avg(comportamiento_j)',\n",
       " 'max(comportamiento_j)',\n",
       " 'cero_meses',\n",
       " 'uno_o_mas',\n",
       " 'comp_mixto1',\n",
       " 'inversion']"
      ]
     },
     "execution_count": 34,
     "metadata": {},
     "output_type": "execute_result"
    }
   ],
   "source": [
    "num_features = X_train_a.select_dtypes(include='number').columns.to_list()\n",
    "num_features"
   ]
  },
  {
   "cell_type": "code",
   "execution_count": 35,
   "metadata": {},
   "outputs": [
    {
     "data": {
      "text/plain": [
       "[]"
      ]
     },
     "execution_count": 35,
     "metadata": {},
     "output_type": "execute_result"
    }
   ],
   "source": [
    "cat_features = X_train_a.select_dtypes(include='object').columns.to_list()\n",
    "cat_features"
   ]
  },
  {
   "cell_type": "code",
   "execution_count": 36,
   "metadata": {},
   "outputs": [],
   "source": [
    "num_pipeline = Pipeline(steps=[('imputer', SimpleImputer(strategy='median'))])"
   ]
  },
  {
   "cell_type": "code",
   "execution_count": 37,
   "metadata": {},
   "outputs": [],
   "source": [
    "cat_list = [list(X_train[col].dropna().unique()) for col in cat_features]"
   ]
  },
  {
   "cell_type": "code",
   "execution_count": 38,
   "metadata": {},
   "outputs": [],
   "source": [
    "cat_pipeline = Pipeline(steps=[('imputer', SimpleImputer(strategy='most_frequent')),\n",
    "                               ('onehot', OneHotEncoder(categories=cat_list, sparse=False,\n",
    "                                        handle_unknown='error', drop='first'))])"
   ]
  },
  {
   "cell_type": "code",
   "execution_count": 39,
   "metadata": {},
   "outputs": [],
   "source": [
    "preprocessor = ColumnTransformer(transformers=[\n",
    "               ('numerical', num_pipeline, num_features),\n",
    "               ('categorical', cat_pipeline, cat_features)],\n",
    "               remainder='drop')"
   ]
  },
  {
   "cell_type": "code",
   "execution_count": 184,
   "metadata": {},
   "outputs": [],
   "source": [
    "dec_tree = DecisionTreeClassifier(random_state=453)\n",
    "#jugar con esto"
   ]
  },
  {
   "cell_type": "code",
   "execution_count": 185,
   "metadata": {},
   "outputs": [],
   "source": [
    "tree_pipeline = Pipeline(steps=[('preprocessor', preprocessor),('classifier', dec_tree)])"
   ]
  },
  {
   "cell_type": "code",
   "execution_count": 186,
   "metadata": {},
   "outputs": [
    {
     "data": {
      "text/plain": [
       "Pipeline(steps=[('preprocessor',\n",
       "                 ColumnTransformer(transformers=[('numerical',\n",
       "                                                  Pipeline(steps=[('imputer',\n",
       "                                                                   SimpleImputer(strategy='median')),\n",
       "                                                                  ('outliers',\n",
       "                                                                   OutlierRemover())]),\n",
       "                                                  ['comp_externo1',\n",
       "                                                   'comp_externo2',\n",
       "                                                   'comp_externo3',\n",
       "                                                   'comp_externo4',\n",
       "                                                   'comp_interno1',\n",
       "                                                   'comp_interno2',\n",
       "                                                   'comp_interno3',\n",
       "                                                   'comp_interno4',\n",
       "                                                   'categoria1', 'categoria2',\n",
       "                                                   'categoria3',\n",
       "                                                   'cantidad_tramites',\n",
       "                                                   'avg(comportamiento_j)',\n",
       "                                                   'max(comportamiento_j)',\n",
       "                                                   'cero_meses', 'uno_o_mas',\n",
       "                                                   'comp_mixto1',\n",
       "                                                   'inversion']),\n",
       "                                                 ('categorical',\n",
       "                                                  Pipeline(steps=[('imputer',\n",
       "                                                                   SimpleImputer(strategy='most_frequent')),\n",
       "                                                                  ('onehot',\n",
       "                                                                   OneHotEncoder(categories=[],\n",
       "                                                                                 drop='first',\n",
       "                                                                                 sparse=False))]),\n",
       "                                                  [])])),\n",
       "                ('classifier', DecisionTreeClassifier(random_state=453))])"
      ]
     },
     "execution_count": 186,
     "metadata": {},
     "output_type": "execute_result"
    }
   ],
   "source": [
    "tree_pipeline.fit(X_train_a, y_train_a)"
   ]
  },
  {
   "cell_type": "code",
   "execution_count": 187,
   "metadata": {},
   "outputs": [
    {
     "data": {
      "image/png": "[encoded data removed]",
      "text/plain": [
       "<Figure size 864x432 with 2 Axes>"
      ]
     },
     "metadata": {
      "needs_background": "light"
     },
     "output_type": "display_data"
    }
   ],
   "source": [
    "LABELS = ['Bueno', 'Malo']\n",
    "tree_perf = performance_evaluation_report(tree_pipeline, X_test_a,y_test_a, labels=LABELS,show_plot=True)"
   ]
  },
  {
   "cell_type": "code",
   "execution_count": 44,
   "metadata": {},
   "outputs": [],
   "source": [
    "# eliminacion de outliers"
   ]
  },
  {
   "cell_type": "code",
   "execution_count": 45,
   "metadata": {},
   "outputs": [],
   "source": [
    "from sklearn.base import BaseEstimator, TransformerMixin"
   ]
  },
  {
   "cell_type": "code",
   "execution_count": 76,
   "metadata": {},
   "outputs": [],
   "source": [
    "class OutlierRemover(BaseEstimator, TransformerMixin):\n",
    "    def __init__(self, n_std=3):\n",
    "        self.n_std = n_std\n",
    "    \n",
    "    def fit(self, X, y = None):\n",
    "        if np.isnan(X).any(axis=None):\n",
    "            raise ValueError('''There are missing values in the array! \n",
    "                                Please remove them.''')\n",
    "\n",
    "        mean_vec = np.mean(X, axis=0)\n",
    "        std_vec = np.std(X, axis=0)\n",
    "        \n",
    "        self.upper_band_ = mean_vec + self.n_std * std_vec\n",
    "        self.lower_band_ = mean_vec - self.n_std * std_vec\n",
    "        self.n_features_ = len(self.upper_band_)\n",
    "        \n",
    "        return self \n",
    "    \n",
    "    def transform(self, X, y = None):\n",
    "        X_copy = pd.DataFrame(X.copy())\n",
    "        \n",
    "        upper_band = np.repeat(\n",
    "            self.upper_band_.reshape(self.n_features_, -1), \n",
    "            len(X_copy), \n",
    "            axis=1).transpose()\n",
    "        lower_band = np.repeat(\n",
    "            self.lower_band_.reshape(self.n_features_, -1), \n",
    "            len(X_copy), \n",
    "            axis=1).transpose()\n",
    "        \n",
    "        X_copy[X_copy >= upper_band] = upper_band\n",
    "        X_copy[X_copy <= lower_band] = lower_band\n",
    "        \n",
    "        return X_copy.values"
   ]
  },
  {
   "cell_type": "code",
   "execution_count": 77,
   "metadata": {},
   "outputs": [],
   "source": [
    "num_pipeline = Pipeline(steps=[\n",
    "    ('imputer', SimpleImputer(strategy='median')),\n",
    "    ('outliers', OutlierRemover())])"
   ]
  },
  {
   "cell_type": "code",
   "execution_count": 78,
   "metadata": {},
   "outputs": [
    {
     "data": {
      "image/png": "[encoded data removed]",
      "text/plain": [
       "<Figure size 864x432 with 2 Axes>"
      ]
     },
     "metadata": {
      "needs_background": "light"
     },
     "output_type": "display_data"
    }
   ],
   "source": [
    "preprocessor = ColumnTransformer(transformers=[('numerical', num_pipeline, num_features),\n",
    "                                               ('categorical', cat_pipeline, cat_features)],\n",
    "                                 remainder='drop')\n",
    "\n",
    "dec_tree = DecisionTreeClassifier(random_state=42)\n",
    "\n",
    "tree_pipeline = Pipeline(steps=[('preprocessor', preprocessor),\n",
    "                                ('classifier', dec_tree)])\n",
    "\n",
    "tree_pipeline.fit(X_train_a, y_train_a)\n",
    "\n",
    "tree_perf = performance_evaluation_report(tree_pipeline, X_test_a, \n",
    "                                          y_test_a, labels=LABELS, \n",
    "                                          show_plot=True)\n",
    "\n",
    "plt.tight_layout()\n",
    "# plt.savefig('images/ch8_im18.png')\n",
    "plt.show()"
   ]
  },
  {
   "cell_type": "code",
   "execution_count": 49,
   "metadata": {},
   "outputs": [],
   "source": [
    "from sklearn.model_selection import (GridSearchCV, cross_val_score,\n",
    "                                                 RandomizedSearchCV,\n",
    "                                                 cross_validate,\n",
    "                                                 StratifiedKFold)"
   ]
  },
  {
   "cell_type": "code",
   "execution_count": 79,
   "metadata": {},
   "outputs": [],
   "source": [
    "k_fold = StratifiedKFold(5, shuffle=True, random_state=42)"
   ]
  },
  {
   "cell_type": "code",
   "execution_count": 80,
   "metadata": {},
   "outputs": [
    {
     "data": {
      "text/plain": [
       "array([0.99725 , 0.99575 , 0.997375, 0.99725 , 0.9965  ])"
      ]
     },
     "execution_count": 80,
     "metadata": {},
     "output_type": "execute_result"
    }
   ],
   "source": [
    "cross_val_score(tree_pipeline, X_train_a, y_train_a, cv=k_fold)"
   ]
  },
  {
   "cell_type": "code",
   "execution_count": 81,
   "metadata": {},
   "outputs": [
    {
     "data": {
      "text/plain": [
       "{'fit_time': array([0.64030957, 0.54616117, 0.54784393, 0.85435104, 0.75056911]),\n",
       " 'score_time': array([0.10293984, 0.11893225, 0.10492182, 0.13703895, 0.2013998 ]),\n",
       " 'test_accuracy': array([0.99725 , 0.99575 , 0.997375, 0.99725 , 0.9965  ]),\n",
       " 'test_precision': array([0.99479659, 0.99429658, 0.99479659, 0.99479413, 0.9929078 ]),\n",
       " 'test_recall': array([0.99479659, 0.98959319, 0.99526739, 0.99479413, 0.99384761]),\n",
       " 'test_roc_auc': array([0.99646388, 0.99377723, 0.99669943, 0.9964628 , 0.99564981])}"
      ]
     },
     "execution_count": 81,
     "metadata": {},
     "output_type": "execute_result"
    }
   ],
   "source": [
    "cross_validate(tree_pipeline, X_train_a, y_train_a, cv=k_fold,\n",
    "                           scoring=['accuracy', 'precision', 'recall','roc_auc'])"
   ]
  },
  {
   "cell_type": "code",
   "execution_count": 82,
   "metadata": {},
   "outputs": [],
   "source": [
    "param_grid = {'classifier__criterion': ['entropy', 'gini'],\n",
    "               'classifier__max_depth': range(3, 11),\n",
    "               'classifier__min_samples_leaf': range(2, 11)}"
   ]
  },
  {
   "cell_type": "code",
   "execution_count": 83,
   "metadata": {},
   "outputs": [
    {
     "name": "stdout",
     "output_type": "stream",
     "text": [
      "Fitting 5 folds for each of 144 candidates, totalling 720 fits\n"
     ]
    },
    {
     "name": "stderr",
     "output_type": "stream",
     "text": [
      "[Parallel(n_jobs=-1)]: Using backend LokyBackend with 4 concurrent workers.\n",
      "[Parallel(n_jobs=-1)]: Done  42 tasks      | elapsed:   28.2s\n",
      "[Parallel(n_jobs=-1)]: Done 192 tasks      | elapsed:  1.5min\n",
      "[Parallel(n_jobs=-1)]: Done 442 tasks      | elapsed:  3.2min\n",
      "[Parallel(n_jobs=-1)]: Done 720 out of 720 | elapsed:  5.3min finished\n"
     ]
    },
    {
     "data": {
      "text/plain": [
       "GridSearchCV(cv=StratifiedKFold(n_splits=5, random_state=42, shuffle=True),\n",
       "             estimator=Pipeline(steps=[('preprocessor',\n",
       "                                        ColumnTransformer(transformers=[('numerical',\n",
       "                                                                         Pipeline(steps=[('imputer',\n",
       "                                                                                          SimpleImputer(strategy='median')),\n",
       "                                                                                         ('outliers',\n",
       "                                                                                          OutlierRemover())]),\n",
       "                                                                         ['comp_externo1',\n",
       "                                                                          'comp_externo2',\n",
       "                                                                          'comp_externo3',\n",
       "                                                                          'comp_externo4',\n",
       "                                                                          'comp_interno1',\n",
       "                                                                          'comp_interno2',...\n",
       "                                                                         Pipeline(steps=[('imputer',\n",
       "                                                                                          SimpleImputer(strategy='most_frequent')),\n",
       "                                                                                         ('onehot',\n",
       "                                                                                          OneHotEncoder(categories=[],\n",
       "                                                                                                        drop='first',\n",
       "                                                                                                        sparse=False))]),\n",
       "                                                                         [])])),\n",
       "                                       ('classifier',\n",
       "                                        DecisionTreeClassifier(random_state=42))]),\n",
       "             n_jobs=-1,\n",
       "             param_grid={'classifier__criterion': ['entropy', 'gini'],\n",
       "                         'classifier__max_depth': range(3, 11),\n",
       "                         'classifier__min_samples_leaf': range(2, 11)},\n",
       "             scoring='recall', verbose=1)"
      ]
     },
     "execution_count": 83,
     "metadata": {},
     "output_type": "execute_result"
    }
   ],
   "source": [
    "classifier_gs = GridSearchCV(tree_pipeline, param_grid,scoring='recall',cv=k_fold, n_jobs=-1, verbose=1)\n",
    "classifier_gs.fit(X_train_a, y_train_a)\n",
    "#print(f'Best parameters: {classifier_gs.best_params_}')\n",
    "#print(f'Recall (Training set): {classifier_gs.best_score_:.4f}')\n",
    "#print(f'Recall (Test set): {metrics.recall_score(y_test,classifier_gs.predict(X_test)):.4f}')"
   ]
  },
  {
   "cell_type": "code",
   "execution_count": 84,
   "metadata": {},
   "outputs": [
    {
     "name": "stdout",
     "output_type": "stream",
     "text": [
      "Best parameters: {'classifier__criterion': 'entropy', 'classifier__max_depth': 6, 'classifier__min_samples_leaf': 3}\n",
      "Recall (Training set): 0.9961\n",
      "Recall (Test set): 0.9974\n"
     ]
    }
   ],
   "source": [
    "print(f'Best parameters: {classifier_gs.best_params_}')\n",
    "print(f'Recall (Training set): {classifier_gs.best_score_:.4f}')\n",
    "print(f'Recall (Test set): {metrics.recall_score(y_test_a, classifier_gs.predict(X_test_a)):.4f}')"
   ]
  },
  {
   "cell_type": "code",
   "execution_count": 85,
   "metadata": {},
   "outputs": [],
   "source": [
    "clasificador=classifier_gs.best_params_['classifier__criterion']\n",
    "profundidad=classifier_gs.best_params_['classifier__max_depth']\n",
    "minhojas=classifier_gs.best_params_['classifier__min_samples_leaf']"
   ]
  },
  {
   "cell_type": "code",
   "execution_count": 86,
   "metadata": {},
   "outputs": [
    {
     "data": {
      "image/png": "[encoded data removed]",
      "text/plain": [
       "<Figure size 864x432 with 2 Axes>"
      ]
     },
     "metadata": {
      "needs_background": "light"
     },
     "output_type": "display_data"
    }
   ],
   "source": [
    "LABELS = ['No Default', 'Default']\n",
    "tree_gs_perf = performance_evaluation_report(classifier_gs, X_test_a, \n",
    "                                             y_test_a, labels=LABELS, \n",
    "                                             show_plot=True)\n",
    "\n",
    "plt.tight_layout()\n",
    "#plt.savefig('images/ch8_im20.png')\n",
    "plt.show()"
   ]
  },
  {
   "cell_type": "code",
   "execution_count": 87,
   "metadata": {},
   "outputs": [],
   "source": [
    "from sklearn.metrics import roc_auc_score, roc_curve, mean_squared_error, precision_recall_curve,  accuracy_score"
   ]
  },
  {
   "cell_type": "code",
   "execution_count": 88,
   "metadata": {},
   "outputs": [
    {
     "name": "stdout",
     "output_type": "stream",
     "text": [
      "1 2 3 4 5 6 7 8 9 10 11 12 13 14 15 16 17 18 19 20 21 22 23 24 25 "
     ]
    }
   ],
   "source": [
    "train_scores, val_scores, leaves = {}, {}, {}\n",
    "for max_depth in range(1, 26):\n",
    "    print(max_depth, end=' ', flush=True)\n",
    "    reg_tree = DecisionTreeClassifier(criterion=clasificador,\n",
    "                                          max_depth=max_depth,\n",
    "                                          min_samples_leaf=10,\n",
    "                                          random_state=42)\n",
    "    tree_pipeline = Pipeline(steps=[('preprocessor', preprocessor),('classifier', reg_tree)])\n",
    "    train_scores[max_depth], val_scores[max_depth], leaves[max_depth] = [],[], []\n",
    "    for train_idx, test_idx in k_fold.split(X_train_a,y_train_a):\n",
    "        X_t, y_t,  = X_train_a.iloc[train_idx], y_train_a.iloc[train_idx]\n",
    "        X_te, y_te = X_train_a.iloc[test_idx], y_train_a.iloc[test_idx]\n",
    "        tree_pipeline.fit(X_t, y_t)\n",
    "        train_pred = tree_pipeline.predict_proba(X=X_t)[:, 1]\n",
    "        train_score = roc_auc_score(y_score=train_pred, y_true=y_t)\n",
    "        #print(train_score)\n",
    "        train_scores[max_depth].append(train_score)\n",
    "\n",
    "        test_pred = tree_pipeline.predict_proba(X=X_te)[:, 1]\n",
    "        val_score = roc_auc_score(y_score=test_pred, y_true=y_te)\n",
    "        val_scores[max_depth].append(val_score)  \n",
    "        #print(val_score)\n",
    "        leaves[max_depth].append(max_depth)\n",
    "        #reg_tree.fit(X=X_t, y=y_t)\n",
    "\n",
    "        \n",
    "        #train_scores[max_depth].append(train_score)\n",
    "\n",
    "        #test_pred = reg_tree.predict(X=X_test)\n",
    "        #val_score = np.sqrt(mean_squared_error(\n",
    "        #    y_pred=test_pred, y_true=y_test))\n",
    "        #val_scores[max_depth].append(val_score)\n",
    "        #leaves[max_depth].append(get_leaves_count(reg_tree))"
   ]
  },
  {
   "cell_type": "code",
   "execution_count": 89,
   "metadata": {},
   "outputs": [],
   "source": [
    "clf_train_scores = pd.DataFrame(train_scores)\n",
    "clf_valid_scores = pd.DataFrame(val_scores)\n",
    "bd_leaves = pd.DataFrame(leaves)"
   ]
  },
  {
   "cell_type": "code",
   "execution_count": 90,
   "metadata": {},
   "outputs": [],
   "source": [
    "roc_entrenamiento=[]\n",
    "for c in clf_train_scores.columns:\n",
    "    promedio_roc=mean(clf_train_scores[c])\n",
    "    roc_entrenamiento.append(promedio_roc)\n",
    "    \n",
    "roc_validacion=[]\n",
    "for c in clf_valid_scores.columns:\n",
    "    promedio_roc=mean(clf_valid_scores[c])\n",
    "    roc_validacion.append(promedio_roc)\n",
    "\n",
    "prof=[]\n",
    "for c in bd_leaves.columns:\n",
    "    id_=mean(bd_leaves[c])\n",
    "    prof.append(id_)\n"
   ]
  },
  {
   "cell_type": "code",
   "execution_count": 91,
   "metadata": {},
   "outputs": [
    {
     "data": {
      "image/png": "[encoded data removed]",
      "text/plain": [
       "<Figure size 720x360 with 1 Axes>"
      ]
     },
     "metadata": {
      "needs_background": "light"
     },
     "output_type": "display_data"
    }
   ],
   "source": [
    "fig, ax = plt.subplots(figsize=(10,5))\n",
    "\n",
    "ax.set_title(\"Entrenamiento Validación Sesgo\",fontsize=20)\n",
    "ax.plot(prof,roc_entrenamiento,color=\"blue\",linewidth=1,label=\"Entrenamiento\")\n",
    "ax.plot(prof,roc_validacion,color=\"red\",linewidth=1,label=\"Validacion\")\n",
    "#gca().yaxis.set_major_formatter(\"{x:,.0%}\")\n",
    "#xticks(fontsize=16)\n",
    "#yticks(fontsize=16)\n",
    "#axvline(4)\n",
    "legend(fontsize=15)\n",
    "show()"
   ]
  },
  {
   "cell_type": "code",
   "execution_count": 92,
   "metadata": {},
   "outputs": [],
   "source": [
    "reg_tree = DecisionTreeClassifier(criterion=clasificador,\n",
    "                                          max_depth=profundidad,\n",
    "                                          min_samples_leaf=minhojas,\n",
    "                                          random_state=42)\n",
    "tree_pipeline = Pipeline(steps=[('preprocessor', preprocessor),('classifier', reg_tree)])"
   ]
  },
  {
   "cell_type": "code",
   "execution_count": 93,
   "metadata": {},
   "outputs": [
    {
     "data": {
      "image/png": "[encoded data removed]",
      "text/plain": [
       "<Figure size 864x432 with 2 Axes>"
      ]
     },
     "metadata": {
      "needs_background": "light"
     },
     "output_type": "display_data"
    }
   ],
   "source": [
    "tree_pipeline.fit(X_train_a, y_train_a)\n",
    "\n",
    "tree_perf = performance_evaluation_report(tree_pipeline, X_test_a, \n",
    "                                          y_test_a, labels=LABELS, \n",
    "                                          show_plot=True)"
   ]
  },
  {
   "cell_type": "markdown",
   "metadata": {},
   "source": [
    "# CROSS VALIDATION"
   ]
  },
  {
   "cell_type": "markdown",
   "metadata": {},
   "source": [
    "Definimos la siguiente función para facilitar la implementación del K-Fold Cross Validation dado un modelo, las covariables, la respuesta y una lista de diferentes k's"
   ]
  },
  {
   "cell_type": "code",
   "execution_count": 114,
   "metadata": {},
   "outputs": [],
   "source": [
    "def Crossv(model,X,y,cv_list):\n",
    "    for i in cv_list:\n",
    "        scores=cross_val_score(model, X, y, cv=i)\n",
    "        aux=scores.mean()\n",
    "        print(\"Con {0}-fold cross validation: {1}\".format(i,aux))\n",
    "    return    "
   ]
  },
  {
   "cell_type": "markdown",
   "metadata": {},
   "source": [
    "Primero procedemos con el árbol:"
   ]
  },
  {
   "cell_type": "code",
   "execution_count": 136,
   "metadata": {},
   "outputs": [],
   "source": [
    "tree=DecisionTreeClassifier(criterion=clasificador,\n",
    "                                          max_depth=profundidad,\n",
    "                                          min_samples_leaf=minhojas,\n",
    "                                          random_state=42)\n",
    "tree_pipeline2 = Pipeline(steps=[('preprocessor', preprocessor),('classifier', reg_tree)])"
   ]
  },
  {
   "cell_type": "code",
   "execution_count": 134,
   "metadata": {},
   "outputs": [
    {
     "name": "stdout",
     "output_type": "stream",
     "text": [
      "Con 5-fold cross validation: 0.9973000000000001\n",
      "Con 10-fold cross validation: 0.9947000000000001\n",
      "Con 100-fold cross validation: 0.9970399999999999\n"
     ]
    }
   ],
   "source": [
    "Crossv(tree_pipeline2,Xa,ya,[5,10,100])"
   ]
  },
  {
   "cell_type": "markdown",
   "metadata": {},
   "source": [
    "Ahora, trabajamos con la regresión:"
   ]
  },
  {
   "cell_type": "code",
   "execution_count": 101,
   "metadata": {},
   "outputs": [],
   "source": [
    "reg_cv=LogisticRegression()"
   ]
  },
  {
   "cell_type": "code",
   "execution_count": 104,
   "metadata": {},
   "outputs": [],
   "source": [
    "yw=base_woep.pop(\"Respuesta\")"
   ]
  },
  {
   "cell_type": "code",
   "execution_count": 135,
   "metadata": {},
   "outputs": [
    {
     "name": "stdout",
     "output_type": "stream",
     "text": [
      "Con 5-fold cross validation: 0.8402800000000001\n",
      "Con 10-fold cross validation: 0.8409800000000001\n",
      "Con 100-fold cross validation: 0.8410400000000001\n"
     ]
    }
   ],
   "source": [
    "Crossv(reg_cv,base_woep,yw,[5,10,100])"
   ]
  },
  {
   "cell_type": "markdown",
   "metadata": {},
   "source": [
    "| K-Fold | Regresión Logística | Árbol de Decisión |\n",
    "| :-: | :-: | :-: |\n",
    "| 5 | 0.8402800000000001 | 0.9973000000000001 |\n",
    "| 10 | 0.8409800000000001 | 0.9947000000000001 |\n",
    "| 100 | 0.8410400000000001 | 0.9970399999999999 |"
   ]
  },
  {
   "cell_type": "markdown",
   "metadata": {},
   "source": [
    "## CONCLUSIONES"
   ]
  },
  {
   "cell_type": "markdown",
   "metadata": {},
   "source": [
    "Como podemos observar, corrimos tres versiones de K-Fold Cross Validation para el modelo de Regresión Logística y lo mismo para el Árbol de Decisión, donde arbitrariamente escogimos 5,10 y 100 folds.\n",
    "\n",
    "Los resultados de la tabla anterior son los promedios del accuracy de cada iteración del Cross Validation. De esta manera, se puede apreciar que el Árbol de Decisión se desempeñó mejor en comparación con la Regresión Logística, ya que en todos los casos, su accuracy supera al de su contrincante; concluyendo así que el __Árbol de Decisión__ es un mejor modelo para los datos trabajados. "
   ]
  }
 ],
 "metadata": {
  "kernelspec": {
   "display_name": "Python 3",
   "language": "python",
   "name": "python3"
  },
  "language_info": {
   "codemirror_mode": {
    "name": "ipython",
    "version": 3
   },
   "file_extension": ".py",
   "mimetype": "text/x-python",
   "name": "python",
   "nbconvert_exporter": "python",
   "pygments_lexer": "ipython3",
   "version": "3.8.5"
  }
 },
 "nbformat": 4,
 "nbformat_minor": 4
}
